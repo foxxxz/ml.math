{
 "cells": [
  {
   "cell_type": "code",
   "execution_count": 1,
   "metadata": {},
   "outputs": [],
   "source": [
    "import numpy as np\n",
    "import pandas as pd\n",
    "import matplotlib.pyplot as plt\n",
    "from sklearn import datasets"
   ]
  },
  {
   "cell_type": "code",
   "execution_count": 2,
   "metadata": {},
   "outputs": [],
   "source": [
    "iris = datasets.load_iris()"
   ]
  },
  {
   "cell_type": "code",
   "execution_count": 3,
   "metadata": {},
   "outputs": [
    {
     "data": {
      "text/html": [
       "<div>\n",
       "<style scoped>\n",
       "    .dataframe tbody tr th:only-of-type {\n",
       "        vertical-align: middle;\n",
       "    }\n",
       "\n",
       "    .dataframe tbody tr th {\n",
       "        vertical-align: top;\n",
       "    }\n",
       "\n",
       "    .dataframe thead th {\n",
       "        text-align: right;\n",
       "    }\n",
       "</style>\n",
       "<table border=\"1\" class=\"dataframe\">\n",
       "  <thead>\n",
       "    <tr style=\"text-align: right;\">\n",
       "      <th></th>\n",
       "      <th>sepal_length</th>\n",
       "      <th>sepal_width</th>\n",
       "      <th>petal_length</th>\n",
       "      <th>petal_width</th>\n",
       "      <th>label</th>\n",
       "      <th>name</th>\n",
       "    </tr>\n",
       "  </thead>\n",
       "  <tbody>\n",
       "    <tr>\n",
       "      <th>95</th>\n",
       "      <td>5.7</td>\n",
       "      <td>3.0</td>\n",
       "      <td>4.2</td>\n",
       "      <td>1.2</td>\n",
       "      <td>1</td>\n",
       "      <td>versicolor</td>\n",
       "    </tr>\n",
       "    <tr>\n",
       "      <th>96</th>\n",
       "      <td>5.7</td>\n",
       "      <td>2.9</td>\n",
       "      <td>4.2</td>\n",
       "      <td>1.3</td>\n",
       "      <td>1</td>\n",
       "      <td>versicolor</td>\n",
       "    </tr>\n",
       "    <tr>\n",
       "      <th>97</th>\n",
       "      <td>6.2</td>\n",
       "      <td>2.9</td>\n",
       "      <td>4.3</td>\n",
       "      <td>1.3</td>\n",
       "      <td>1</td>\n",
       "      <td>versicolor</td>\n",
       "    </tr>\n",
       "    <tr>\n",
       "      <th>98</th>\n",
       "      <td>5.1</td>\n",
       "      <td>2.5</td>\n",
       "      <td>3.0</td>\n",
       "      <td>1.1</td>\n",
       "      <td>1</td>\n",
       "      <td>versicolor</td>\n",
       "    </tr>\n",
       "    <tr>\n",
       "      <th>99</th>\n",
       "      <td>5.7</td>\n",
       "      <td>2.8</td>\n",
       "      <td>4.1</td>\n",
       "      <td>1.3</td>\n",
       "      <td>1</td>\n",
       "      <td>versicolor</td>\n",
       "    </tr>\n",
       "  </tbody>\n",
       "</table>\n",
       "</div>"
      ],
      "text/plain": [
       "    sepal_length  sepal_width  petal_length  petal_width  label        name\n",
       "95           5.7          3.0           4.2          1.2      1  versicolor\n",
       "96           5.7          2.9           4.2          1.3      1  versicolor\n",
       "97           6.2          2.9           4.3          1.3      1  versicolor\n",
       "98           5.1          2.5           3.0          1.1      1  versicolor\n",
       "99           5.7          2.8           4.1          1.3      1  versicolor"
      ]
     },
     "execution_count": 3,
     "metadata": {},
     "output_type": "execute_result"
    }
   ],
   "source": [
    "df = pd.DataFrame(iris.data, columns=iris.feature_names)\n",
    "df['label'] = iris.target\n",
    "temp = pd.DataFrame(np.array([[0,1,2], iris.target_names]).T, columns=['label', 'name'])\n",
    "temp.label = temp.label.astype('int')\n",
    "df = pd.merge(df, temp, on='label', how='left') \n",
    "df = df[df.label.isin([0,1])]\n",
    "df.columns = pd.Series(df.columns).str.replace(' \\(cm\\)', '')\n",
    "df.columns = ['_'.join(x for x in col) for col in df.columns.str.split(' ')] \n",
    "df.tail()"
   ]
  },
  {
   "cell_type": "markdown",
   "metadata": {},
   "source": [
    "<br>\n",
    "Build samples"
   ]
  },
  {
   "cell_type": "code",
   "execution_count": 4,
   "metadata": {},
   "outputs": [
    {
     "data": {
      "text/plain": [
       "(100, 2)"
      ]
     },
     "execution_count": 4,
     "metadata": {},
     "output_type": "execute_result"
    }
   ],
   "source": [
    "samples = np.array([df.sepal_length, df.sepal_width]).T\n",
    "samples.shape"
   ]
  },
  {
   "cell_type": "code",
   "execution_count": 5,
   "metadata": {
    "scrolled": true
   },
   "outputs": [
    {
     "data": {
      "text/plain": [
       "array([[5.1, 3.5],\n",
       "       [4.9, 3. ],\n",
       "       [4.7, 3.2],\n",
       "       [4.6, 3.1],\n",
       "       [5. , 3.6]])"
      ]
     },
     "execution_count": 5,
     "metadata": {},
     "output_type": "execute_result"
    }
   ],
   "source": [
    "samples[:5,:]"
   ]
  },
  {
   "cell_type": "markdown",
   "metadata": {},
   "source": [
    "<br>\n",
    "<br>\n",
    "<br>\n",
    "<br>"
   ]
  },
  {
   "cell_type": "markdown",
   "metadata": {},
   "source": [
    "### K-means"
   ]
  },
  {
   "cell_type": "markdown",
   "metadata": {},
   "source": [
    "\\begin{align}\n",
    "\\Omega = \\min\\sum_{i=0}^{n}\\min_{\\mu_j \\in C}(||x_j - \\mu_i||^2) \\\\\n",
    "\\mu_0 = \\text{one of} \\space x_i \\\\\n",
    "\\end{align}"
   ]
  },
  {
   "cell_type": "markdown",
   "metadata": {},
   "source": [
    "<br>\n",
    "<br>\n",
    "<br>\n",
    "<br>"
   ]
  },
  {
   "cell_type": "markdown",
   "metadata": {},
   "source": [
    "<br>\n",
    "Define Distance"
   ]
  },
  {
   "cell_type": "markdown",
   "metadata": {},
   "source": [
    "\\begin{aligned}\n",
    "d(\\mathbf {p} ,\\mathbf {q} )=d(\\mathbf {q} ,\\mathbf {p} )&={{(q_{1}-p_{1})^{2}+(q_{2}-p_{2})^{2}+\\cdots +(q_{n}-p_{n})^{2}}}\\\\[8pt]&={{\\sum _{i=1}^{n}(q_{i}-p_{i})^{2}}}.\n",
    "\\end{aligned}"
   ]
  },
  {
   "cell_type": "code",
   "execution_count": 6,
   "metadata": {},
   "outputs": [],
   "source": [
    "squared_euclidean_distance = lambda a, b: np.sum(np.power(a - b, 2))"
   ]
  },
  {
   "cell_type": "markdown",
   "metadata": {},
   "source": [
    "<br>\n",
    "<br>\n",
    "<br>\n",
    "<br>"
   ]
  },
  {
   "cell_type": "code",
   "execution_count": 7,
   "metadata": {},
   "outputs": [],
   "source": [
    "def kmeans(samples, n_clusters, metric='auto', max_iter=100, init='random', random_state='random'):\n",
    "    centroids_path = []\n",
    "    label_path = []\n",
    "    loss_path = []\n",
    "    \n",
    "    if random_state != 'random':\n",
    "        np.random.seed(random_state)\n",
    "    if init == 'random':\n",
    "        init = np.random.randint(len(samples), size=n_clusters)\n",
    "    else:\n",
    "        pass\n",
    "    centroids = [samples[x] for x in init]\n",
    "    dist = np.zeros((len(samples), n_clusters))\n",
    "\n",
    "    for i in range(max_iter):\n",
    "        for j, c in enumerate(centroids):\n",
    "            if metric == 'auto':\n",
    "                dist[:,j] = [squared_euclidean_distance(c, val) for val in samples]\n",
    "            else:\n",
    "                dist[:,j] = [metric(c, val) for val in samples]\n",
    "        label = np.array([np.argmin(d) for d in dist])\n",
    "        label_path.append(label)\n",
    "        centroids_path.append(centroids)\n",
    "\n",
    "        # update centroids\n",
    "        centroids = []\n",
    "        for k in range(n_clusters):\n",
    "            cluster = samples[label == k]\n",
    "            centroids.append(np.mean(cluster, axis=0))\n",
    "        \n",
    "        # calculate loss\n",
    "        inertia = np.sum(np.min(d) for d in dist)\n",
    "        loss_path.append(inertia)\n",
    "        \n",
    "        # termination condition\n",
    "        if np.array_equal(centroids_path[-1], centroids):\n",
    "            break\n",
    "    \n",
    "    print('{} iterations'.format(i+1))\n",
    "    return centroids, label, inertia, centroids_path, label_path, loss_path"
   ]
  },
  {
   "cell_type": "code",
   "execution_count": 8,
   "metadata": {},
   "outputs": [
    {
     "name": "stdout",
     "output_type": "stream",
     "text": [
      "6 iterations\n"
     ]
    }
   ],
   "source": [
    "k = 2\n",
    "centroids, label, inertia, centroids_path, label_path, loss_path = kmeans(samples=samples,\n",
    "                                                                         n_clusters=2,\n",
    "                                                                         metric='auto',\n",
    "                                                                         max_iter=100,\n",
    "                                                                         init='random',\n",
    "                                                                         random_state=0)"
   ]
  },
  {
   "cell_type": "code",
   "execution_count": 9,
   "metadata": {},
   "outputs": [],
   "source": [
    "cnt = 0"
   ]
  },
  {
   "cell_type": "code",
   "execution_count": 10,
   "metadata": {},
   "outputs": [
    {
     "name": "stdout",
     "output_type": "stream",
     "text": [
      "1\n"
     ]
    },
    {
     "data": {
      "image/png": "[encoded data removed]",
      "text/plain": [
       "<matplotlib.figure.Figure at 0x7f8156c34940>"
      ]
     },
     "metadata": {},
     "output_type": "display_data"
    }
   ],
   "source": [
    "if cnt != len(centroids_path):\n",
    "    res = df.copy()\n",
    "    res.label = label_path[cnt]\n",
    "    centroid = np.array(centroids_path[cnt])\n",
    "    print(cnt+1)\n",
    "\n",
    "plt.figure(figsize=(10,4))\n",
    "plt.subplot(1,2,1)\n",
    "for lb in range(k):\n",
    "    plt.scatter(x='sepal_length', y='sepal_width', data=res[res.label==lb], alpha=.5)\n",
    "plt.scatter(x=centroid[:,0], y=centroid[:,1], marker='*', c='r', s=50)\n",
    "plt.subplot(1,2,2)\n",
    "plt.plot(np.arange(cnt+1), loss_path[:cnt+1])\n",
    "plt.xlim(-.5, len(centroids_path))\n",
    "plt.text(x=0, y=loss_path[cnt], s=round(loss_path[cnt], 3))\n",
    "plt.xlabel('inertia')\n",
    "plt.tight_layout()\n",
    "plt.show()\n",
    "cnt += 1"
   ]
  },
  {
   "cell_type": "markdown",
   "metadata": {},
   "source": [
    "<br>\n",
    "Scikit-Learn  \n",
    "http://scikit-learn.org/stable/modules/generated/sklearn.cluster.KMeans.html"
   ]
  },
  {
   "cell_type": "code",
   "execution_count": 11,
   "metadata": {},
   "outputs": [],
   "source": [
    "from sklearn.cluster import KMeans"
   ]
  },
  {
   "cell_type": "code",
   "execution_count": 12,
   "metadata": {},
   "outputs": [],
   "source": [
    "k=2\n",
    "km = KMeans(n_clusters=k, init=\"random\", max_iter=100, random_state=0).fit(samples)"
   ]
  },
  {
   "cell_type": "code",
   "execution_count": 13,
   "metadata": {
    "scrolled": true
   },
   "outputs": [
    {
     "data": {
      "image/png": "[encoded data removed]",
      "text/plain": [
       "<matplotlib.figure.Figure at 0x7f814ab520f0>"
      ]
     },
     "metadata": {},
     "output_type": "display_data"
    }
   ],
   "source": [
    "res = df.copy()\n",
    "res.label = km.labels_\n",
    "for lb in range(k):\n",
    "    plt.scatter(x='sepal_length', y='sepal_width', data=res[res.label==lb], alpha=.5)\n",
    "plt.scatter(x=km.cluster_centers_[:,0], y=km.cluster_centers_[:,1], marker='*', c='r', s=50)\n",
    "plt.show()"
   ]
  },
  {
   "cell_type": "markdown",
   "metadata": {},
   "source": [
    "<br>\n",
    "<br>\n",
    "<br>\n",
    "<br>"
   ]
  },
  {
   "cell_type": "markdown",
   "metadata": {},
   "source": [
    "#### Distance Metrices"
   ]
  },
  {
   "cell_type": "markdown",
   "metadata": {},
   "source": [
    "Euclidean Distance"
   ]
  },
  {
   "cell_type": "markdown",
   "metadata": {},
   "source": [
    "\\begin{aligned}\n",
    "d(\\mathbf {p} ,\\mathbf {q} )=d(\\mathbf {q} ,\\mathbf {p} )&={\\sqrt {(q_{1}-p_{1})^{2}+(q_{2}-p_{2})^{2}+\\cdots +(q_{n}-p_{n})^{2}}}\\\\[8pt]&={\\sqrt {\\sum _{i=1}^{n}(q_{i}-p_{i})^{2}}}.\n",
    "\\end{aligned}"
   ]
  },
  {
   "cell_type": "code",
   "execution_count": 14,
   "metadata": {},
   "outputs": [],
   "source": [
    "euclidean_distance = lambda a, b: np.sqrt(np.sum(np.power(a - b, 2)))"
   ]
  },
  {
   "cell_type": "code",
   "execution_count": 15,
   "metadata": {},
   "outputs": [
    {
     "name": "stdout",
     "output_type": "stream",
     "text": [
      "6 iterations\n"
     ]
    }
   ],
   "source": [
    "centroids, label, inertia, centroids_path, label_path, loss_path = kmeans(samples=samples,\n",
    "                                                                         n_clusters=2,\n",
    "                                                                         metric=euclidean_distance,\n",
    "                                                                         max_iter=100,\n",
    "                                                                         init='random',\n",
    "                                                                         random_state=0)"
   ]
  },
  {
   "cell_type": "code",
   "execution_count": 16,
   "metadata": {
    "scrolled": true
   },
   "outputs": [
    {
     "data": {
      "image/png": "[encoded data removed]",
      "text/plain": [
       "<matplotlib.figure.Figure at 0x7f8148e9f550>"
      ]
     },
     "metadata": {},
     "output_type": "display_data"
    }
   ],
   "source": [
    "plt.figure(figsize=(10,4))\n",
    "plt.subplot(1,2,1)\n",
    "res = df.copy()\n",
    "res.label = label\n",
    "for lb in range(k):\n",
    "    plt.scatter(x='sepal_length', y='sepal_width', data=res[res.label==lb], alpha=.5)\n",
    "plt.scatter(x=np.array(centroids)[:,0], y=np.array(centroids)[:,1], marker='*', c='r', s=50)\n",
    "plt.subplot(1,2,2)\n",
    "plt.plot(np.arange(len(loss_path)), loss_path)\n",
    "plt.xlim(-.5, len(loss_path))\n",
    "plt.text(x=0, y=loss_path[-1], s=round(loss_path[-1], 3))\n",
    "plt.xlabel('inertia')\n",
    "plt.tight_layout()\n",
    "plt.show()"
   ]
  },
  {
   "cell_type": "markdown",
   "metadata": {},
   "source": [
    "<br>\n",
    "<br>\n",
    "<br>\n",
    "<br>"
   ]
  },
  {
   "cell_type": "markdown",
   "metadata": {},
   "source": [
    "<br>\n",
    "<br>\n",
    "<br>\n",
    "<br>"
   ]
  },
  {
   "cell_type": "markdown",
   "metadata": {},
   "source": [
    "<br>\n",
    "Cosine Distance"
   ]
  },
  {
   "cell_type": "markdown",
   "metadata": {},
   "source": [
    "\\begin{align}\n",
    "d(\\mathbf {p} ,\\mathbf {q} ) &= 1 - \\cos(\\theta ) \\\\\n",
    "&= 1 - \\frac{\\mathbf {a} \\cdot \\mathbf {b}} {\\|\\mathbf {a} \\|\\|\\mathbf {b} \\|} \\\\\n",
    "\\end{align}"
   ]
  },
  {
   "cell_type": "code",
   "execution_count": 17,
   "metadata": {},
   "outputs": [],
   "source": [
    "def cosine_distance(a, b):\n",
    "    magnitude_a = euclidean_distance(np.zeros(2), a)\n",
    "    magnitude_b = euclidean_distance(np.zeros(2), b)\n",
    "    inner_product = np.dot(a, b)\n",
    "    return 1 - (inner_product / (magnitude_a * magnitude_b))"
   ]
  },
  {
   "cell_type": "code",
   "execution_count": 18,
   "metadata": {},
   "outputs": [
    {
     "name": "stdout",
     "output_type": "stream",
     "text": [
      "4 iterations\n"
     ]
    }
   ],
   "source": [
    "centroid, label, inertia, centroids_path, label_path, loss_path = kmeans(samples=samples,\n",
    "                                                                         n_clusters=2,\n",
    "                                                                         metric=cosine_distance,\n",
    "                                                                         max_iter=100,\n",
    "                                                                         init='random',\n",
    "                                                                         random_state=0)"
   ]
  },
  {
   "cell_type": "code",
   "execution_count": 19,
   "metadata": {
    "scrolled": true
   },
   "outputs": [
    {
     "data": {
      "image/png": "[encoded data removed]",
      "text/plain": [
       "<matplotlib.figure.Figure at 0x7f8148e9f5f8>"
      ]
     },
     "metadata": {},
     "output_type": "display_data"
    }
   ],
   "source": [
    "plt.figure(figsize=(10,4))\n",
    "plt.subplot(1,2,1)\n",
    "res = df.copy()\n",
    "res.label = label\n",
    "for lb in range(k):\n",
    "    plt.scatter(x='sepal_length', y='sepal_width', data=res[res.label==lb], alpha=.5)\n",
    "plt.scatter(x=np.array(centroid)[:,0], y=np.array(centroid)[:,1], marker='*', c='r', s=50)\n",
    "plt.subplot(1,2,2)\n",
    "plt.plot(np.arange(len(loss_path)), loss_path)\n",
    "plt.xlim(-.5, len(loss_path))\n",
    "plt.text(x=0, y=loss_path[-1], s=round(loss_path[-1], 3))\n",
    "plt.xlabel('inertia')\n",
    "plt.tight_layout()\n",
    "plt.show()"
   ]
  },
  {
   "cell_type": "markdown",
   "metadata": {},
   "source": [
    "<br>\n",
    "<br>\n",
    "<br>\n",
    "<br>"
   ]
  },
  {
   "cell_type": "markdown",
   "metadata": {},
   "source": [
    "### DBSCAN\n",
    "Density-Based Spatial Clustering of Applications with Noise  \n",
    "https://en.wikipedia.org/wiki/DBSCAN"
   ]
  },
  {
   "cell_type": "markdown",
   "metadata": {},
   "source": [
    "<img src='https://upload.wikimedia.org/wikipedia/commons/thumb/a/af/DBSCAN-Illustration.svg/800px-DBSCAN-Illustration.svg.png'  height=\"300\" width=\"300\">"
   ]
  },
  {
   "cell_type": "markdown",
   "metadata": {},
   "source": [
    "- Find the ε (eps) neighbors of every point, and identify the core points with more than minPts neighbors.\n",
    "- Find the connected components of core points on the neighbor graph, ignoring all non-core points.\n",
    "- Assign each non-core point to a nearby cluster if the cluster is an ε (eps) neighbor, otherwise assign it to noise."
   ]
  },
  {
   "cell_type": "markdown",
   "metadata": {},
   "source": [
    "<br>\n",
    "<br>\n",
    "<br>\n",
    "<br>"
   ]
  },
  {
   "cell_type": "markdown",
   "metadata": {},
   "source": [
    "\\begin{align}\n",
    "F(c_i \\space|\\space \\epsilon, minPts) \n",
    "\\end{align}"
   ]
  },
  {
   "cell_type": "markdown",
   "metadata": {},
   "source": [
    "<br>\n",
    "<br>\n",
    "<br>\n",
    "<br>"
   ]
  },
  {
   "cell_type": "code",
   "execution_count": 20,
   "metadata": {
    "scrolled": true
   },
   "outputs": [],
   "source": [
    "def dbscan(samples, eps, min_samples, metric='euclidean'):\n",
    "    if metric == 'euclidean':\n",
    "        metric = euclidean_distance\n",
    "    elif metric == 'cosine':\n",
    "        metric = cosine_distance\n",
    "    label = np.zeros(len(samples))\n",
    "    c_count = 0\n",
    "\n",
    "    seed = {}\n",
    "    noise = []\n",
    "\n",
    "    for i, val in enumerate(samples):\n",
    "        # calculate distance\n",
    "        dist = np.array([metric(val, x) for x in samples])\n",
    "        #density check\n",
    "        valid_idx = np.argwhere(dist < eps).T[0]\n",
    "        valid_cnt = len(valid_idx)\n",
    "        if valid_cnt < min_samples:\n",
    "            noise.append(i)\n",
    "        else:\n",
    "            seed.update({i:valid_idx})\n",
    "\n",
    "    # identify noise\n",
    "    label[noise] = - 1\n",
    "\n",
    "    # label clusters\n",
    "    key_cand = list(seed.keys())\n",
    "    # for key in key_cand:\n",
    "    while(len(key_cand) != 0):\n",
    "        key = key_cand[0]\n",
    "        neighbors = seed[key]\n",
    "        \n",
    "        cnt = 0\n",
    "        while cnt != len(np.unique(neighbors)):\n",
    "            try:\n",
    "                to_add = np.array(list(set(seed[neighbors[cnt]]) - set(neighbors)))\n",
    "            except:\n",
    "                # label border\n",
    "                label[neighbors[cnt]] = c_count\n",
    "            if len(to_add) != 0:\n",
    "                neighbors = np.append(neighbors, to_add)\n",
    "            cnt += 1\n",
    "\n",
    "        label[neighbors] = c_count\n",
    "        c_count += 1\n",
    "        # ignore indices visited\n",
    "        key_cand = list(set(key_cand) - set(neighbors))\n",
    "        \n",
    "    return label, noise, seed"
   ]
  },
  {
   "cell_type": "code",
   "execution_count": 21,
   "metadata": {
    "scrolled": true
   },
   "outputs": [],
   "source": [
    "label, noise, seed = dbscan(samples=samples,\n",
    "                       eps=0.4,\n",
    "                       min_samples=13,\n",
    "                       metric='euclidean')"
   ]
  },
  {
   "cell_type": "code",
   "execution_count": 22,
   "metadata": {
    "scrolled": true
   },
   "outputs": [
    {
     "data": {
      "image/png": "[encoded data removed]",
      "text/plain": [
       "<matplotlib.figure.Figure at 0x7f8148e7e470>"
      ]
     },
     "metadata": {},
     "output_type": "display_data"
    }
   ],
   "source": [
    "plt.figure(figsize=(10,4))\n",
    "plt.subplot(1,2,1)\n",
    "res = df.copy()\n",
    "res.label = label\n",
    "for lb in np.unique(label):\n",
    "    plt.scatter(x='sepal_length', y='sepal_width', data=res[res.label==lb], alpha=.5)\n",
    "plt.tight_layout()\n",
    "plt.show()"
   ]
  },
  {
   "cell_type": "markdown",
   "metadata": {},
   "source": [
    "<br>\n",
    "Scikit-Learn  \n",
    "http://scikit-learn.org/stable/modules/generated/sklearn.cluster.DBSCAN.html"
   ]
  },
  {
   "cell_type": "code",
   "execution_count": 23,
   "metadata": {},
   "outputs": [],
   "source": [
    "from sklearn.cluster import DBSCAN"
   ]
  },
  {
   "cell_type": "code",
   "execution_count": 24,
   "metadata": {},
   "outputs": [],
   "source": [
    "db = DBSCAN(eps=0.4, min_samples=13, metric='euclidean').fit(samples)"
   ]
  },
  {
   "cell_type": "code",
   "execution_count": 25,
   "metadata": {
    "scrolled": true
   },
   "outputs": [
    {
     "data": {
      "image/png": "[encoded data removed]",
      "text/plain": [
       "<matplotlib.figure.Figure at 0x7f8148e09a20>"
      ]
     },
     "metadata": {},
     "output_type": "display_data"
    }
   ],
   "source": [
    "res = df.copy()\n",
    "res.label = db.labels_\n",
    "for lb in np.unique(db.labels_):\n",
    "    plt.scatter(x='sepal_length', y='sepal_width', data=res[res.label==lb], alpha=.5)\n",
    "plt.show()"
   ]
  }
 ],
 "metadata": {
  "kernelspec": {
   "display_name": "Python 3",
   "language": "python",
   "name": "python3"
  },
  "language_info": {
   "codemirror_mode": {
    "name": "ipython",
    "version": 3
   },
   "file_extension": ".py",
   "mimetype": "text/x-python",
   "name": "python",
   "nbconvert_exporter": "python",
   "pygments_lexer": "ipython3",
   "version": "3.6.4"
  }
 },
 "nbformat": 4,
 "nbformat_minor": 2
}
