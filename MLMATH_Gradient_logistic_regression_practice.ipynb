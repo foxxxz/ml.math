{
 "cells": [
  {
   "cell_type": "code",
   "execution_count": 1,
   "metadata": {},
   "outputs": [],
   "source": [
    "import numpy as np\n",
    "import pandas as pd\n",
    "import matplotlib.pyplot as plt\n",
    "from sklearn import datasets"
   ]
  },
  {
   "cell_type": "code",
   "execution_count": 2,
   "metadata": {},
   "outputs": [],
   "source": [
    "iris = datasets.load_iris()"
   ]
  },
  {
   "cell_type": "code",
   "execution_count": 3,
   "metadata": {
    "scrolled": false
   },
   "outputs": [
    {
     "data": {
      "text/html": [
       "<div>\n",
       "<style scoped>\n",
       "    .dataframe tbody tr th:only-of-type {\n",
       "        vertical-align: middle;\n",
       "    }\n",
       "\n",
       "    .dataframe tbody tr th {\n",
       "        vertical-align: top;\n",
       "    }\n",
       "\n",
       "    .dataframe thead th {\n",
       "        text-align: right;\n",
       "    }\n",
       "</style>\n",
       "<table border=\"1\" class=\"dataframe\">\n",
       "  <thead>\n",
       "    <tr style=\"text-align: right;\">\n",
       "      <th></th>\n",
       "      <th>sepal_length</th>\n",
       "      <th>sepal_width</th>\n",
       "      <th>petal_length</th>\n",
       "      <th>petal_width</th>\n",
       "      <th>label</th>\n",
       "      <th>name</th>\n",
       "    </tr>\n",
       "  </thead>\n",
       "  <tbody>\n",
       "    <tr>\n",
       "      <th>0</th>\n",
       "      <td>5.1</td>\n",
       "      <td>3.5</td>\n",
       "      <td>1.4</td>\n",
       "      <td>0.2</td>\n",
       "      <td>0</td>\n",
       "      <td>setosa</td>\n",
       "    </tr>\n",
       "    <tr>\n",
       "      <th>1</th>\n",
       "      <td>4.9</td>\n",
       "      <td>3.0</td>\n",
       "      <td>1.4</td>\n",
       "      <td>0.2</td>\n",
       "      <td>0</td>\n",
       "      <td>setosa</td>\n",
       "    </tr>\n",
       "    <tr>\n",
       "      <th>2</th>\n",
       "      <td>4.7</td>\n",
       "      <td>3.2</td>\n",
       "      <td>1.3</td>\n",
       "      <td>0.2</td>\n",
       "      <td>0</td>\n",
       "      <td>setosa</td>\n",
       "    </tr>\n",
       "    <tr>\n",
       "      <th>3</th>\n",
       "      <td>4.6</td>\n",
       "      <td>3.1</td>\n",
       "      <td>1.5</td>\n",
       "      <td>0.2</td>\n",
       "      <td>0</td>\n",
       "      <td>setosa</td>\n",
       "    </tr>\n",
       "    <tr>\n",
       "      <th>4</th>\n",
       "      <td>5.0</td>\n",
       "      <td>3.6</td>\n",
       "      <td>1.4</td>\n",
       "      <td>0.2</td>\n",
       "      <td>0</td>\n",
       "      <td>setosa</td>\n",
       "    </tr>\n",
       "  </tbody>\n",
       "</table>\n",
       "</div>"
      ],
      "text/plain": [
       "   sepal_length  sepal_width  petal_length  petal_width  label    name\n",
       "0           5.1          3.5           1.4          0.2      0  setosa\n",
       "1           4.9          3.0           1.4          0.2      0  setosa\n",
       "2           4.7          3.2           1.3          0.2      0  setosa\n",
       "3           4.6          3.1           1.5          0.2      0  setosa\n",
       "4           5.0          3.6           1.4          0.2      0  setosa"
      ]
     },
     "execution_count": 3,
     "metadata": {},
     "output_type": "execute_result"
    }
   ],
   "source": [
    "df = pd.DataFrame(iris.data, columns=iris.feature_names)\n",
    "df['label'] = iris.target\n",
    "temp = pd.DataFrame(np.array([[0,1,2], iris.target_names]).T, columns=['label', 'name'])\n",
    "temp.label = temp.label.astype('int')\n",
    "df = pd.merge(df, temp, on='label', how='left') \n",
    "df = df[df.label.isin([0,1])]\n",
    "df.columns = pd.Series(df.columns).str.replace(' \\(cm\\)', '')\n",
    "df.columns = ['_'.join(x for x in col) for col in df.columns.str.split(' ')] \n",
    "df.head()"
   ]
  },
  {
   "cell_type": "code",
   "execution_count": 4,
   "metadata": {
    "scrolled": true
   },
   "outputs": [
    {
     "data": {
      "image/png": "[encoded data removed]",
      "text/plain": [
       "<matplotlib.figure.Figure at 0x7fbbfafa5748>"
      ]
     },
     "metadata": {},
     "output_type": "display_data"
    }
   ],
   "source": [
    "plt.scatter(x='sepal_length', y='sepal_width', data=df[df.label==0])\n",
    "plt.scatter(x='sepal_length', y='sepal_width', data=df[df.label==1])\n",
    "params = np.array([.5, -1.0, 0.5])\n",
    "x_space = np.linspace(4.2, 7.2, 100)\n",
    "y_space = x_space * (params[0] / - params[1]) + (params[2] / - params[1])\n",
    "plt.plot(x_space, y_space, c='r')\n",
    "plt.show()"
   ]
  },
  {
   "cell_type": "markdown",
   "metadata": {},
   "source": [
    "<br>\n",
    "<br>\n",
    "<br>\n",
    "<br>"
   ]
  },
  {
   "cell_type": "markdown",
   "metadata": {},
   "source": [
    "<br>\n",
    "<br>\n",
    "<br>\n",
    "<br>"
   ]
  },
  {
   "cell_type": "markdown",
   "metadata": {},
   "source": [
    "$$y = 2x + 1$$"
   ]
  },
  {
   "cell_type": "markdown",
   "metadata": {},
   "source": [
    "<br>\n",
    "<br>\n",
    "<br>\n",
    "<br>"
   ]
  },
  {
   "cell_type": "code",
   "execution_count": 5,
   "metadata": {},
   "outputs": [],
   "source": [
    "f = lambda x: 2 * x + 1"
   ]
  },
  {
   "cell_type": "code",
   "execution_count": 6,
   "metadata": {},
   "outputs": [
    {
     "data": {
      "image/png": "[encoded data removed]",
      "text/plain": [
       "<matplotlib.figure.Figure at 0x7fbc28254128>"
      ]
     },
     "metadata": {},
     "output_type": "display_data"
    }
   ],
   "source": [
    "x_space = np.linspace(-1, 2)\n",
    "y_space = f(x_space)\n",
    "plt.plot(x_space, y_space)\n",
    "plt.plot([-1, 2], [0, 0], c='r', alpha=.3)\n",
    "plt.plot([0, 0], [-1, 5], c='r', alpha=.3)\n",
    "#plt.scatter(x=[0],\n",
    "#            y=[1])\n",
    "plt.grid()\n",
    "plt.show()"
   ]
  },
  {
   "cell_type": "markdown",
   "metadata": {},
   "source": [
    "<br>\n",
    "<br>\n",
    "<br>\n",
    "<br>"
   ]
  },
  {
   "cell_type": "markdown",
   "metadata": {},
   "source": [
    "$$0 = 2x - y + 1$$"
   ]
  },
  {
   "cell_type": "markdown",
   "metadata": {},
   "source": [
    "<br>\n",
    "<br>\n",
    "<br>\n",
    "<br>"
   ]
  },
  {
   "cell_type": "markdown",
   "metadata": {},
   "source": [
    "$$0 \\neq 2x - y + 1 ?$$"
   ]
  },
  {
   "cell_type": "markdown",
   "metadata": {},
   "source": [
    "<br>\n",
    "<br>\n",
    "<br>\n",
    "<br>"
   ]
  },
  {
   "cell_type": "markdown",
   "metadata": {},
   "source": [
    "\\begin{align}\n",
    "z &= ax_1 + bx_2 + c \\\\\n",
    "&=wX\n",
    "\\end{align}"
   ]
  },
  {
   "cell_type": "code",
   "execution_count": 7,
   "metadata": {},
   "outputs": [],
   "source": [
    "x1 = df.sepal_length\n",
    "x2 = df.sepal_width\n",
    "intercept = np.array([1] * len(df))"
   ]
  },
  {
   "cell_type": "markdown",
   "metadata": {},
   "source": [
    "<br>\n",
    "\\begin{align}\n",
    "sigmoid(z) &= \\frac {1}{1+e^{-z}}\n",
    "\\end{align}"
   ]
  },
  {
   "cell_type": "code",
   "execution_count": 8,
   "metadata": {},
   "outputs": [],
   "source": [
    "sigmoid = # (write your code here)"
   ]
  },
  {
   "cell_type": "code",
   "execution_count": 9,
   "metadata": {},
   "outputs": [
    {
     "data": {
      "image/png": "[encoded data removed]",
      "text/plain": [
       "<matplotlib.figure.Figure at 0x7fbbfaf88cc0>"
      ]
     },
     "metadata": {},
     "output_type": "display_data"
    }
   ],
   "source": [
    "x_space = np.linspace(-6, 6, 200)\n",
    "y_space = [sigmoid(x) for x in x_space]\n",
    "plt.plot(x_space, y_space, c='r')\n",
    "plt.show()"
   ]
  },
  {
   "cell_type": "code",
   "execution_count": 10,
   "metadata": {},
   "outputs": [
    {
     "name": "stdout",
     "output_type": "stream",
     "text": [
      "[ 0.5 -1.   0.5]\n"
     ]
    }
   ],
   "source": [
    "print(params)"
   ]
  },
  {
   "cell_type": "code",
   "execution_count": 11,
   "metadata": {
    "scrolled": true
   },
   "outputs": [
    {
     "name": "stderr",
     "output_type": "stream",
     "text": [
      "/home/ubuntu/anaconda3/lib/python3.6/site-packages/ipykernel_launcher.py:6: SettingWithCopyWarning: \n",
      "A value is trying to be set on a copy of a slice from a DataFrame\n",
      "\n",
      "See the caveats in the documentation: http://pandas.pydata.org/pandas-docs/stable/indexing.html#indexing-view-versus-copy\n",
      "  \n"
     ]
    },
    {
     "data": {
      "text/html": [
       "<div>\n",
       "<style scoped>\n",
       "    .dataframe tbody tr th:only-of-type {\n",
       "        vertical-align: middle;\n",
       "    }\n",
       "\n",
       "    .dataframe tbody tr th {\n",
       "        vertical-align: top;\n",
       "    }\n",
       "\n",
       "    .dataframe thead th {\n",
       "        text-align: right;\n",
       "    }\n",
       "</style>\n",
       "<table border=\"1\" class=\"dataframe\">\n",
       "  <thead>\n",
       "    <tr style=\"text-align: right;\">\n",
       "      <th></th>\n",
       "      <th>label</th>\n",
       "      <th>name</th>\n",
       "      <th>sepal_length</th>\n",
       "      <th>sepal_width</th>\n",
       "      <th>z</th>\n",
       "      <th>proba(c=1)</th>\n",
       "      <th>proba(c=0)</th>\n",
       "      <th>pred_label</th>\n",
       "    </tr>\n",
       "  </thead>\n",
       "  <tbody>\n",
       "    <tr>\n",
       "      <th>95</th>\n",
       "      <td>1</td>\n",
       "      <td>versicolor</td>\n",
       "      <td>5.7</td>\n",
       "      <td>3.0</td>\n",
       "      <td>0.35</td>\n",
       "      <td>0.586618</td>\n",
       "      <td>0.413382</td>\n",
       "      <td>1</td>\n",
       "    </tr>\n",
       "    <tr>\n",
       "      <th>96</th>\n",
       "      <td>1</td>\n",
       "      <td>versicolor</td>\n",
       "      <td>5.7</td>\n",
       "      <td>2.9</td>\n",
       "      <td>0.45</td>\n",
       "      <td>0.610639</td>\n",
       "      <td>0.389361</td>\n",
       "      <td>1</td>\n",
       "    </tr>\n",
       "    <tr>\n",
       "      <th>97</th>\n",
       "      <td>1</td>\n",
       "      <td>versicolor</td>\n",
       "      <td>6.2</td>\n",
       "      <td>2.9</td>\n",
       "      <td>0.70</td>\n",
       "      <td>0.668188</td>\n",
       "      <td>0.331812</td>\n",
       "      <td>1</td>\n",
       "    </tr>\n",
       "    <tr>\n",
       "      <th>98</th>\n",
       "      <td>1</td>\n",
       "      <td>versicolor</td>\n",
       "      <td>5.1</td>\n",
       "      <td>2.5</td>\n",
       "      <td>0.55</td>\n",
       "      <td>0.634136</td>\n",
       "      <td>0.365864</td>\n",
       "      <td>1</td>\n",
       "    </tr>\n",
       "    <tr>\n",
       "      <th>99</th>\n",
       "      <td>1</td>\n",
       "      <td>versicolor</td>\n",
       "      <td>5.7</td>\n",
       "      <td>2.8</td>\n",
       "      <td>0.55</td>\n",
       "      <td>0.634136</td>\n",
       "      <td>0.365864</td>\n",
       "      <td>1</td>\n",
       "    </tr>\n",
       "  </tbody>\n",
       "</table>\n",
       "</div>"
      ],
      "text/plain": [
       "    label        name  sepal_length  sepal_width     z  proba(c=1)  \\\n",
       "95      1  versicolor           5.7          3.0  0.35    0.586618   \n",
       "96      1  versicolor           5.7          2.9  0.45    0.610639   \n",
       "97      1  versicolor           6.2          2.9  0.70    0.668188   \n",
       "98      1  versicolor           5.1          2.5  0.55    0.634136   \n",
       "99      1  versicolor           5.7          2.8  0.55    0.634136   \n",
       "\n",
       "    proba(c=0)  pred_label  \n",
       "95    0.413382           1  \n",
       "96    0.389361           1  \n",
       "97    0.331812           1  \n",
       "98    0.365864           1  \n",
       "99    0.365864           1  "
      ]
     },
     "execution_count": 11,
     "metadata": {},
     "output_type": "execute_result"
    }
   ],
   "source": [
    "z = # (write your code here)\n",
    "pred = sigmoid(z)\n",
    "res = pd.DataFrame(np.array([x1, x2, z, pred, 1-pred]).T, columns=['sepal_length', 'sepal_width', 'z', 'proba(c=1)', 'proba(c=0)'])\n",
    "res = pd.concat([df[['label', 'name']], res], axis=1)\n",
    "res['pred_label'] = 0\n",
    "res.pred_label[res['proba(c=1)'] > 0.5] = 1\n",
    "res.tail()"
   ]
  },
  {
   "cell_type": "code",
   "execution_count": 12,
   "metadata": {
    "scrolled": false
   },
   "outputs": [
    {
     "data": {
      "text/html": [
       "<div>\n",
       "<style scoped>\n",
       "    .dataframe tbody tr th:only-of-type {\n",
       "        vertical-align: middle;\n",
       "    }\n",
       "\n",
       "    .dataframe tbody tr th {\n",
       "        vertical-align: top;\n",
       "    }\n",
       "\n",
       "    .dataframe thead th {\n",
       "        text-align: right;\n",
       "    }\n",
       "</style>\n",
       "<table border=\"1\" class=\"dataframe\">\n",
       "  <thead>\n",
       "    <tr style=\"text-align: right;\">\n",
       "      <th></th>\n",
       "      <th>label</th>\n",
       "      <th>name</th>\n",
       "      <th>sepal_length</th>\n",
       "      <th>sepal_width</th>\n",
       "      <th>z</th>\n",
       "      <th>proba(c=1)</th>\n",
       "      <th>proba(c=0)</th>\n",
       "      <th>pred_label</th>\n",
       "    </tr>\n",
       "  </thead>\n",
       "  <tbody>\n",
       "    <tr>\n",
       "      <th>41</th>\n",
       "      <td>0</td>\n",
       "      <td>setosa</td>\n",
       "      <td>4.5</td>\n",
       "      <td>2.3</td>\n",
       "      <td>0.45</td>\n",
       "      <td>0.610639</td>\n",
       "      <td>0.389361</td>\n",
       "      <td>1</td>\n",
       "    </tr>\n",
       "  </tbody>\n",
       "</table>\n",
       "</div>"
      ],
      "text/plain": [
       "    label    name  sepal_length  sepal_width     z  proba(c=1)  proba(c=0)  \\\n",
       "41      0  setosa           4.5          2.3  0.45    0.610639    0.389361   \n",
       "\n",
       "    pred_label  \n",
       "41           1  "
      ]
     },
     "execution_count": 12,
     "metadata": {},
     "output_type": "execute_result"
    }
   ],
   "source": [
    "res[res.label != res.pred_label]"
   ]
  },
  {
   "cell_type": "markdown",
   "metadata": {},
   "source": [
    "<br>\n",
    "<br>\n",
    "<br>\n",
    "<br>"
   ]
  },
  {
   "cell_type": "markdown",
   "metadata": {},
   "source": [
    "<br>\n",
    "#### Cross-Entropy"
   ]
  },
  {
   "cell_type": "markdown",
   "metadata": {},
   "source": [
    "$$-y\\log\\hat{y}-(1-y)\\log(1-\\hat{y})$$"
   ]
  },
  {
   "cell_type": "markdown",
   "metadata": {},
   "source": [
    "<br>\n",
    "<br>\n",
    "<br>\n",
    "<br>"
   ]
  },
  {
   "cell_type": "markdown",
   "metadata": {},
   "source": [
    "<br>\n",
    "<br>\n",
    "<br>\n",
    "<br>"
   ]
  },
  {
   "cell_type": "markdown",
   "metadata": {},
   "source": [
    "<br>\n",
    "#### Define Loss Function"
   ]
  },
  {
   "cell_type": "markdown",
   "metadata": {},
   "source": [
    "$$L(y, \\hat{y}) = \\sum_{i=1}^{n}-y_i\\log\\hat{y_i}-(1-y_i)\\log(1-\\hat{y_i})$$"
   ]
  },
  {
   "cell_type": "markdown",
   "metadata": {},
   "source": [
    "<br>\n",
    "<br>\n",
    "<br>\n",
    "<br>"
   ]
  },
  {
   "cell_type": "markdown",
   "metadata": {},
   "source": [
    "<br>\n",
    "<br>\n",
    "<br>\n",
    "<br>"
   ]
  },
  {
   "cell_type": "code",
   "execution_count": 13,
   "metadata": {},
   "outputs": [],
   "source": [
    "loss_function = # (write your code here)"
   ]
  },
  {
   "cell_type": "code",
   "execution_count": 14,
   "metadata": {},
   "outputs": [
    {
     "data": {
      "text/plain": [
       "46.412504132481494"
      ]
     },
     "execution_count": 14,
     "metadata": {},
     "output_type": "execute_result"
    }
   ],
   "source": [
    "params = np.array([.5, -1.0, 0.5])\n",
    "z = params[0] * x1 + params[1] * x2 + params[2] * 1\n",
    "pred = sigmoid(z)\n",
    "loss_function(df.label, pred)"
   ]
  },
  {
   "cell_type": "markdown",
   "metadata": {},
   "source": [
    "<br>\n",
    "#### Objective"
   ]
  },
  {
   "cell_type": "markdown",
   "metadata": {},
   "source": [
    "\\begin{align}\n",
    "O &= min(L) \\\\\n",
    "&= min(\\sum_{i=1}^{n}-y_i\\log\\hat{y_i}-(1-y_i)\\log(1-\\hat{y_i}))\n",
    "\\end{align}"
   ]
  },
  {
   "cell_type": "markdown",
   "metadata": {},
   "source": [
    "<br>\n",
    "<br>\n",
    "<br>\n",
    "<br>"
   ]
  },
  {
   "cell_type": "markdown",
   "metadata": {},
   "source": [
    "<br>\n",
    "#### Calculate Gradient"
   ]
  },
  {
   "cell_type": "markdown",
   "metadata": {},
   "source": [
    "\\begin{align}\n",
    "\\nabla L &= \\begin{bmatrix}\n",
    "               \\frac{\\partial}{\\partial w_0}L(\\theta) \\\\\n",
    "               \\frac{\\partial}{\\partial w_1}L(\\theta) \\\\\n",
    "               ...\\\\\n",
    "               \\frac{\\partial}{\\partial w_j}L(\\theta) \\\\\n",
    "               \\end{bmatrix}\n",
    "\\end{align}"
   ]
  },
  {
   "cell_type": "markdown",
   "metadata": {},
   "source": [
    "<br>\n",
    "<br>\n",
    "<br>\n",
    "<br>"
   ]
  },
  {
   "cell_type": "markdown",
   "metadata": {},
   "source": [
    "<br>\n",
    "\\begin{align}\n",
    "\\frac{\\partial}{\\partial \\theta}L(\\theta = w_0, w_1, ..., w_j) &= \\frac{\\partial}{\\partial \\theta} \\sum_{i=1}^{n}-y_i\\log\\hat{y_i}-(1-y_i)\\log(1-\\hat{y_i})\\\\\n",
    "&= \\sum_{i=1}^{n}\\frac{\\partial}{\\partial \\theta}(-y_i\\log\\hat{y_i}-(1-y_i)\\log(1-\\hat{y_i})) \\\\\n",
    "&= \\sum_{i=1}^{n}\\frac{\\partial}{\\partial \\hat{y_i}}(-y_i\\log\\hat{y_i}-(1-y_i)\\log(1-\\hat{y_i}))\\frac{\\partial}{\\partial \\theta}\\hat{y_i} \\\\\n",
    "&= \\sum_{i=1}^{n}(-\\frac{y_i}{\\hat{y_i}} - \\frac{-(1-y_i)}{1-\\hat{y_i}}) \\cdot \\frac{\\partial}{\\partial \\theta}\\hat{y_i} \\\\\n",
    "&= \\sum_{i=1}^{n}(-\\frac{y_i}{\\hat{y_i}} + \\frac{(1-y_i)}{1-\\hat{y_i}}) \\cdot \\frac{\\partial}{\\partial \\theta}\\sigma(z) \\\\\n",
    "&= \\sum_{i=1}^{n}(-\\frac{y_i}{\\hat{y_i}} + \\frac{(1-y_i)}{1-\\hat{y_i}}) \\cdot \\hat{y_i}(1 - \\hat{y_i})x_i \\space [1]\\\\\n",
    "&= \\sum_{i=1}^{n}(-y_i(1-\\hat{y_i}) + (1 - {y_i})\\hat{y_i})x_j \\\\\n",
    "&= \\sum_{i=1}^{n}(-y_i + y_i\\hat{y_i} + \\hat{y_i} - {y_i}\\hat{y_i})x_j \\\\\n",
    "&= \\sum_{i=1}^{n}(\\hat{y_i} - {y_i})x_j\n",
    "\\\\\n",
    "\\\\\n",
    "[1]\\frac{\\partial}{\\partial \\theta}\\sigma(z) &= \\frac{\\partial}{\\partial \\theta} (\\frac{1}{1 + e^{-z}})\\cdot \\frac{\\partial}{\\partial \\theta}z \\\\\n",
    "&= \\frac{\\partial}{\\partial z} (1 + e^{-z})^{-1} \\cdot (x_i) &\\because \\frac{\\partial}{\\partial \\theta}z = \\frac{\\partial}{\\partial \\theta}(w_1 x_1 + w_2 x_2 + ... +w_i x_i) = x_i \\\\\n",
    "&= \\frac{\\partial}{\\partial \\theta} (1 + e^{-z})^{-2} (1 + e^{-z}) x_i \\\\\n",
    "&= (1 + e^{-z})^{-2} \\frac{\\partial}{\\partial \\theta} (1 + e^{-z}) x_i \\\\\n",
    "&= \\frac{e^{-z}}{(1 + e^{-z})^{2}} x_i \\\\\n",
    "&= \\frac{1}{1 + e^{-z}} \\cdot \\frac{e^{-z}}{1 + e^{-z}} x_i \\\\\n",
    "&= \\frac{1}{1 + e^{-z}} \\cdot (1 - \\frac{1}{1 + e^{-z}}) x_i\\\\\n",
    "&= \\sigma(z)(1 - \\sigma(z)) x_i \\\\\n",
    "&= \\hat{y_i}(1 - \\hat{y_i}) x_i \\\\\n",
    "\\end{align}"
   ]
  },
  {
   "cell_type": "code",
   "execution_count": 15,
   "metadata": {},
   "outputs": [],
   "source": [
    "gradient = lambda # (write your code here) HINT: list comprehension e.g. [x for x in arr]"
   ]
  },
  {
   "cell_type": "markdown",
   "metadata": {},
   "source": [
    "<br>\n",
    "<br>\n",
    "<br>\n",
    "<br>"
   ]
  },
  {
   "cell_type": "markdown",
   "metadata": {},
   "source": [
    "<br>\n",
    "\\begin{equation}\n",
    "w_j^{k+1} = a^{k} - \\text{learning_rate} \\times f^\\prime(w_j^{k}) \\\\\n",
    "\\end{equation}"
   ]
  },
  {
   "cell_type": "code",
   "execution_count": 16,
   "metadata": {},
   "outputs": [],
   "source": [
    "def steepest_gradient_descent(loss_function, features, label, activation, gradient, init, epoch, learning_rate, verbose=False):\n",
    "    # monitoring\n",
    "    params = np.array(init)\n",
    "    params_path = []\n",
    "    loss_path = []\n",
    "    slope_path = []\n",
    "    step_path = []\n",
    "    \n",
    "    \n",
    "    for i in range(epoch):\n",
    "        # 0. record parameters path\n",
    "        params_path.append(params)\n",
    "        \n",
    "        # 1. calculate probability\n",
    "        pred = # (write your code here)\n",
    "        \n",
    "        # 2. calculate loss\n",
    "        loss = # (write your code here)\n",
    "        loss_path.append(loss)\n",
    "        \n",
    "        # 3. calculate slope with gradient\n",
    "        slope = # (write your code here)\n",
    "        slope_path.append(slope)\n",
    "        \n",
    "        # 4. calculate step\n",
    "        step = # (write your code here)\n",
    "        step_path.append(step)\n",
    "        \n",
    "        # verbose\n",
    "        if verbose == True:\n",
    "            log = '{} a:{}, b:{}, c:{}, loss:{}, slope:{}, step:{}'\n",
    "            print(log.format(i, round(params[0],3), round(params[1], 3), round(params[2], 3),\n",
    "                             round(loss, 4), np.round(slope, 4), np.round(step, 4)))\n",
    "            \n",
    "        # 4. update next parameters\n",
    "        params = # (write your code here)\n",
    "    \n",
    "    # 5. calculate label\n",
    "    result = pd.DataFrame(np.array([label]).T, columns=['valid_label'])\n",
    "    result['pred_label'] = 0\n",
    "    result.pred_label[pred > 0.5] = 1\n",
    "    result['TF'] = 0\n",
    "    result.TF[result.valid_label == result.pred_label] = 1\n",
    "    result['proba'] = pred\n",
    "    result.proba[result.pred_label == 0] = 1 - result.proba[result.pred_label == 0]\n",
    "    \n",
    "    return params, loss, result, np.array(params_path), np.array(loss_path), np.array(slope_path), np.array(step_path)"
   ]
  },
  {
   "cell_type": "code",
   "execution_count": 17,
   "metadata": {},
   "outputs": [
    {
     "name": "stderr",
     "output_type": "stream",
     "text": [
      "/home/ubuntu/anaconda3/lib/python3.6/site-packages/ipykernel_launcher.py:1: RuntimeWarning: divide by zero encountered in log\n",
      "  \"\"\"Entry point for launching an IPython kernel.\n"
     ]
    },
    {
     "name": "stdout",
     "output_type": "stream",
     "text": [
      "0 a:1.0, b:-2.0, c:3.0, loss:75.2376, slope:[176.295  121.2721  35.666 ], step:[-8.8148 -6.0636 -1.7833]\n",
      "1 a:-7.815, b:-8.064, c:1.217, loss:3375.3923, slope:[-296.8 -138.5  -50. ], step:[14.84   6.925  2.5  ]\n",
      "2 a:7.025, b:-1.139, c:3.717, loss:inf, slope:[250.3 170.9  50. ], step:[-12.515  -8.545  -2.5  ]\n",
      "3 a:-5.49, b:-9.684, c:1.217, loss:2909.7023, slope:[-296.8 -138.5  -50. ], step:[14.84   6.925  2.5  ]\n",
      "4 a:9.35, b:-2.759, c:3.717, loss:inf, slope:[250.3 170.9  50. ], step:[-12.515  -8.545  -2.5  ]\n",
      "5 a:-3.165, b:-11.304, c:1.217, loss:2444.0123, slope:[-296.8 -138.5  -50. ], step:[14.84   6.925  2.5  ]\n",
      "6 a:11.675, b:-4.379, c:3.717, loss:inf, slope:[250.3 170.9  50. ], step:[-12.515  -8.545  -2.5  ]\n",
      "7 a:-0.84, b:-12.924, c:1.217, loss:1978.3223, slope:[-296.8 -138.5  -50. ], step:[14.84   6.925  2.5  ]\n",
      "8 a:14.0, b:-5.999, c:3.717, loss:inf, slope:[250.3 170.9  50. ], step:[-12.515  -8.545  -2.5  ]\n",
      "9 a:1.485, b:-14.544, c:1.217, loss:1512.6323, slope:[-296.8 -138.5  -50. ], step:[14.84   6.925  2.5  ]\n",
      "10 a:16.325, b:-7.619, c:3.717, loss:inf, slope:[250.3 170.9  50. ], step:[-12.515  -8.545  -2.5  ]\n",
      "11 a:3.81, b:-16.164, c:1.217, loss:1046.9424, slope:[-296.7997 -138.4999  -50.    ], step:[14.84   6.925  2.5  ]\n",
      "12 a:18.65, b:-9.239, c:3.717, loss:inf, slope:[250.3 170.9  50. ], step:[-12.515  -8.545  -2.5  ]\n",
      "13 a:6.135, b:-17.784, c:1.217, loss:582.6514, slope:[-290.1221 -136.0853  -48.9141], step:[14.5061  6.8043  2.4457]\n",
      "14 a:20.641, b:-10.979, c:3.662, loss:inf, slope:[250.3 170.9  50. ], step:[-12.515  -8.545  -2.5  ]\n",
      "15 a:8.126, b:-19.524, c:1.162, loss:268.5157, slope:[-247.9631 -119.1352  -41.881 ], step:[12.3982  5.9568  2.0941]\n",
      "16 a:20.524, b:-13.568, c:3.256, loss:inf, slope:[250.3 170.9  50. ], step:[-12.515  -8.545  -2.5  ]\n",
      "17 a:8.009, b:-22.113, c:0.756, loss:651.198, slope:[-284.2583 -133.96    -47.9631], step:[14.2129  6.698   2.3982]\n",
      "18 a:22.222, b:-15.415, c:3.155, loss:inf, slope:[250.3 170.9  50. ], step:[-12.515  -8.545  -2.5  ]\n",
      "19 a:9.707, b:-23.96, c:0.655, loss:430.047, slope:[-264.0177 -126.0153  -44.5621], step:[13.2009  6.3008  2.2281]\n",
      "20 a:22.908, b:-17.659, c:2.883, loss:inf, slope:[250.3 170.9  50. ], step:[-12.515  -8.545  -2.5  ]\n",
      "21 a:10.393, b:-26.204, c:0.383, loss:544.958, slope:[-271.1823 -128.9449  -45.7683], step:[13.5591  6.4472  2.2884]\n",
      "22 a:23.952, b:-19.757, c:2.671, loss:inf, slope:[250.3 170.9  50. ], step:[-12.515  -8.545  -2.5  ]\n",
      "23 a:11.437, b:-28.302, c:0.171, loss:542.2939, slope:[-267.5017 -127.4607  -45.1458], step:[13.3751  6.373   2.2573]\n",
      "24 a:24.812, b:-21.929, c:2.428, loss:inf, slope:[250.3 170.9  50. ], step:[-12.515  -8.545  -2.5  ]\n",
      "25 a:12.297, b:-30.474, c:-0.072, loss:600.0679, slope:[-268.8954 -128.031   -45.3815], step:[13.4448  6.4016  2.2691]\n",
      "26 a:25.742, b:-24.072, c:2.197, loss:inf, slope:[250.3 170.9  50. ], step:[-12.515  -8.545  -2.5  ]\n",
      "27 a:13.227, b:-32.617, c:-0.303, loss:634.9746, slope:[-268.4201 -127.8421  -45.3013], step:[13.421   6.3921  2.2651]\n",
      "28 a:26.648, b:-26.225, c:1.963, loss:inf, slope:[250.3 170.9  50. ], step:[-12.515  -8.545  -2.5  ]\n",
      "29 a:14.133, b:-34.77, c:-0.537, loss:677.6619, slope:[-268.5254 -127.8877  -45.3193], step:[13.4263  6.3944  2.266 ]\n",
      "30 a:27.56, b:-28.375, c:1.729, loss:inf, slope:[250.3 170.9  50. ], step:[-12.515  -8.545  -2.5  ]\n",
      "31 a:15.045, b:-36.92, c:-0.771, loss:718.6094, slope:[-268.4976 -127.8789  -45.3145], step:[13.4249  6.3939  2.2657]\n",
      "32 a:28.469, b:-30.527, c:1.494, loss:inf, slope:[250.3 170.9  50. ], step:[-12.515  -8.545  -2.5  ]\n",
      "33 a:15.954, b:-39.072, c:-1.006, loss:760.0018, slope:[-268.4943 -127.8797  -45.3138], step:[13.4247  6.394   2.2657]\n",
      "34 a:29.379, b:-32.678, c:1.26, loss:inf, slope:[250.3 170.9  50. ], step:[-12.515  -8.545  -2.5  ]\n",
      "35 a:16.864, b:-41.223, c:-1.24, loss:801.4385, slope:[-268.4895 -127.8796  -45.3128], step:[13.4245  6.394   2.2656]\n",
      "36 a:30.289, b:-34.829, c:1.026, loss:inf, slope:[250.3 170.9  50. ], step:[-12.515  -8.545  -2.5  ]\n",
      "37 a:17.774, b:-43.374, c:-1.474, loss:842.946, slope:[-268.4858 -127.8797  -45.3119], step:[13.4243  6.394   2.2656]\n",
      "38 a:31.198, b:-36.98, c:0.791, loss:inf, slope:[250.2999 170.8999  50.    ], step:[-12.515  -8.545  -2.5  ]\n",
      "39 a:18.683, b:-45.525, c:-1.709, loss:884.5064, slope:[-268.4826 -127.8798  -45.311 ], step:[13.4241  6.394   2.2655]\n",
      "40 a:32.107, b:-39.131, c:0.557, loss:inf, slope:[250.2927 170.8942  49.9985], step:[-12.5146  -8.5447  -2.4999]\n",
      "41 a:19.592, b:-47.675, c:-1.943, loss:925.9769, slope:[-268.4735 -127.8774  -45.309 ], step:[13.4237  6.3939  2.2654]\n",
      "42 a:33.016, b:-41.281, c:0.322, loss:inf, slope:[249.8566 170.5513  49.9117], step:[-12.4928  -8.5276  -2.4956]\n",
      "43 a:20.523, b:-49.809, c:-2.173, loss:959.3554, slope:[-268.0869 -127.7223  -45.2415], step:[13.4043  6.3861  2.2621]\n",
      "44 a:33.928, b:-43.423, c:0.089, loss:inf, slope:[242.9948 165.1645  48.5413], step:[-12.1497  -8.2582  -2.4271]\n",
      "45 a:21.778, b:-51.681, c:-2.338, loss:871.1576, slope:[-261.0817 -124.8526  -44.1027], step:[13.0541  6.2426  2.2051]\n",
      "46 a:34.832, b:-45.438, c:-0.133, loss:inf, slope:[233.8978 158.1255  46.8322], step:[-11.6949  -7.9063  -2.3416]\n",
      "47 a:23.137, b:-53.345, c:-2.475, loss:732.5676, slope:[-253.5937 -121.7116  -42.8352], step:[12.6797  6.0856  2.1418]\n",
      "48 a:35.817, b:-47.259, c:-0.333, loss:inf, slope:[229.1248 154.4876  45.9506], step:[-11.4562  -7.7244  -2.2975]\n",
      "49 a:24.36, b:-54.984, c:-2.631, loss:630.5976, slope:[-243.4699 -117.3201  -41.163 ], step:[12.1735  5.866   2.0581]\n",
      "50 a:36.534, b:-49.118, c:-0.572, loss:inf, slope:[216.3066 144.9372  43.4087], step:[-10.8153  -7.2469  -2.1704]\n",
      "51 a:25.719, b:-56.364, c:-2.743, loss:476.4652, slope:[-211.8826 -103.2795  -35.9904], step:[10.5941  5.164   1.7995]\n",
      "52 a:36.313, b:-51.2, c:-0.943, loss:inf, slope:[174.0352 114.415   34.9085], step:[-8.7018 -5.7207 -1.7454]\n",
      "53 a:27.611, b:-56.921, c:-2.689, loss:229.6812, slope:[-110.5611  -56.7022  -19.3597], step:[5.5281 2.8351 0.968 ]\n",
      "54 a:33.139, b:-54.086, c:-1.721, loss:25.0933, slope:[9.662  5.41   2.0362], step:[-0.4831 -0.2705 -0.1018]\n",
      "55 a:32.656, b:-54.357, c:-1.823, loss:20.2994, slope:[5.3714 2.8234 1.1745], step:[-0.2686 -0.1412 -0.0587]\n",
      "56 a:32.387, b:-54.498, c:-1.881, loss:18.5511, slope:[4.6574 2.3947 1.0317], step:[-0.2329 -0.1197 -0.0516]\n",
      "57 a:32.155, b:-54.617, c:-1.933, loss:17.1546, slope:[4.5024 2.3026 1.0015], step:[-0.2251 -0.1151 -0.0501]\n",
      "58 a:31.929, b:-54.733, c:-1.983, loss:15.8476, slope:[4.3215 2.1992 0.9703], step:[-0.2161 -0.11   -0.0485]\n",
      "59 a:31.713, b:-54.843, c:-2.031, loss:14.7055, slope:[3.5892 1.7845 0.8473], step:[-0.1795 -0.0892 -0.0424]\n",
      "60 a:31.534, b:-54.932, c:-2.074, loss:14.0471, slope:[1.8623 0.8073 0.5572], step:[-0.0931 -0.0404 -0.0279]\n",
      "61 a:31.441, b:-54.972, c:-2.102, loss:13.8986, slope:[0.637  0.1147 0.3502], step:[-0.0318 -0.0057 -0.0175]\n",
      "62 a:31.409, b:-54.978, c:-2.119, loss:13.879, slope:[ 0.2443 -0.1071  0.2835], step:[-0.0122  0.0054 -0.0142]\n",
      "63 a:31.397, b:-54.973, c:-2.133, loss:13.8721, slope:[ 0.1257 -0.174   0.2633], step:[-0.0063  0.0087 -0.0132]\n",
      "64 a:31.39, b:-54.964, c:-2.147, loss:13.8664, slope:[ 0.0889 -0.1948  0.257 ], step:[-0.0044  0.0097 -0.0128]\n",
      "65 a:31.386, b:-54.954, c:-2.159, loss:13.8608, slope:[ 0.0773 -0.2013  0.255 ], step:[-0.0039  0.0101 -0.0128]\n",
      "66 a:31.382, b:-54.944, c:-2.172, loss:13.8553, slope:[ 0.0736 -0.2034  0.2544], step:[-0.0037  0.0102 -0.0127]\n",
      "67 a:31.378, b:-54.934, c:-2.185, loss:13.8497, slope:[ 0.0725 -0.204   0.2542], step:[-0.0036  0.0102 -0.0127]\n",
      "68 a:31.375, b:-54.924, c:-2.198, loss:13.8441, slope:[ 0.0721 -0.2042  0.2541], step:[-0.0036  0.0102 -0.0127]\n",
      "69 a:31.371, b:-54.913, c:-2.21, loss:13.8385, slope:[ 0.072  -0.2043  0.2541], step:[-0.0036  0.0102 -0.0127]\n",
      "70 a:31.368, b:-54.903, c:-2.223, loss:13.833, slope:[ 0.072  -0.2043  0.254 ], step:[-0.0036  0.0102 -0.0127]\n",
      "71 a:31.364, b:-54.893, c:-2.236, loss:13.8274, slope:[ 0.072  -0.2043  0.254 ], step:[-0.0036  0.0102 -0.0127]\n",
      "72 a:31.36, b:-54.883, c:-2.248, loss:13.8218, slope:[ 0.0719 -0.2043  0.254 ], step:[-0.0036  0.0102 -0.0127]\n",
      "73 a:31.357, b:-54.873, c:-2.261, loss:13.8162, slope:[ 0.0719 -0.2043  0.254 ], step:[-0.0036  0.0102 -0.0127]\n",
      "74 a:31.353, b:-54.862, c:-2.274, loss:13.8107, slope:[ 0.0719 -0.2043  0.254 ], step:[-0.0036  0.0102 -0.0127]\n",
      "75 a:31.35, b:-54.852, c:-2.286, loss:13.8051, slope:[ 0.0719 -0.2043  0.254 ], step:[-0.0036  0.0102 -0.0127]\n",
      "76 a:31.346, b:-54.842, c:-2.299, loss:13.7995, slope:[ 0.0719 -0.2043  0.254 ], step:[-0.0036  0.0102 -0.0127]\n"
     ]
    },
    {
     "name": "stdout",
     "output_type": "stream",
     "text": [
      "77 a:31.342, b:-54.832, c:-2.312, loss:13.794, slope:[ 0.0719 -0.2043  0.254 ], step:[-0.0036  0.0102 -0.0127]\n",
      "78 a:31.339, b:-54.822, c:-2.325, loss:13.7884, slope:[ 0.0719 -0.2043  0.2539], step:[-0.0036  0.0102 -0.0127]\n",
      "79 a:31.335, b:-54.811, c:-2.337, loss:13.7828, slope:[ 0.0719 -0.2042  0.2539], step:[-0.0036  0.0102 -0.0127]\n",
      "80 a:31.332, b:-54.801, c:-2.35, loss:13.7773, slope:[ 0.0719 -0.2042  0.2539], step:[-0.0036  0.0102 -0.0127]\n",
      "81 a:31.328, b:-54.791, c:-2.363, loss:13.7717, slope:[ 0.0719 -0.2042  0.2539], step:[-0.0036  0.0102 -0.0127]\n",
      "82 a:31.324, b:-54.781, c:-2.375, loss:13.7661, slope:[ 0.0719 -0.2042  0.2539], step:[-0.0036  0.0102 -0.0127]\n",
      "83 a:31.321, b:-54.77, c:-2.388, loss:13.7606, slope:[ 0.0719 -0.2042  0.2539], step:[-0.0036  0.0102 -0.0127]\n",
      "84 a:31.317, b:-54.76, c:-2.401, loss:13.755, slope:[ 0.0719 -0.2042  0.2539], step:[-0.0036  0.0102 -0.0127]\n",
      "85 a:31.314, b:-54.75, c:-2.413, loss:13.7494, slope:[ 0.0719 -0.2042  0.2539], step:[-0.0036  0.0102 -0.0127]\n",
      "86 a:31.31, b:-54.74, c:-2.426, loss:13.7439, slope:[ 0.0719 -0.2042  0.2539], step:[-0.0036  0.0102 -0.0127]\n",
      "87 a:31.306, b:-54.73, c:-2.439, loss:13.7383, slope:[ 0.0719 -0.2042  0.2538], step:[-0.0036  0.0102 -0.0127]\n",
      "88 a:31.303, b:-54.719, c:-2.452, loss:13.7327, slope:[ 0.0719 -0.2042  0.2538], step:[-0.0036  0.0102 -0.0127]\n",
      "89 a:31.299, b:-54.709, c:-2.464, loss:13.7272, slope:[ 0.0719 -0.2042  0.2538], step:[-0.0036  0.0102 -0.0127]\n",
      "90 a:31.296, b:-54.699, c:-2.477, loss:13.7216, slope:[ 0.0719 -0.2042  0.2538], step:[-0.0036  0.0102 -0.0127]\n",
      "91 a:31.292, b:-54.689, c:-2.49, loss:13.716, slope:[ 0.0719 -0.2042  0.2538], step:[-0.0036  0.0102 -0.0127]\n",
      "92 a:31.288, b:-54.679, c:-2.502, loss:13.7105, slope:[ 0.0719 -0.2042  0.2538], step:[-0.0036  0.0102 -0.0127]\n",
      "93 a:31.285, b:-54.668, c:-2.515, loss:13.7049, slope:[ 0.0719 -0.2042  0.2538], step:[-0.0036  0.0102 -0.0127]\n",
      "94 a:31.281, b:-54.658, c:-2.528, loss:13.6993, slope:[ 0.0719 -0.2042  0.2538], step:[-0.0036  0.0102 -0.0127]\n",
      "95 a:31.278, b:-54.648, c:-2.54, loss:13.6938, slope:[ 0.0719 -0.2042  0.2537], step:[-0.0036  0.0102 -0.0127]\n",
      "96 a:31.274, b:-54.638, c:-2.553, loss:13.6882, slope:[ 0.0719 -0.2042  0.2537], step:[-0.0036  0.0102 -0.0127]\n",
      "97 a:31.271, b:-54.628, c:-2.566, loss:13.6827, slope:[ 0.0719 -0.2041  0.2537], step:[-0.0036  0.0102 -0.0127]\n",
      "98 a:31.267, b:-54.617, c:-2.578, loss:13.6771, slope:[ 0.0719 -0.2041  0.2537], step:[-0.0036  0.0102 -0.0127]\n",
      "99 a:31.263, b:-54.607, c:-2.591, loss:13.6715, slope:[ 0.0719 -0.2041  0.2537], step:[-0.0036  0.0102 -0.0127]\n"
     ]
    },
    {
     "name": "stderr",
     "output_type": "stream",
     "text": [
      "/home/ubuntu/anaconda3/lib/python3.6/site-packages/ipykernel_launcher.py:45: SettingWithCopyWarning: \n",
      "A value is trying to be set on a copy of a slice from a DataFrame\n",
      "\n",
      "See the caveats in the documentation: http://pandas.pydata.org/pandas-docs/stable/indexing.html#indexing-view-versus-copy\n"
     ]
    }
   ],
   "source": [
    "a = 1.0\n",
    "b = -2.0\n",
    "c = 3.0\n",
    "MaxEpoch = 100\n",
    "params, loss, result, params_path, loss_path, slope_path, step_path = steepest_gradient_descent(\n",
    "                                                                             loss_function=loss_function,\n",
    "                                                                             features=[x1, x2, intercept],\n",
    "                                                                             label=df.label,\n",
    "                                                                             activation=sigmoid,\n",
    "                                                                             gradient=gradient,\n",
    "                                                                             init=[a, b, c],\n",
    "                                                                             epoch=MaxEpoch,\n",
    "                                                                             learning_rate=0.05,\n",
    "                                                                             verbose=True)"
   ]
  },
  {
   "cell_type": "code",
   "execution_count": 18,
   "metadata": {},
   "outputs": [
    {
     "name": "stdout",
     "output_type": "stream",
     "text": [
      "100\n"
     ]
    },
    {
     "data": {
      "image/png": "[encoded data removed]",
      "text/plain": [
       "<matplotlib.figure.Figure at 0x7fbbf2880b38>"
      ]
     },
     "metadata": {},
     "output_type": "display_data"
    }
   ],
   "source": [
    "cnt = MaxEpoch -1\n",
    "print(cnt+1)\n",
    "params = params_path[cnt]\n",
    "plt.scatter(x='sepal_length', y='sepal_width', data=df[df.label==0])\n",
    "plt.scatter(x='sepal_length', y='sepal_width', data=df[df.label==1])\n",
    "x_space = np.linspace(4.2, 7.2, 100)\n",
    "y_space = x_space * (params[0] / - params[1]) + (params[2] / - params[1])\n",
    "plt.plot(x_space, y_space, c='r')\n",
    "plt.show()"
   ]
  },
  {
   "cell_type": "code",
   "execution_count": 19,
   "metadata": {},
   "outputs": [
    {
     "name": "stdout",
     "output_type": "stream",
     "text": [
      "accuarcy: 0.98\n"
     ]
    }
   ],
   "source": [
    "print('accuarcy: {}'.format(len(result[result.TF == 1]) / len(result)))"
   ]
  },
  {
   "cell_type": "code",
   "execution_count": 20,
   "metadata": {
    "scrolled": false
   },
   "outputs": [
    {
     "data": {
      "text/html": [
       "<div>\n",
       "<style scoped>\n",
       "    .dataframe tbody tr th:only-of-type {\n",
       "        vertical-align: middle;\n",
       "    }\n",
       "\n",
       "    .dataframe tbody tr th {\n",
       "        vertical-align: top;\n",
       "    }\n",
       "\n",
       "    .dataframe thead th {\n",
       "        text-align: right;\n",
       "    }\n",
       "</style>\n",
       "<table border=\"1\" class=\"dataframe\">\n",
       "  <thead>\n",
       "    <tr style=\"text-align: right;\">\n",
       "      <th></th>\n",
       "      <th>valid_label</th>\n",
       "      <th>pred_label</th>\n",
       "      <th>TF</th>\n",
       "      <th>proba</th>\n",
       "    </tr>\n",
       "  </thead>\n",
       "  <tbody>\n",
       "    <tr>\n",
       "      <th>0</th>\n",
       "      <td>0</td>\n",
       "      <td>0</td>\n",
       "      <td>1</td>\n",
       "      <td>1.000000</td>\n",
       "    </tr>\n",
       "    <tr>\n",
       "      <th>1</th>\n",
       "      <td>0</td>\n",
       "      <td>0</td>\n",
       "      <td>1</td>\n",
       "      <td>0.999998</td>\n",
       "    </tr>\n",
       "    <tr>\n",
       "      <th>2</th>\n",
       "      <td>0</td>\n",
       "      <td>0</td>\n",
       "      <td>1</td>\n",
       "      <td>1.000000</td>\n",
       "    </tr>\n",
       "    <tr>\n",
       "      <th>3</th>\n",
       "      <td>0</td>\n",
       "      <td>0</td>\n",
       "      <td>1</td>\n",
       "      <td>1.000000</td>\n",
       "    </tr>\n",
       "    <tr>\n",
       "      <th>4</th>\n",
       "      <td>0</td>\n",
       "      <td>0</td>\n",
       "      <td>1</td>\n",
       "      <td>1.000000</td>\n",
       "    </tr>\n",
       "  </tbody>\n",
       "</table>\n",
       "</div>"
      ],
      "text/plain": [
       "   valid_label  pred_label  TF     proba\n",
       "0            0           0   1  1.000000\n",
       "1            0           0   1  0.999998\n",
       "2            0           0   1  1.000000\n",
       "3            0           0   1  1.000000\n",
       "4            0           0   1  1.000000"
      ]
     },
     "execution_count": 20,
     "metadata": {},
     "output_type": "execute_result"
    }
   ],
   "source": [
    "result.head()"
   ]
  }
 ],
 "metadata": {
  "kernelspec": {
   "display_name": "Python 3",
   "language": "python",
   "name": "python3"
  },
  "language_info": {
   "codemirror_mode": {
    "name": "ipython",
    "version": 3
   },
   "file_extension": ".py",
   "mimetype": "text/x-python",
   "name": "python",
   "nbconvert_exporter": "python",
   "pygments_lexer": "ipython3",
   "version": "3.6.4"
  }
 },
 "nbformat": 4,
 "nbformat_minor": 2
}
