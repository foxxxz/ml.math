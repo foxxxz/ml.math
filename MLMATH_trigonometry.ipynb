{
 "cells": [
  {
   "cell_type": "code",
   "execution_count": 1,
   "metadata": {},
   "outputs": [],
   "source": [
    "import numpy as np\n",
    "import pandas as pd\n",
    "import scipy as sp\n",
    "import matplotlib.pyplot as plt\n",
    "import matplotlib as mpl\n",
    "import seaborn as sns\n",
    "from sklearn import metrics"
   ]
  },
  {
   "cell_type": "code",
   "execution_count": 2,
   "metadata": {},
   "outputs": [],
   "source": [
    "mpl.rcParams['font.family'] = 'NanumGothic'"
   ]
  },
  {
   "cell_type": "markdown",
   "metadata": {},
   "source": [
    "<br>\n",
    "### 스터디 멤버들마다\n",
    "가장 재미있게 본 영화를 최대 10개씩 수집한 데이터 입니다"
   ]
  },
  {
   "cell_type": "code",
   "execution_count": 3,
   "metadata": {},
   "outputs": [
    {
     "data": {
      "text/html": [
       "<div>\n",
       "<style scoped>\n",
       "    .dataframe tbody tr th:only-of-type {\n",
       "        vertical-align: middle;\n",
       "    }\n",
       "\n",
       "    .dataframe tbody tr th {\n",
       "        vertical-align: top;\n",
       "    }\n",
       "\n",
       "    .dataframe thead th {\n",
       "        text-align: right;\n",
       "    }\n",
       "</style>\n",
       "<table border=\"1\" class=\"dataframe\">\n",
       "  <thead>\n",
       "    <tr style=\"text-align: right;\">\n",
       "      <th></th>\n",
       "      <th>movie</th>\n",
       "      <th>genre</th>\n",
       "    </tr>\n",
       "    <tr>\n",
       "      <th>name</th>\n",
       "      <th></th>\n",
       "      <th></th>\n",
       "    </tr>\n",
       "  </thead>\n",
       "  <tbody>\n",
       "    <tr>\n",
       "      <th>김현일</th>\n",
       "      <td>8</td>\n",
       "      <td>8</td>\n",
       "    </tr>\n",
       "    <tr>\n",
       "      <th>성민기</th>\n",
       "      <td>10</td>\n",
       "      <td>10</td>\n",
       "    </tr>\n",
       "    <tr>\n",
       "      <th>손지훈</th>\n",
       "      <td>10</td>\n",
       "      <td>10</td>\n",
       "    </tr>\n",
       "    <tr>\n",
       "      <th>유지석</th>\n",
       "      <td>10</td>\n",
       "      <td>10</td>\n",
       "    </tr>\n",
       "    <tr>\n",
       "      <th>이수진</th>\n",
       "      <td>10</td>\n",
       "      <td>10</td>\n",
       "    </tr>\n",
       "    <tr>\n",
       "      <th>이아름</th>\n",
       "      <td>10</td>\n",
       "      <td>10</td>\n",
       "    </tr>\n",
       "    <tr>\n",
       "      <th>지태훈</th>\n",
       "      <td>10</td>\n",
       "      <td>10</td>\n",
       "    </tr>\n",
       "    <tr>\n",
       "      <th>최광준</th>\n",
       "      <td>10</td>\n",
       "      <td>10</td>\n",
       "    </tr>\n",
       "    <tr>\n",
       "      <th>최영록</th>\n",
       "      <td>10</td>\n",
       "      <td>10</td>\n",
       "    </tr>\n",
       "  </tbody>\n",
       "</table>\n",
       "</div>"
      ],
      "text/plain": [
       "      movie  genre\n",
       "name              \n",
       "김현일       8      8\n",
       "성민기      10     10\n",
       "손지훈      10     10\n",
       "유지석      10     10\n",
       "이수진      10     10\n",
       "이아름      10     10\n",
       "지태훈      10     10\n",
       "최광준      10     10\n",
       "최영록      10     10"
      ]
     },
     "execution_count": 3,
     "metadata": {},
     "output_type": "execute_result"
    }
   ],
   "source": [
    "df = pd.read_csv('./mlmath_trigonometry_180421 - 영화종합.csv')\n",
    "df.groupby('name').count()"
   ]
  },
  {
   "cell_type": "markdown",
   "metadata": {},
   "source": [
    "<br>\n",
    "각자 재미있게 본 영화 제목과 영화 장르가 적혀있습니다"
   ]
  },
  {
   "cell_type": "code",
   "execution_count": 4,
   "metadata": {
    "scrolled": false
   },
   "outputs": [
    {
     "data": {
      "text/html": [
       "<div>\n",
       "<style scoped>\n",
       "    .dataframe tbody tr th:only-of-type {\n",
       "        vertical-align: middle;\n",
       "    }\n",
       "\n",
       "    .dataframe tbody tr th {\n",
       "        vertical-align: top;\n",
       "    }\n",
       "\n",
       "    .dataframe thead th {\n",
       "        text-align: right;\n",
       "    }\n",
       "</style>\n",
       "<table border=\"1\" class=\"dataframe\">\n",
       "  <thead>\n",
       "    <tr style=\"text-align: right;\">\n",
       "      <th></th>\n",
       "      <th>name</th>\n",
       "      <th>movie</th>\n",
       "      <th>genre</th>\n",
       "    </tr>\n",
       "  </thead>\n",
       "  <tbody>\n",
       "    <tr>\n",
       "      <th>0</th>\n",
       "      <td>최영록</td>\n",
       "      <td>러브레터</td>\n",
       "      <td>멜로</td>\n",
       "    </tr>\n",
       "    <tr>\n",
       "      <th>1</th>\n",
       "      <td>최영록</td>\n",
       "      <td>8월의 크리스마스</td>\n",
       "      <td>멜로</td>\n",
       "    </tr>\n",
       "    <tr>\n",
       "      <th>2</th>\n",
       "      <td>최영록</td>\n",
       "      <td>밀양</td>\n",
       "      <td>드라마</td>\n",
       "    </tr>\n",
       "    <tr>\n",
       "      <th>3</th>\n",
       "      <td>최영록</td>\n",
       "      <td>장고</td>\n",
       "      <td>액션</td>\n",
       "    </tr>\n",
       "    <tr>\n",
       "      <th>4</th>\n",
       "      <td>최영록</td>\n",
       "      <td>인생은 아름다워</td>\n",
       "      <td>드라마</td>\n",
       "    </tr>\n",
       "    <tr>\n",
       "      <th>5</th>\n",
       "      <td>최영록</td>\n",
       "      <td>라이언일병구하기</td>\n",
       "      <td>액션</td>\n",
       "    </tr>\n",
       "    <tr>\n",
       "      <th>6</th>\n",
       "      <td>최영록</td>\n",
       "      <td>타짜</td>\n",
       "      <td>오락</td>\n",
       "    </tr>\n",
       "    <tr>\n",
       "      <th>7</th>\n",
       "      <td>최영록</td>\n",
       "      <td>리틀포레스트</td>\n",
       "      <td>드라마</td>\n",
       "    </tr>\n",
       "    <tr>\n",
       "      <th>8</th>\n",
       "      <td>최영록</td>\n",
       "      <td>유브갓메일</td>\n",
       "      <td>멜로</td>\n",
       "    </tr>\n",
       "    <tr>\n",
       "      <th>9</th>\n",
       "      <td>최영록</td>\n",
       "      <td>터미널</td>\n",
       "      <td>드라마</td>\n",
       "    </tr>\n",
       "  </tbody>\n",
       "</table>\n",
       "</div>"
      ],
      "text/plain": [
       "  name      movie genre\n",
       "0  최영록       러브레터    멜로\n",
       "1  최영록  8월의 크리스마스    멜로\n",
       "2  최영록         밀양   드라마\n",
       "3  최영록         장고    액션\n",
       "4  최영록   인생은 아름다워   드라마\n",
       "5  최영록   라이언일병구하기    액션\n",
       "6  최영록         타짜    오락\n",
       "7  최영록     리틀포레스트   드라마\n",
       "8  최영록      유브갓메일    멜로\n",
       "9  최영록        터미널   드라마"
      ]
     },
     "execution_count": 4,
     "metadata": {},
     "output_type": "execute_result"
    }
   ],
   "source": [
    "df[df.name == '최영록']"
   ]
  },
  {
   "cell_type": "code",
   "execution_count": 5,
   "metadata": {
    "scrolled": false
   },
   "outputs": [
    {
     "data": {
      "text/html": [
       "<div>\n",
       "<style scoped>\n",
       "    .dataframe tbody tr th:only-of-type {\n",
       "        vertical-align: middle;\n",
       "    }\n",
       "\n",
       "    .dataframe tbody tr th {\n",
       "        vertical-align: top;\n",
       "    }\n",
       "\n",
       "    .dataframe thead th {\n",
       "        text-align: right;\n",
       "    }\n",
       "</style>\n",
       "<table border=\"1\" class=\"dataframe\">\n",
       "  <thead>\n",
       "    <tr style=\"text-align: right;\">\n",
       "      <th></th>\n",
       "      <th>name</th>\n",
       "      <th>movie</th>\n",
       "      <th>genre</th>\n",
       "    </tr>\n",
       "  </thead>\n",
       "  <tbody>\n",
       "    <tr>\n",
       "      <th>30</th>\n",
       "      <td>이수진</td>\n",
       "      <td>굿윌헌팅</td>\n",
       "      <td>드라마</td>\n",
       "    </tr>\n",
       "    <tr>\n",
       "      <th>31</th>\n",
       "      <td>이수진</td>\n",
       "      <td>해리가 셀리를 만났을때</td>\n",
       "      <td>멜로</td>\n",
       "    </tr>\n",
       "    <tr>\n",
       "      <th>32</th>\n",
       "      <td>이수진</td>\n",
       "      <td>씨애틀의 잠못이루는밤</td>\n",
       "      <td>멜로</td>\n",
       "    </tr>\n",
       "    <tr>\n",
       "      <th>33</th>\n",
       "      <td>이수진</td>\n",
       "      <td>라라랜드</td>\n",
       "      <td>뮤지컬</td>\n",
       "    </tr>\n",
       "    <tr>\n",
       "      <th>34</th>\n",
       "      <td>이수진</td>\n",
       "      <td>스파이더맨</td>\n",
       "      <td>SF</td>\n",
       "    </tr>\n",
       "    <tr>\n",
       "      <th>35</th>\n",
       "      <td>이수진</td>\n",
       "      <td>어벤져스</td>\n",
       "      <td>SF</td>\n",
       "    </tr>\n",
       "    <tr>\n",
       "      <th>36</th>\n",
       "      <td>이수진</td>\n",
       "      <td>해리포터</td>\n",
       "      <td>판타지</td>\n",
       "    </tr>\n",
       "    <tr>\n",
       "      <th>37</th>\n",
       "      <td>이수진</td>\n",
       "      <td>8월의 크리스마스</td>\n",
       "      <td>멜로</td>\n",
       "    </tr>\n",
       "    <tr>\n",
       "      <th>38</th>\n",
       "      <td>이수진</td>\n",
       "      <td>당신이 사랑하는 동안에</td>\n",
       "      <td>멜로</td>\n",
       "    </tr>\n",
       "    <tr>\n",
       "      <th>39</th>\n",
       "      <td>이수진</td>\n",
       "      <td>보스베이비</td>\n",
       "      <td>애니메이션</td>\n",
       "    </tr>\n",
       "  </tbody>\n",
       "</table>\n",
       "</div>"
      ],
      "text/plain": [
       "   name         movie  genre\n",
       "30  이수진          굿윌헌팅    드라마\n",
       "31  이수진  해리가 셀리를 만났을때     멜로\n",
       "32  이수진   씨애틀의 잠못이루는밤     멜로\n",
       "33  이수진          라라랜드    뮤지컬\n",
       "34  이수진         스파이더맨     SF\n",
       "35  이수진          어벤져스     SF\n",
       "36  이수진          해리포터    판타지\n",
       "37  이수진     8월의 크리스마스     멜로\n",
       "38  이수진  당신이 사랑하는 동안에     멜로\n",
       "39  이수진         보스베이비  애니메이션"
      ]
     },
     "execution_count": 5,
     "metadata": {},
     "output_type": "execute_result"
    }
   ],
   "source": [
    "df[df.name == '이수진']"
   ]
  },
  {
   "cell_type": "markdown",
   "metadata": {},
   "source": [
    "<br>\n",
    "### 나와 비슷한 영화 취향\n",
    "을 가진 멤버가 누구인지 이 데이터를 활용해 알아낼 수 있을 것 같습니다"
   ]
  },
  {
   "cell_type": "code",
   "execution_count": 6,
   "metadata": {},
   "outputs": [
    {
     "data": {
      "text/html": [
       "<div>\n",
       "<style scoped>\n",
       "    .dataframe tbody tr th:only-of-type {\n",
       "        vertical-align: middle;\n",
       "    }\n",
       "\n",
       "    .dataframe tbody tr th {\n",
       "        vertical-align: top;\n",
       "    }\n",
       "\n",
       "    .dataframe thead th {\n",
       "        text-align: right;\n",
       "    }\n",
       "</style>\n",
       "<table border=\"1\" class=\"dataframe\">\n",
       "  <thead>\n",
       "    <tr style=\"text-align: right;\">\n",
       "      <th>genre</th>\n",
       "      <th>SF</th>\n",
       "      <th>드라마</th>\n",
       "      <th>멜로</th>\n",
       "      <th>뮤지컬</th>\n",
       "      <th>애니메이션</th>\n",
       "      <th>액션</th>\n",
       "      <th>오락</th>\n",
       "      <th>코믹</th>\n",
       "      <th>판타지</th>\n",
       "    </tr>\n",
       "    <tr>\n",
       "      <th>name</th>\n",
       "      <th></th>\n",
       "      <th></th>\n",
       "      <th></th>\n",
       "      <th></th>\n",
       "      <th></th>\n",
       "      <th></th>\n",
       "      <th></th>\n",
       "      <th></th>\n",
       "      <th></th>\n",
       "    </tr>\n",
       "  </thead>\n",
       "  <tbody>\n",
       "    <tr>\n",
       "      <th>김현일</th>\n",
       "      <td>6.0</td>\n",
       "      <td>2.0</td>\n",
       "      <td>0.0</td>\n",
       "      <td>0.0</td>\n",
       "      <td>0.0</td>\n",
       "      <td>0.0</td>\n",
       "      <td>0.0</td>\n",
       "      <td>0.0</td>\n",
       "      <td>0.0</td>\n",
       "    </tr>\n",
       "    <tr>\n",
       "      <th>성민기</th>\n",
       "      <td>2.0</td>\n",
       "      <td>5.0</td>\n",
       "      <td>3.0</td>\n",
       "      <td>0.0</td>\n",
       "      <td>0.0</td>\n",
       "      <td>0.0</td>\n",
       "      <td>0.0</td>\n",
       "      <td>0.0</td>\n",
       "      <td>0.0</td>\n",
       "    </tr>\n",
       "    <tr>\n",
       "      <th>손지훈</th>\n",
       "      <td>3.0</td>\n",
       "      <td>1.0</td>\n",
       "      <td>3.0</td>\n",
       "      <td>0.0</td>\n",
       "      <td>2.0</td>\n",
       "      <td>1.0</td>\n",
       "      <td>0.0</td>\n",
       "      <td>0.0</td>\n",
       "      <td>0.0</td>\n",
       "    </tr>\n",
       "    <tr>\n",
       "      <th>유지석</th>\n",
       "      <td>8.0</td>\n",
       "      <td>2.0</td>\n",
       "      <td>0.0</td>\n",
       "      <td>0.0</td>\n",
       "      <td>0.0</td>\n",
       "      <td>0.0</td>\n",
       "      <td>0.0</td>\n",
       "      <td>0.0</td>\n",
       "      <td>0.0</td>\n",
       "    </tr>\n",
       "    <tr>\n",
       "      <th>이수진</th>\n",
       "      <td>2.0</td>\n",
       "      <td>1.0</td>\n",
       "      <td>4.0</td>\n",
       "      <td>1.0</td>\n",
       "      <td>1.0</td>\n",
       "      <td>0.0</td>\n",
       "      <td>0.0</td>\n",
       "      <td>0.0</td>\n",
       "      <td>1.0</td>\n",
       "    </tr>\n",
       "    <tr>\n",
       "      <th>이아름</th>\n",
       "      <td>3.0</td>\n",
       "      <td>0.0</td>\n",
       "      <td>3.0</td>\n",
       "      <td>0.0</td>\n",
       "      <td>3.0</td>\n",
       "      <td>0.0</td>\n",
       "      <td>0.0</td>\n",
       "      <td>0.0</td>\n",
       "      <td>1.0</td>\n",
       "    </tr>\n",
       "    <tr>\n",
       "      <th>지태훈</th>\n",
       "      <td>7.0</td>\n",
       "      <td>0.0</td>\n",
       "      <td>0.0</td>\n",
       "      <td>0.0</td>\n",
       "      <td>0.0</td>\n",
       "      <td>0.0</td>\n",
       "      <td>0.0</td>\n",
       "      <td>0.0</td>\n",
       "      <td>3.0</td>\n",
       "    </tr>\n",
       "    <tr>\n",
       "      <th>최광준</th>\n",
       "      <td>0.0</td>\n",
       "      <td>7.0</td>\n",
       "      <td>0.0</td>\n",
       "      <td>0.0</td>\n",
       "      <td>0.0</td>\n",
       "      <td>1.0</td>\n",
       "      <td>0.0</td>\n",
       "      <td>2.0</td>\n",
       "      <td>0.0</td>\n",
       "    </tr>\n",
       "    <tr>\n",
       "      <th>최영록</th>\n",
       "      <td>0.0</td>\n",
       "      <td>4.0</td>\n",
       "      <td>3.0</td>\n",
       "      <td>0.0</td>\n",
       "      <td>0.0</td>\n",
       "      <td>2.0</td>\n",
       "      <td>1.0</td>\n",
       "      <td>0.0</td>\n",
       "      <td>0.0</td>\n",
       "    </tr>\n",
       "  </tbody>\n",
       "</table>\n",
       "</div>"
      ],
      "text/plain": [
       "genre   SF  드라마   멜로  뮤지컬  애니메이션   액션   오락   코믹  판타지\n",
       "name                                                \n",
       "김현일    6.0  2.0  0.0  0.0    0.0  0.0  0.0  0.0  0.0\n",
       "성민기    2.0  5.0  3.0  0.0    0.0  0.0  0.0  0.0  0.0\n",
       "손지훈    3.0  1.0  3.0  0.0    2.0  1.0  0.0  0.0  0.0\n",
       "유지석    8.0  2.0  0.0  0.0    0.0  0.0  0.0  0.0  0.0\n",
       "이수진    2.0  1.0  4.0  1.0    1.0  0.0  0.0  0.0  1.0\n",
       "이아름    3.0  0.0  3.0  0.0    3.0  0.0  0.0  0.0  1.0\n",
       "지태훈    7.0  0.0  0.0  0.0    0.0  0.0  0.0  0.0  3.0\n",
       "최광준    0.0  7.0  0.0  0.0    0.0  1.0  0.0  2.0  0.0\n",
       "최영록    0.0  4.0  3.0  0.0    0.0  2.0  1.0  0.0  0.0"
      ]
     },
     "execution_count": 6,
     "metadata": {},
     "output_type": "execute_result"
    }
   ],
   "source": [
    "res = df.groupby(['name', 'genre']).count().reset_index()\n",
    "res = res.pivot_table(index='name', columns='genre', values='movie')\n",
    "res.fillna(0, inplace=True)\n",
    "res"
   ]
  },
  {
   "cell_type": "markdown",
   "metadata": {},
   "source": [
    "<br>\n",
    "눈으로 보기에도 멤버별로 좋아하는 영화 장르가 다릅니다"
   ]
  },
  {
   "cell_type": "code",
   "execution_count": 7,
   "metadata": {
    "scrolled": true
   },
   "outputs": [
    {
     "data": {
      "text/html": [
       "<div>\n",
       "<style scoped>\n",
       "    .dataframe tbody tr th:only-of-type {\n",
       "        vertical-align: middle;\n",
       "    }\n",
       "\n",
       "    .dataframe tbody tr th {\n",
       "        vertical-align: top;\n",
       "    }\n",
       "\n",
       "    .dataframe thead th {\n",
       "        text-align: right;\n",
       "    }\n",
       "</style>\n",
       "<table border=\"1\" class=\"dataframe\">\n",
       "  <thead>\n",
       "    <tr style=\"text-align: right;\">\n",
       "      <th>genre</th>\n",
       "      <th>SF</th>\n",
       "      <th>드라마</th>\n",
       "      <th>멜로</th>\n",
       "      <th>뮤지컬</th>\n",
       "      <th>애니메이션</th>\n",
       "      <th>액션</th>\n",
       "      <th>오락</th>\n",
       "      <th>코믹</th>\n",
       "      <th>판타지</th>\n",
       "    </tr>\n",
       "    <tr>\n",
       "      <th>name</th>\n",
       "      <th></th>\n",
       "      <th></th>\n",
       "      <th></th>\n",
       "      <th></th>\n",
       "      <th></th>\n",
       "      <th></th>\n",
       "      <th></th>\n",
       "      <th></th>\n",
       "      <th></th>\n",
       "    </tr>\n",
       "  </thead>\n",
       "  <tbody>\n",
       "    <tr>\n",
       "      <th>김현일</th>\n",
       "      <td>6.0</td>\n",
       "      <td>2.0</td>\n",
       "      <td>0.0</td>\n",
       "      <td>0.0</td>\n",
       "      <td>0.0</td>\n",
       "      <td>0.0</td>\n",
       "      <td>0.0</td>\n",
       "      <td>0.0</td>\n",
       "      <td>0.0</td>\n",
       "    </tr>\n",
       "    <tr>\n",
       "      <th>유지석</th>\n",
       "      <td>8.0</td>\n",
       "      <td>2.0</td>\n",
       "      <td>0.0</td>\n",
       "      <td>0.0</td>\n",
       "      <td>0.0</td>\n",
       "      <td>0.0</td>\n",
       "      <td>0.0</td>\n",
       "      <td>0.0</td>\n",
       "      <td>0.0</td>\n",
       "    </tr>\n",
       "    <tr>\n",
       "      <th>지태훈</th>\n",
       "      <td>7.0</td>\n",
       "      <td>0.0</td>\n",
       "      <td>0.0</td>\n",
       "      <td>0.0</td>\n",
       "      <td>0.0</td>\n",
       "      <td>0.0</td>\n",
       "      <td>0.0</td>\n",
       "      <td>0.0</td>\n",
       "      <td>3.0</td>\n",
       "    </tr>\n",
       "  </tbody>\n",
       "</table>\n",
       "</div>"
      ],
      "text/plain": [
       "genre   SF  드라마   멜로  뮤지컬  애니메이션   액션   오락   코믹  판타지\n",
       "name                                                \n",
       "김현일    6.0  2.0  0.0  0.0    0.0  0.0  0.0  0.0  0.0\n",
       "유지석    8.0  2.0  0.0  0.0    0.0  0.0  0.0  0.0  0.0\n",
       "지태훈    7.0  0.0  0.0  0.0    0.0  0.0  0.0  0.0  3.0"
      ]
     },
     "execution_count": 7,
     "metadata": {},
     "output_type": "execute_result"
    }
   ],
   "source": [
    "res[res['SF'] >= 5]"
   ]
  },
  {
   "cell_type": "markdown",
   "metadata": {},
   "source": [
    "SF 영화를 좋아하는 멤버들도 있고"
   ]
  },
  {
   "cell_type": "markdown",
   "metadata": {},
   "source": [
    "<br>"
   ]
  },
  {
   "cell_type": "code",
   "execution_count": 8,
   "metadata": {
    "scrolled": true
   },
   "outputs": [
    {
     "data": {
      "text/html": [
       "<div>\n",
       "<style scoped>\n",
       "    .dataframe tbody tr th:only-of-type {\n",
       "        vertical-align: middle;\n",
       "    }\n",
       "\n",
       "    .dataframe tbody tr th {\n",
       "        vertical-align: top;\n",
       "    }\n",
       "\n",
       "    .dataframe thead th {\n",
       "        text-align: right;\n",
       "    }\n",
       "</style>\n",
       "<table border=\"1\" class=\"dataframe\">\n",
       "  <thead>\n",
       "    <tr style=\"text-align: right;\">\n",
       "      <th>genre</th>\n",
       "      <th>SF</th>\n",
       "      <th>드라마</th>\n",
       "      <th>멜로</th>\n",
       "      <th>뮤지컬</th>\n",
       "      <th>애니메이션</th>\n",
       "      <th>액션</th>\n",
       "      <th>오락</th>\n",
       "      <th>코믹</th>\n",
       "      <th>판타지</th>\n",
       "    </tr>\n",
       "    <tr>\n",
       "      <th>name</th>\n",
       "      <th></th>\n",
       "      <th></th>\n",
       "      <th></th>\n",
       "      <th></th>\n",
       "      <th></th>\n",
       "      <th></th>\n",
       "      <th></th>\n",
       "      <th></th>\n",
       "      <th></th>\n",
       "    </tr>\n",
       "  </thead>\n",
       "  <tbody>\n",
       "    <tr>\n",
       "      <th>성민기</th>\n",
       "      <td>2.0</td>\n",
       "      <td>5.0</td>\n",
       "      <td>3.0</td>\n",
       "      <td>0.0</td>\n",
       "      <td>0.0</td>\n",
       "      <td>0.0</td>\n",
       "      <td>0.0</td>\n",
       "      <td>0.0</td>\n",
       "      <td>0.0</td>\n",
       "    </tr>\n",
       "    <tr>\n",
       "      <th>최광준</th>\n",
       "      <td>0.0</td>\n",
       "      <td>7.0</td>\n",
       "      <td>0.0</td>\n",
       "      <td>0.0</td>\n",
       "      <td>0.0</td>\n",
       "      <td>1.0</td>\n",
       "      <td>0.0</td>\n",
       "      <td>2.0</td>\n",
       "      <td>0.0</td>\n",
       "    </tr>\n",
       "    <tr>\n",
       "      <th>최영록</th>\n",
       "      <td>0.0</td>\n",
       "      <td>4.0</td>\n",
       "      <td>3.0</td>\n",
       "      <td>0.0</td>\n",
       "      <td>0.0</td>\n",
       "      <td>2.0</td>\n",
       "      <td>1.0</td>\n",
       "      <td>0.0</td>\n",
       "      <td>0.0</td>\n",
       "    </tr>\n",
       "  </tbody>\n",
       "</table>\n",
       "</div>"
      ],
      "text/plain": [
       "genre   SF  드라마   멜로  뮤지컬  애니메이션   액션   오락   코믹  판타지\n",
       "name                                                \n",
       "성민기    2.0  5.0  3.0  0.0    0.0  0.0  0.0  0.0  0.0\n",
       "최광준    0.0  7.0  0.0  0.0    0.0  1.0  0.0  2.0  0.0\n",
       "최영록    0.0  4.0  3.0  0.0    0.0  2.0  1.0  0.0  0.0"
      ]
     },
     "execution_count": 8,
     "metadata": {},
     "output_type": "execute_result"
    }
   ],
   "source": [
    "res[res[u'드라마'] >= 4]"
   ]
  },
  {
   "cell_type": "markdown",
   "metadata": {},
   "source": [
    "드라마 장르를 좋아하는 멤버도 있네요"
   ]
  },
  {
   "cell_type": "markdown",
   "metadata": {},
   "source": [
    "<br>"
   ]
  },
  {
   "cell_type": "code",
   "execution_count": 9,
   "metadata": {
    "scrolled": true
   },
   "outputs": [
    {
     "data": {
      "text/plain": [
       "[]"
      ]
     },
     "execution_count": 9,
     "metadata": {},
     "output_type": "execute_result"
    },
    {
     "data": {
      "image/png": "[encoded data removed]",
      "text/plain": [
       "<matplotlib.figure.Figure at 0x7f45c793ff28>"
      ]
     },
     "metadata": {},
     "output_type": "display_data"
    }
   ],
   "source": [
    "plt.scatter(x='드라마', y='SF', data=res)\n",
    "plt.xlabel('DRAMA')\n",
    "plt.ylabel('SF')\n",
    "plt.plot()"
   ]
  },
  {
   "cell_type": "markdown",
   "metadata": {},
   "source": [
    "scatter plot으로 `드라마` 장르와 `SF` 장르 영화 갯수를 그려보면 영화 장르 선호에 대한 `군집`이 보입니다"
   ]
  },
  {
   "cell_type": "markdown",
   "metadata": {},
   "source": [
    "서로 가까이 모여있는 점도 있고, 멀리 떨어져 있는 점도 있습니다"
   ]
  },
  {
   "cell_type": "markdown",
   "metadata": {},
   "source": [
    "<br>\n",
    "### 비슷하다\n",
    "는 개념을 수치화하기 위해서 샘플들 간의 `거리(distance)` 를 측정할 수 있습니다."
   ]
  },
  {
   "cell_type": "code",
   "execution_count": 10,
   "metadata": {
    "scrolled": true
   },
   "outputs": [
    {
     "data": {
      "text/plain": [
       "[]"
      ]
     },
     "execution_count": 10,
     "metadata": {},
     "output_type": "execute_result"
    },
    {
     "data": {
      "image/png": "[encoded data removed]",
      "text/plain": [
       "<matplotlib.figure.Figure at 0x7f45bf3d8390>"
      ]
     },
     "metadata": {},
     "output_type": "display_data"
    }
   ],
   "source": [
    "idx_a = list(res[(res['드라마'] == 4) & (res['SF'] == 0)].index)\n",
    "idx_b = list(res[(res['드라마'] == 5) & (res['SF'] == 2)].index)\n",
    "idx_c = list(res[(res['드라마'] == 2) & (res['SF'] == 6)].index)\n",
    "plt.scatter(x='드라마', y='SF', data=res[~res.index.isin(idx_a + idx_b + idx_c)], c='grey', alpha=.5)\n",
    "plt.scatter(x='드라마', y='SF', data=res.loc[idx_a + idx_b + idx_c, :])\n",
    "plt.text(3.7, 0, 'A')\n",
    "plt.text(4.7, 1.9, 'B')\n",
    "plt.text(1.7, 5.9, 'C')\n",
    "plt.xlabel('DRAMA')\n",
    "plt.ylabel('SF')\n",
    "plt.plot()"
   ]
  },
  {
   "cell_type": "markdown",
   "metadata": {},
   "source": [
    "드라마 4개와 SF 0개를 좋아한다고 보고한 `A` 는  \n",
    "드라마 2개와 SF 6개를 좋아하는 `C`보다   \n",
    "드라마 5개와 SF 2개를 좋아한다고 보고한 `B`와  \n",
    "더 `가까워` 보입니다"
   ]
  },
  {
   "cell_type": "markdown",
   "metadata": {},
   "source": [
    "<br>\n",
    "### Euclidean Distance\n",
    "를 활용해서 점과 점사이의 거리를 구할 수 있습니다"
   ]
  },
  {
   "cell_type": "markdown",
   "metadata": {},
   "source": [
    "<img src=\"https://upload.wikimedia.org/wikipedia/commons/thumb/5/55/Euclidean_distance_2d.svg/220px-Euclidean_distance_2d.svg.png\">"
   ]
  },
  {
   "cell_type": "markdown",
   "metadata": {},
   "source": [
    "\\begin{aligned}\n",
    "d(\\mathbf {p} ,\\mathbf {q} )=d(\\mathbf {q} ,\\mathbf {p} )&={\\sqrt {(q_{1}-p_{1})^{2}+(q_{2}-p_{2})^{2}+\\cdots +(q_{n}-p_{n})^{2}}}\\\\[8pt]&={\\sqrt {\\sum _{i=1}^{n}(q_{i}-p_{i})^{2}}}.\n",
    "\\end{aligned}"
   ]
  },
  {
   "cell_type": "markdown",
   "metadata": {},
   "source": [
    "피타고라스의 정리를 일반화해서 n차원 의 두점 사이의 거리가 계산됩니다"
   ]
  },
  {
   "cell_type": "markdown",
   "metadata": {},
   "source": [
    "<br>"
   ]
  },
  {
   "cell_type": "code",
   "execution_count": 11,
   "metadata": {},
   "outputs": [
    {
     "data": {
      "text/html": [
       "<div>\n",
       "<style scoped>\n",
       "    .dataframe tbody tr th:only-of-type {\n",
       "        vertical-align: middle;\n",
       "    }\n",
       "\n",
       "    .dataframe tbody tr th {\n",
       "        vertical-align: top;\n",
       "    }\n",
       "\n",
       "    .dataframe thead th {\n",
       "        text-align: right;\n",
       "    }\n",
       "</style>\n",
       "<table border=\"1\" class=\"dataframe\">\n",
       "  <thead>\n",
       "    <tr style=\"text-align: right;\">\n",
       "      <th>genre</th>\n",
       "      <th>드라마</th>\n",
       "      <th>SF</th>\n",
       "    </tr>\n",
       "  </thead>\n",
       "  <tbody>\n",
       "    <tr>\n",
       "      <th>김현일(C)</th>\n",
       "      <td>2.0</td>\n",
       "      <td>6.0</td>\n",
       "    </tr>\n",
       "    <tr>\n",
       "      <th>성민기(B)</th>\n",
       "      <td>5.0</td>\n",
       "      <td>2.0</td>\n",
       "    </tr>\n",
       "    <tr>\n",
       "      <th>손지훈</th>\n",
       "      <td>1.0</td>\n",
       "      <td>3.0</td>\n",
       "    </tr>\n",
       "    <tr>\n",
       "      <th>유지석</th>\n",
       "      <td>2.0</td>\n",
       "      <td>8.0</td>\n",
       "    </tr>\n",
       "    <tr>\n",
       "      <th>이수진</th>\n",
       "      <td>1.0</td>\n",
       "      <td>2.0</td>\n",
       "    </tr>\n",
       "    <tr>\n",
       "      <th>이아름</th>\n",
       "      <td>0.0</td>\n",
       "      <td>3.0</td>\n",
       "    </tr>\n",
       "    <tr>\n",
       "      <th>지태훈</th>\n",
       "      <td>0.0</td>\n",
       "      <td>7.0</td>\n",
       "    </tr>\n",
       "    <tr>\n",
       "      <th>최광준</th>\n",
       "      <td>7.0</td>\n",
       "      <td>0.0</td>\n",
       "    </tr>\n",
       "    <tr>\n",
       "      <th>최영록(A)</th>\n",
       "      <td>4.0</td>\n",
       "      <td>0.0</td>\n",
       "    </tr>\n",
       "  </tbody>\n",
       "</table>\n",
       "</div>"
      ],
      "text/plain": [
       "genre   드라마   SF\n",
       "김현일(C)  2.0  6.0\n",
       "성민기(B)  5.0  2.0\n",
       "손지훈     1.0  3.0\n",
       "유지석     2.0  8.0\n",
       "이수진     1.0  2.0\n",
       "이아름     0.0  3.0\n",
       "지태훈     0.0  7.0\n",
       "최광준     7.0  0.0\n",
       "최영록(A)  4.0  0.0"
      ]
     },
     "execution_count": 11,
     "metadata": {},
     "output_type": "execute_result"
    }
   ],
   "source": [
    "target = res[['드라마', 'SF']]\n",
    "target.index = ['김현일(C)', '성민기(B)', '손지훈', '유지석', '이수진', '이아름', '지태훈', '최광준', '최영록(A)']\n",
    "target"
   ]
  },
  {
   "cell_type": "markdown",
   "metadata": {},
   "source": [
    "<br>\n",
    "`드라마`, `SF` 2 차원 평면에서 샘플들 간의 거리를 측정하면 다음과 같습니다"
   ]
  },
  {
   "cell_type": "code",
   "execution_count": 12,
   "metadata": {
    "scrolled": true
   },
   "outputs": [
    {
     "data": {
      "text/html": [
       "<div>\n",
       "<style scoped>\n",
       "    .dataframe tbody tr th:only-of-type {\n",
       "        vertical-align: middle;\n",
       "    }\n",
       "\n",
       "    .dataframe tbody tr th {\n",
       "        vertical-align: top;\n",
       "    }\n",
       "\n",
       "    .dataframe thead th {\n",
       "        text-align: right;\n",
       "    }\n",
       "</style>\n",
       "<table border=\"1\" class=\"dataframe\">\n",
       "  <thead>\n",
       "    <tr style=\"text-align: right;\">\n",
       "      <th></th>\n",
       "      <th>김현일(C)</th>\n",
       "      <th>성민기(B)</th>\n",
       "      <th>손지훈</th>\n",
       "      <th>유지석</th>\n",
       "      <th>이수진</th>\n",
       "      <th>이아름</th>\n",
       "      <th>지태훈</th>\n",
       "      <th>최광준</th>\n",
       "      <th>최영록(A)</th>\n",
       "    </tr>\n",
       "  </thead>\n",
       "  <tbody>\n",
       "    <tr>\n",
       "      <th>김현일(C)</th>\n",
       "      <td>0.000000</td>\n",
       "      <td>5.000000</td>\n",
       "      <td>3.162278</td>\n",
       "      <td>2.000000</td>\n",
       "      <td>4.123106</td>\n",
       "      <td>3.605551</td>\n",
       "      <td>2.236068</td>\n",
       "      <td>7.810250</td>\n",
       "      <td>6.324555</td>\n",
       "    </tr>\n",
       "    <tr>\n",
       "      <th>성민기(B)</th>\n",
       "      <td>5.000000</td>\n",
       "      <td>0.000000</td>\n",
       "      <td>4.123106</td>\n",
       "      <td>6.708204</td>\n",
       "      <td>4.000000</td>\n",
       "      <td>5.099020</td>\n",
       "      <td>7.071068</td>\n",
       "      <td>2.828427</td>\n",
       "      <td>2.236068</td>\n",
       "    </tr>\n",
       "    <tr>\n",
       "      <th>손지훈</th>\n",
       "      <td>3.162278</td>\n",
       "      <td>4.123106</td>\n",
       "      <td>0.000000</td>\n",
       "      <td>5.099020</td>\n",
       "      <td>1.000000</td>\n",
       "      <td>1.000000</td>\n",
       "      <td>4.123106</td>\n",
       "      <td>6.708204</td>\n",
       "      <td>4.242641</td>\n",
       "    </tr>\n",
       "    <tr>\n",
       "      <th>유지석</th>\n",
       "      <td>2.000000</td>\n",
       "      <td>6.708204</td>\n",
       "      <td>5.099020</td>\n",
       "      <td>0.000000</td>\n",
       "      <td>6.082763</td>\n",
       "      <td>5.385165</td>\n",
       "      <td>2.236068</td>\n",
       "      <td>9.433981</td>\n",
       "      <td>8.246211</td>\n",
       "    </tr>\n",
       "    <tr>\n",
       "      <th>이수진</th>\n",
       "      <td>4.123106</td>\n",
       "      <td>4.000000</td>\n",
       "      <td>1.000000</td>\n",
       "      <td>6.082763</td>\n",
       "      <td>0.000000</td>\n",
       "      <td>1.414214</td>\n",
       "      <td>5.099020</td>\n",
       "      <td>6.324555</td>\n",
       "      <td>3.605551</td>\n",
       "    </tr>\n",
       "    <tr>\n",
       "      <th>이아름</th>\n",
       "      <td>3.605551</td>\n",
       "      <td>5.099020</td>\n",
       "      <td>1.000000</td>\n",
       "      <td>5.385165</td>\n",
       "      <td>1.414214</td>\n",
       "      <td>0.000000</td>\n",
       "      <td>4.000000</td>\n",
       "      <td>7.615773</td>\n",
       "      <td>5.000000</td>\n",
       "    </tr>\n",
       "    <tr>\n",
       "      <th>지태훈</th>\n",
       "      <td>2.236068</td>\n",
       "      <td>7.071068</td>\n",
       "      <td>4.123106</td>\n",
       "      <td>2.236068</td>\n",
       "      <td>5.099020</td>\n",
       "      <td>4.000000</td>\n",
       "      <td>0.000000</td>\n",
       "      <td>9.899495</td>\n",
       "      <td>8.062258</td>\n",
       "    </tr>\n",
       "    <tr>\n",
       "      <th>최광준</th>\n",
       "      <td>7.810250</td>\n",
       "      <td>2.828427</td>\n",
       "      <td>6.708204</td>\n",
       "      <td>9.433981</td>\n",
       "      <td>6.324555</td>\n",
       "      <td>7.615773</td>\n",
       "      <td>9.899495</td>\n",
       "      <td>0.000000</td>\n",
       "      <td>3.000000</td>\n",
       "    </tr>\n",
       "    <tr>\n",
       "      <th>최영록(A)</th>\n",
       "      <td>6.324555</td>\n",
       "      <td>2.236068</td>\n",
       "      <td>4.242641</td>\n",
       "      <td>8.246211</td>\n",
       "      <td>3.605551</td>\n",
       "      <td>5.000000</td>\n",
       "      <td>8.062258</td>\n",
       "      <td>3.000000</td>\n",
       "      <td>0.000000</td>\n",
       "    </tr>\n",
       "  </tbody>\n",
       "</table>\n",
       "</div>"
      ],
      "text/plain": [
       "          김현일(C)    성민기(B)       손지훈       유지석       이수진       이아름       지태훈  \\\n",
       "김현일(C)  0.000000  5.000000  3.162278  2.000000  4.123106  3.605551  2.236068   \n",
       "성민기(B)  5.000000  0.000000  4.123106  6.708204  4.000000  5.099020  7.071068   \n",
       "손지훈     3.162278  4.123106  0.000000  5.099020  1.000000  1.000000  4.123106   \n",
       "유지석     2.000000  6.708204  5.099020  0.000000  6.082763  5.385165  2.236068   \n",
       "이수진     4.123106  4.000000  1.000000  6.082763  0.000000  1.414214  5.099020   \n",
       "이아름     3.605551  5.099020  1.000000  5.385165  1.414214  0.000000  4.000000   \n",
       "지태훈     2.236068  7.071068  4.123106  2.236068  5.099020  4.000000  0.000000   \n",
       "최광준     7.810250  2.828427  6.708204  9.433981  6.324555  7.615773  9.899495   \n",
       "최영록(A)  6.324555  2.236068  4.242641  8.246211  3.605551  5.000000  8.062258   \n",
       "\n",
       "             최광준    최영록(A)  \n",
       "김현일(C)  7.810250  6.324555  \n",
       "성민기(B)  2.828427  2.236068  \n",
       "손지훈     6.708204  4.242641  \n",
       "유지석     9.433981  8.246211  \n",
       "이수진     6.324555  3.605551  \n",
       "이아름     7.615773  5.000000  \n",
       "지태훈     9.899495  8.062258  \n",
       "최광준     0.000000  3.000000  \n",
       "최영록(A)  3.000000  0.000000  "
      ]
     },
     "execution_count": 12,
     "metadata": {},
     "output_type": "execute_result"
    }
   ],
   "source": [
    "euc_score = pd.DataFrame(metrics.euclidean_distances(target))\n",
    "euc_score.index = target.index\n",
    "euc_score.columns = target.index\n",
    "euc_score"
   ]
  },
  {
   "cell_type": "code",
   "execution_count": 13,
   "metadata": {
    "scrolled": false
   },
   "outputs": [
    {
     "data": {
      "text/plain": [
       "[]"
      ]
     },
     "execution_count": 13,
     "metadata": {},
     "output_type": "execute_result"
    },
    {
     "data": {
      "image/png": "[encoded data removed]",
      "text/plain": [
       "<matplotlib.figure.Figure at 0x7f45bf2e50b8>"
      ]
     },
     "metadata": {},
     "output_type": "display_data"
    }
   ],
   "source": [
    "plt.scatter(x='드라마', y='SF', data=res[~res.index.isin(idx_a + idx_b + idx_c)], c='grey', alpha=.5)\n",
    "plt.scatter(x='드라마', y='SF', data=res.loc[idx_a + idx_b + idx_c, :])\n",
    "plt.text(3.7, 0, 'A')\n",
    "plt.text(4.7, 1.9, 'B')\n",
    "plt.text(1.7, 5.9, 'C')\n",
    "plt.plot([4,2], [0,6], '--', c='b')\n",
    "plt.plot([4,5], [0,2], '--', c='orange')\n",
    "plt.text(1.6, 3, '6.324555')\n",
    "plt.text(4.5, 0.5, '2.236068')\n",
    "plt.xlabel('DRAMA')\n",
    "plt.ylabel('SF')\n",
    "plt.plot()"
   ]
  },
  {
   "cell_type": "markdown",
   "metadata": {},
   "source": [
    "B, C가 각각 A로 부터 얼마나 멀리 떨어져 있는지를  \n",
    "Euclidean Distance를 활용해 구했습니다.  \n",
    "눈대중으로 느꼈던 가까움을 숫자로 나타냄으로써 표본들 간의 `비슷함`  \n",
    "상대적으로 비교할 수 있게 되었습니다"
   ]
  },
  {
   "cell_type": "code",
   "execution_count": 14,
   "metadata": {},
   "outputs": [
    {
     "data": {
      "text/html": [
       "<div>\n",
       "<style scoped>\n",
       "    .dataframe tbody tr th:only-of-type {\n",
       "        vertical-align: middle;\n",
       "    }\n",
       "\n",
       "    .dataframe tbody tr th {\n",
       "        vertical-align: top;\n",
       "    }\n",
       "\n",
       "    .dataframe thead th {\n",
       "        text-align: right;\n",
       "    }\n",
       "</style>\n",
       "<table border=\"1\" class=\"dataframe\">\n",
       "  <thead>\n",
       "    <tr style=\"text-align: right;\">\n",
       "      <th></th>\n",
       "      <th>최영록(A)</th>\n",
       "      <th>드라마</th>\n",
       "      <th>SF</th>\n",
       "    </tr>\n",
       "  </thead>\n",
       "  <tbody>\n",
       "    <tr>\n",
       "      <th>성민기(B)</th>\n",
       "      <td>2.236068</td>\n",
       "      <td>5.0</td>\n",
       "      <td>2.0</td>\n",
       "    </tr>\n",
       "    <tr>\n",
       "      <th>최광준</th>\n",
       "      <td>3.000000</td>\n",
       "      <td>7.0</td>\n",
       "      <td>0.0</td>\n",
       "    </tr>\n",
       "    <tr>\n",
       "      <th>이수진</th>\n",
       "      <td>3.605551</td>\n",
       "      <td>1.0</td>\n",
       "      <td>2.0</td>\n",
       "    </tr>\n",
       "    <tr>\n",
       "      <th>손지훈</th>\n",
       "      <td>4.242641</td>\n",
       "      <td>1.0</td>\n",
       "      <td>3.0</td>\n",
       "    </tr>\n",
       "    <tr>\n",
       "      <th>이아름</th>\n",
       "      <td>5.000000</td>\n",
       "      <td>0.0</td>\n",
       "      <td>3.0</td>\n",
       "    </tr>\n",
       "    <tr>\n",
       "      <th>김현일(C)</th>\n",
       "      <td>6.324555</td>\n",
       "      <td>2.0</td>\n",
       "      <td>6.0</td>\n",
       "    </tr>\n",
       "    <tr>\n",
       "      <th>지태훈</th>\n",
       "      <td>8.062258</td>\n",
       "      <td>0.0</td>\n",
       "      <td>7.0</td>\n",
       "    </tr>\n",
       "    <tr>\n",
       "      <th>유지석</th>\n",
       "      <td>8.246211</td>\n",
       "      <td>2.0</td>\n",
       "      <td>8.0</td>\n",
       "    </tr>\n",
       "  </tbody>\n",
       "</table>\n",
       "</div>"
      ],
      "text/plain": [
       "          최영록(A)  드라마   SF\n",
       "성민기(B)  2.236068  5.0  2.0\n",
       "최광준     3.000000  7.0  0.0\n",
       "이수진     3.605551  1.0  2.0\n",
       "손지훈     4.242641  1.0  3.0\n",
       "이아름     5.000000  0.0  3.0\n",
       "김현일(C)  6.324555  2.0  6.0\n",
       "지태훈     8.062258  0.0  7.0\n",
       "유지석     8.246211  2.0  8.0"
      ]
     },
     "execution_count": 14,
     "metadata": {},
     "output_type": "execute_result"
    }
   ],
   "source": [
    "temp = euc_score[['최영록(A)']].sort_values(by='최영록(A)')\n",
    "temp['드라마'] = target['드라마']\n",
    "temp['SF'] = target['SF']\n",
    "temp.iloc[1:]"
   ]
  },
  {
   "cell_type": "markdown",
   "metadata": {},
   "source": [
    "B는 전체 샘플들 가운데에서도 `드라마`와 `SF`라는 두 차원에서  \n",
    "A와 가장 짧은 거리에 있는, 즉 비슷한 영화 장르 취향을 갖고 있는 샘플이었네요"
   ]
  },
  {
   "cell_type": "markdown",
   "metadata": {},
   "source": [
    "그런데 B는 2개의 `SF` 를 좋아하는데 반해  \n",
    "A는 좋아하는 영화 중 `SF` 장르가 하나도 없습니다.  \n",
    "\n",
    "`euclidean distance` 가 가장 작다고 해서  \n",
    "가장 `비슷한`, `유사한` 샘플이라고 할 수 있을까요?"
   ]
  },
  {
   "cell_type": "code",
   "execution_count": 15,
   "metadata": {
    "scrolled": true
   },
   "outputs": [
    {
     "data": {
      "text/plain": [
       "[]"
      ]
     },
     "execution_count": 15,
     "metadata": {},
     "output_type": "execute_result"
    },
    {
     "data": {
      "image/png": "[encoded data removed]",
      "text/plain": [
       "<matplotlib.figure.Figure at 0x7f45bf2eda90>"
      ]
     },
     "metadata": {},
     "output_type": "display_data"
    }
   ],
   "source": [
    "idx_d = list(res[(res['드라마'] == 7) & (res['SF'] == 0)].index)\n",
    "plt.scatter(x='드라마', y='SF', data=res[~res.index.isin(idx_a + idx_b + idx_c + idx_d)], c='grey', alpha=.5)\n",
    "plt.scatter(x='드라마', y='SF', data=res.loc[idx_a + idx_b + idx_c + idx_d, :])\n",
    "plt.text(3.7, 0, 'A')\n",
    "plt.text(4.7, 1.9, 'B')\n",
    "plt.text(1.7, 5.9, 'C')\n",
    "plt.text(7, .5, 'D')\n",
    "plt.plot([4,5], [0,2], '--', c='orange')\n",
    "plt.plot([4,7], [0,0], '--', c='g')\n",
    "plt.text(5.5, .5, '3.0')\n",
    "plt.text(3.5, 1.2, '2.236068')\n",
    "plt.xlabel('DRAMA')\n",
    "plt.ylabel('SF')\n",
    "plt.plot()"
   ]
  },
  {
   "cell_type": "code",
   "execution_count": 16,
   "metadata": {},
   "outputs": [
    {
     "data": {
      "text/html": [
       "<div>\n",
       "<style scoped>\n",
       "    .dataframe tbody tr th:only-of-type {\n",
       "        vertical-align: middle;\n",
       "    }\n",
       "\n",
       "    .dataframe tbody tr th {\n",
       "        vertical-align: top;\n",
       "    }\n",
       "\n",
       "    .dataframe thead th {\n",
       "        text-align: right;\n",
       "    }\n",
       "</style>\n",
       "<table border=\"1\" class=\"dataframe\">\n",
       "  <thead>\n",
       "    <tr style=\"text-align: right;\">\n",
       "      <th></th>\n",
       "      <th>최영록(A)</th>\n",
       "      <th>드라마</th>\n",
       "      <th>SF</th>\n",
       "    </tr>\n",
       "  </thead>\n",
       "  <tbody>\n",
       "    <tr>\n",
       "      <th>성민기(B)</th>\n",
       "      <td>2.236068</td>\n",
       "      <td>5.0</td>\n",
       "      <td>2.0</td>\n",
       "    </tr>\n",
       "    <tr>\n",
       "      <th>최광준(D)</th>\n",
       "      <td>3.000000</td>\n",
       "      <td>7.0</td>\n",
       "      <td>0.0</td>\n",
       "    </tr>\n",
       "    <tr>\n",
       "      <th>이수진</th>\n",
       "      <td>3.605551</td>\n",
       "      <td>1.0</td>\n",
       "      <td>2.0</td>\n",
       "    </tr>\n",
       "    <tr>\n",
       "      <th>손지훈</th>\n",
       "      <td>4.242641</td>\n",
       "      <td>1.0</td>\n",
       "      <td>3.0</td>\n",
       "    </tr>\n",
       "    <tr>\n",
       "      <th>이아름</th>\n",
       "      <td>5.000000</td>\n",
       "      <td>0.0</td>\n",
       "      <td>3.0</td>\n",
       "    </tr>\n",
       "    <tr>\n",
       "      <th>김현일(C)</th>\n",
       "      <td>6.324555</td>\n",
       "      <td>2.0</td>\n",
       "      <td>6.0</td>\n",
       "    </tr>\n",
       "    <tr>\n",
       "      <th>지태훈</th>\n",
       "      <td>8.062258</td>\n",
       "      <td>0.0</td>\n",
       "      <td>7.0</td>\n",
       "    </tr>\n",
       "    <tr>\n",
       "      <th>유지석</th>\n",
       "      <td>8.246211</td>\n",
       "      <td>2.0</td>\n",
       "      <td>8.0</td>\n",
       "    </tr>\n",
       "  </tbody>\n",
       "</table>\n",
       "</div>"
      ],
      "text/plain": [
       "          최영록(A)  드라마   SF\n",
       "성민기(B)  2.236068  5.0  2.0\n",
       "최광준(D)  3.000000  7.0  0.0\n",
       "이수진     3.605551  1.0  2.0\n",
       "손지훈     4.242641  1.0  3.0\n",
       "이아름     5.000000  0.0  3.0\n",
       "김현일(C)  6.324555  2.0  6.0\n",
       "지태훈     8.062258  0.0  7.0\n",
       "유지석     8.246211  2.0  8.0"
      ]
     },
     "execution_count": 16,
     "metadata": {},
     "output_type": "execute_result"
    }
   ],
   "source": [
    "target.index = ['김현일(C)', '성민기(B)', '손지훈', '유지석', '이수진', '이아름', '지태훈', '최광준(D)', '최영록(A)']\n",
    "euc_score.index = ['김현일(C)', '성민기(B)', '손지훈', '유지석', '이수진', '이아름', '지태훈', '최광준(D)', '최영록(A)']\n",
    "temp = euc_score[['최영록(A)']].sort_values(by='최영록(A)')\n",
    "temp['드라마'] = target['드라마']\n",
    "temp['SF'] = target['SF']\n",
    "temp.iloc[1:]"
   ]
  },
  {
   "cell_type": "markdown",
   "metadata": {},
   "source": [
    "D는 B보다 A와의 Euclidean Distance가 크지만   \n",
    "SF 장르를 좋아하지 않고, 드라마 장르만 좋아한다고 보고했습니다.  \n",
    "<br>\n",
    "`3` 이라는 거리는 SF와 드라마 중에서는 드라마만 좋아한다는 `방향` 때문에 생긴 것이 아니라  \n",
    "같은 `방향`에서 드라마를 좋아하는 `크기` 에 따라 발생한 것 입니다"
   ]
  },
  {
   "cell_type": "markdown",
   "metadata": {},
   "source": [
    "<br>\n",
    "### Vector Space\n",
    "로 문제를 확장함으로써 샘플들 간의 `방향`을 측정할 수 있습니다"
   ]
  },
  {
   "cell_type": "code",
   "execution_count": 17,
   "metadata": {},
   "outputs": [
    {
     "data": {
      "text/plain": [
       "[]"
      ]
     },
     "execution_count": 17,
     "metadata": {},
     "output_type": "execute_result"
    },
    {
     "data": {
      "image/png": "[encoded data removed]",
      "text/plain": [
       "<matplotlib.figure.Figure at 0x7f45bedebe48>"
      ]
     },
     "metadata": {},
     "output_type": "display_data"
    }
   ],
   "source": [
    "plt.scatter(x='드라마', y='SF', data=res[~res.index.isin(idx_a + idx_b + idx_c + idx_d)], c='grey', alpha=.5)\n",
    "plt.scatter(x='드라마', y='SF', data=res.loc[idx_d, :])\n",
    "plt.text(3.7, .2, 'A')\n",
    "plt.text(4.7, 2.1, 'B')\n",
    "plt.text(1.7, 5.9, 'C')\n",
    "plt.text(7, .5, 'D')\n",
    "for vec in res.loc[idx_a + idx_b + idx_c, :].iterrows():\n",
    "    plt.arrow(0, 0, vec[1]['드라마'], vec[1]['SF'], head_width=.1)\n",
    "plt.xlabel('DRAMA')\n",
    "plt.ylabel('SF')\n",
    "plt.plot()"
   ]
  },
  {
   "cell_type": "markdown",
   "metadata": {},
   "source": [
    "\\begin{align}\n",
    "\\vec{A} &= (4, 0) \\\\\n",
    "\\vec{B} &= (5, 2) \\\\\n",
    "\\vec{C} &= (2, 6) \\\\\n",
    "\\end{align}"
   ]
  },
  {
   "cell_type": "markdown",
   "metadata": {},
   "source": [
    "각각의 샘플을 2차원 `vector`로 생각하고  \n",
    "원점 $(0, 0)$ 에서 부터의 방향과 크기를 상대적으로 비교하면  \n",
    "샘플들 vector들 간의 `각도` 가 보입니다"
   ]
  },
  {
   "cell_type": "markdown",
   "metadata": {},
   "source": [
    "눈대중으로도 $\\vec{A}$는 $\\vec{C}$보다 $\\vec{B}$와  \n",
    "원점을 기준으로 더 작은 `각도`, 즉 더 비슷한 `방향` 을 갖고 있습니다"
   ]
  },
  {
   "cell_type": "markdown",
   "metadata": {},
   "source": [
    "<br>\n",
    "### Cosine Similarity \n",
    "를 활용해서 두 벡터 간의 `방향`차이를 수로 나타낼 수 있습니다"
   ]
  },
  {
   "cell_type": "markdown",
   "metadata": {},
   "source": [
    "\\begin{align}\n",
    "\\mathbf {a} \\cdot \\mathbf {b} =\\left\\|\\mathbf {a} \\right\\|\\left\\|\\mathbf {b} \\right\\|\\cos \\theta  \n",
    "\\end{align}"
   ]
  },
  {
   "cell_type": "markdown",
   "metadata": {},
   "source": [
    "cosine similarity는 두 vector의 내적을 구하는 위 공식에서 유도됩니다"
   ]
  },
  {
   "cell_type": "markdown",
   "metadata": {},
   "source": [
    "\\begin{align}\n",
    "\\text{similarity} &= \\cos(\\theta ) \\\\\n",
    "&= \\frac{\\mathbf {a} \\cdot \\mathbf {b}} {\\|\\mathbf {a} \\|\\|\\mathbf {b} \\|} \\\\\n",
    "\\end{align}"
   ]
  },
  {
   "cell_type": "markdown",
   "metadata": {},
   "source": [
    "<img src=\"https://image01.ipracticemath.com/content/imageslm/Trignometry/Graph.png\">"
   ]
  },
  {
   "cell_type": "markdown",
   "metadata": {},
   "source": [
    "$\\cos(\\theta)$는  \n",
    "$\\theta = 0^\\circ$ 일때 1  \n",
    "$\\theta = 90^\\circ$ 일때 0 을 반환하는 함수 입니다"
   ]
  },
  {
   "cell_type": "markdown",
   "metadata": {},
   "source": [
    "때문에 데이터가 양수 공간에만 존재할 때  \n",
    "즉, 두 vector가 이루는 각이 최소 $0^\\circ$에서 최대 $90^\\circ$ 사이에 있을 때  \n",
    "vector 간의 `방향`이 얼마나 비슷한지 나타낼 수 있습니다"
   ]
  },
  {
   "cell_type": "markdown",
   "metadata": {},
   "source": [
    "vector간의 각도가 $0^\\circ$에 가까워질 수록 1에 가까운 수를  \n",
    "vector간의 각도가 $90^\\circ$에 가까워질 수록 0에 가까운 수를 반환하는   \n",
    "$\\cos(\\theta)$ 값이 `cosine similarity` 입니다"
   ]
  },
  {
   "cell_type": "markdown",
   "metadata": {},
   "source": [
    "1에서 0에서 1 사이의 값을 갖는 cosine similarity를 빼주면  \n",
    "`cosine distance`가 유도됩니다.  "
   ]
  },
  {
   "cell_type": "markdown",
   "metadata": {},
   "source": [
    "\\begin{align}\n",
    "\\text{distance}=1-{\\text{similarity}}\n",
    "\\end{align}"
   ]
  },
  {
   "cell_type": "markdown",
   "metadata": {},
   "source": [
    "<br>\n",
    "`드라마`, `SF` 2 차원 평면에서 샘플들 간의 `cosine distance`를 측정하면 다음과 같습니다"
   ]
  },
  {
   "cell_type": "code",
   "execution_count": 18,
   "metadata": {},
   "outputs": [
    {
     "data": {
      "text/html": [
       "<div>\n",
       "<style scoped>\n",
       "    .dataframe tbody tr th:only-of-type {\n",
       "        vertical-align: middle;\n",
       "    }\n",
       "\n",
       "    .dataframe tbody tr th {\n",
       "        vertical-align: top;\n",
       "    }\n",
       "\n",
       "    .dataframe thead th {\n",
       "        text-align: right;\n",
       "    }\n",
       "</style>\n",
       "<table border=\"1\" class=\"dataframe\">\n",
       "  <thead>\n",
       "    <tr style=\"text-align: right;\">\n",
       "      <th></th>\n",
       "      <th>김현일(C)</th>\n",
       "      <th>성민기(B)</th>\n",
       "      <th>손지훈</th>\n",
       "      <th>유지석</th>\n",
       "      <th>이수진</th>\n",
       "      <th>이아름</th>\n",
       "      <th>지태훈</th>\n",
       "      <th>최광준(D)</th>\n",
       "      <th>최영록(A)</th>\n",
       "    </tr>\n",
       "  </thead>\n",
       "  <tbody>\n",
       "    <tr>\n",
       "      <th>김현일(C)</th>\n",
       "      <td>0.000000</td>\n",
       "      <td>0.354058</td>\n",
       "      <td>0.000000</td>\n",
       "      <td>0.002946</td>\n",
       "      <td>0.010051</td>\n",
       "      <td>0.051317</td>\n",
       "      <td>0.051317</td>\n",
       "      <td>0.683772</td>\n",
       "      <td>0.683772</td>\n",
       "    </tr>\n",
       "    <tr>\n",
       "      <th>성민기(B)</th>\n",
       "      <td>0.354058</td>\n",
       "      <td>0.000000</td>\n",
       "      <td>0.354058</td>\n",
       "      <td>0.414509</td>\n",
       "      <td>0.252591</td>\n",
       "      <td>0.628609</td>\n",
       "      <td>0.628609</td>\n",
       "      <td>0.071523</td>\n",
       "      <td>0.071523</td>\n",
       "    </tr>\n",
       "    <tr>\n",
       "      <th>손지훈</th>\n",
       "      <td>0.000000</td>\n",
       "      <td>0.354058</td>\n",
       "      <td>0.000000</td>\n",
       "      <td>0.002946</td>\n",
       "      <td>0.010051</td>\n",
       "      <td>0.051317</td>\n",
       "      <td>0.051317</td>\n",
       "      <td>0.683772</td>\n",
       "      <td>0.683772</td>\n",
       "    </tr>\n",
       "    <tr>\n",
       "      <th>유지석</th>\n",
       "      <td>0.002946</td>\n",
       "      <td>0.414509</td>\n",
       "      <td>0.002946</td>\n",
       "      <td>0.000000</td>\n",
       "      <td>0.023813</td>\n",
       "      <td>0.029857</td>\n",
       "      <td>0.029857</td>\n",
       "      <td>0.757464</td>\n",
       "      <td>0.757464</td>\n",
       "    </tr>\n",
       "    <tr>\n",
       "      <th>이수진</th>\n",
       "      <td>0.010051</td>\n",
       "      <td>0.252591</td>\n",
       "      <td>0.010051</td>\n",
       "      <td>0.023813</td>\n",
       "      <td>0.000000</td>\n",
       "      <td>0.105573</td>\n",
       "      <td>0.105573</td>\n",
       "      <td>0.552786</td>\n",
       "      <td>0.552786</td>\n",
       "    </tr>\n",
       "    <tr>\n",
       "      <th>이아름</th>\n",
       "      <td>0.051317</td>\n",
       "      <td>0.628609</td>\n",
       "      <td>0.051317</td>\n",
       "      <td>0.029857</td>\n",
       "      <td>0.105573</td>\n",
       "      <td>0.000000</td>\n",
       "      <td>0.000000</td>\n",
       "      <td>1.000000</td>\n",
       "      <td>1.000000</td>\n",
       "    </tr>\n",
       "    <tr>\n",
       "      <th>지태훈</th>\n",
       "      <td>0.051317</td>\n",
       "      <td>0.628609</td>\n",
       "      <td>0.051317</td>\n",
       "      <td>0.029857</td>\n",
       "      <td>0.105573</td>\n",
       "      <td>0.000000</td>\n",
       "      <td>0.000000</td>\n",
       "      <td>1.000000</td>\n",
       "      <td>1.000000</td>\n",
       "    </tr>\n",
       "    <tr>\n",
       "      <th>최광준(D)</th>\n",
       "      <td>0.683772</td>\n",
       "      <td>0.071523</td>\n",
       "      <td>0.683772</td>\n",
       "      <td>0.757464</td>\n",
       "      <td>0.552786</td>\n",
       "      <td>1.000000</td>\n",
       "      <td>1.000000</td>\n",
       "      <td>0.000000</td>\n",
       "      <td>0.000000</td>\n",
       "    </tr>\n",
       "    <tr>\n",
       "      <th>최영록(A)</th>\n",
       "      <td>0.683772</td>\n",
       "      <td>0.071523</td>\n",
       "      <td>0.683772</td>\n",
       "      <td>0.757464</td>\n",
       "      <td>0.552786</td>\n",
       "      <td>1.000000</td>\n",
       "      <td>1.000000</td>\n",
       "      <td>0.000000</td>\n",
       "      <td>0.000000</td>\n",
       "    </tr>\n",
       "  </tbody>\n",
       "</table>\n",
       "</div>"
      ],
      "text/plain": [
       "          김현일(C)    성민기(B)       손지훈       유지석       이수진       이아름       지태훈  \\\n",
       "김현일(C)  0.000000  0.354058  0.000000  0.002946  0.010051  0.051317  0.051317   \n",
       "성민기(B)  0.354058  0.000000  0.354058  0.414509  0.252591  0.628609  0.628609   \n",
       "손지훈     0.000000  0.354058  0.000000  0.002946  0.010051  0.051317  0.051317   \n",
       "유지석     0.002946  0.414509  0.002946  0.000000  0.023813  0.029857  0.029857   \n",
       "이수진     0.010051  0.252591  0.010051  0.023813  0.000000  0.105573  0.105573   \n",
       "이아름     0.051317  0.628609  0.051317  0.029857  0.105573  0.000000  0.000000   \n",
       "지태훈     0.051317  0.628609  0.051317  0.029857  0.105573  0.000000  0.000000   \n",
       "최광준(D)  0.683772  0.071523  0.683772  0.757464  0.552786  1.000000  1.000000   \n",
       "최영록(A)  0.683772  0.071523  0.683772  0.757464  0.552786  1.000000  1.000000   \n",
       "\n",
       "          최광준(D)    최영록(A)  \n",
       "김현일(C)  0.683772  0.683772  \n",
       "성민기(B)  0.071523  0.071523  \n",
       "손지훈     0.683772  0.683772  \n",
       "유지석     0.757464  0.757464  \n",
       "이수진     0.552786  0.552786  \n",
       "이아름     1.000000  1.000000  \n",
       "지태훈     1.000000  1.000000  \n",
       "최광준(D)  0.000000  0.000000  \n",
       "최영록(A)  0.000000  0.000000  "
      ]
     },
     "execution_count": 18,
     "metadata": {},
     "output_type": "execute_result"
    }
   ],
   "source": [
    "cos_score = pd.DataFrame(metrics.pairwise.cosine_distances(target))\n",
    "cos_score.index = target.index\n",
    "cos_score.columns = target.index\n",
    "cos_score"
   ]
  },
  {
   "cell_type": "markdown",
   "metadata": {},
   "source": [
    "<br>\n",
    "vector A와 이루는 각이 작을 수록 더 작은 값을 갖는 `cosine distance`를 기준으로  \n",
    "유사도를 측정했을 때 A와 가장 가까운 샘플은 B가 아닌 D 입니다.  "
   ]
  },
  {
   "cell_type": "code",
   "execution_count": 19,
   "metadata": {
    "scrolled": true
   },
   "outputs": [
    {
     "data": {
      "text/html": [
       "<div>\n",
       "<style scoped>\n",
       "    .dataframe tbody tr th:only-of-type {\n",
       "        vertical-align: middle;\n",
       "    }\n",
       "\n",
       "    .dataframe tbody tr th {\n",
       "        vertical-align: top;\n",
       "    }\n",
       "\n",
       "    .dataframe thead th {\n",
       "        text-align: right;\n",
       "    }\n",
       "</style>\n",
       "<table border=\"1\" class=\"dataframe\">\n",
       "  <thead>\n",
       "    <tr style=\"text-align: right;\">\n",
       "      <th></th>\n",
       "      <th>최영록(A)</th>\n",
       "      <th>드라마</th>\n",
       "      <th>SF</th>\n",
       "    </tr>\n",
       "  </thead>\n",
       "  <tbody>\n",
       "    <tr>\n",
       "      <th>최광준(D)</th>\n",
       "      <td>0.000000</td>\n",
       "      <td>7.0</td>\n",
       "      <td>0.0</td>\n",
       "    </tr>\n",
       "    <tr>\n",
       "      <th>성민기(B)</th>\n",
       "      <td>0.071523</td>\n",
       "      <td>5.0</td>\n",
       "      <td>2.0</td>\n",
       "    </tr>\n",
       "    <tr>\n",
       "      <th>이수진</th>\n",
       "      <td>0.552786</td>\n",
       "      <td>1.0</td>\n",
       "      <td>2.0</td>\n",
       "    </tr>\n",
       "    <tr>\n",
       "      <th>김현일(C)</th>\n",
       "      <td>0.683772</td>\n",
       "      <td>2.0</td>\n",
       "      <td>6.0</td>\n",
       "    </tr>\n",
       "    <tr>\n",
       "      <th>손지훈</th>\n",
       "      <td>0.683772</td>\n",
       "      <td>1.0</td>\n",
       "      <td>3.0</td>\n",
       "    </tr>\n",
       "    <tr>\n",
       "      <th>유지석</th>\n",
       "      <td>0.757464</td>\n",
       "      <td>2.0</td>\n",
       "      <td>8.0</td>\n",
       "    </tr>\n",
       "    <tr>\n",
       "      <th>이아름</th>\n",
       "      <td>1.000000</td>\n",
       "      <td>0.0</td>\n",
       "      <td>3.0</td>\n",
       "    </tr>\n",
       "    <tr>\n",
       "      <th>지태훈</th>\n",
       "      <td>1.000000</td>\n",
       "      <td>0.0</td>\n",
       "      <td>7.0</td>\n",
       "    </tr>\n",
       "  </tbody>\n",
       "</table>\n",
       "</div>"
      ],
      "text/plain": [
       "          최영록(A)  드라마   SF\n",
       "최광준(D)  0.000000  7.0  0.0\n",
       "성민기(B)  0.071523  5.0  2.0\n",
       "이수진     0.552786  1.0  2.0\n",
       "김현일(C)  0.683772  2.0  6.0\n",
       "손지훈     0.683772  1.0  3.0\n",
       "유지석     0.757464  2.0  8.0\n",
       "이아름     1.000000  0.0  3.0\n",
       "지태훈     1.000000  0.0  7.0"
      ]
     },
     "execution_count": 19,
     "metadata": {},
     "output_type": "execute_result"
    }
   ],
   "source": [
    "temp = cos_score[['최영록(A)']].sort_values(by='최영록(A)')\n",
    "temp['드라마'] = target['드라마']\n",
    "temp['SF'] = target['SF']\n",
    "temp[temp.index!='최영록(A)']"
   ]
  },
  {
   "cell_type": "code",
   "execution_count": 20,
   "metadata": {},
   "outputs": [
    {
     "data": {
      "text/plain": [
       "[]"
      ]
     },
     "execution_count": 20,
     "metadata": {},
     "output_type": "execute_result"
    },
    {
     "data": {
      "image/png": "[encoded data removed]",
      "text/plain": [
       "<matplotlib.figure.Figure at 0x7f45bed72048>"
      ]
     },
     "metadata": {},
     "output_type": "display_data"
    }
   ],
   "source": [
    "plt.scatter(x='드라마', y='SF', data=res[~res.index.isin(idx_a + idx_b + idx_c + idx_d)], c='grey', alpha=.5)\n",
    "plt.scatter(x='드라마', y='SF', data=res.loc[idx_d, :], alpha=0.0)\n",
    "plt.text(3.7, .2, 'A')\n",
    "plt.text(4.7, 2.1, 'B')\n",
    "plt.text(1.7, 5.9, 'C')\n",
    "plt.text(7, .5, 'D')\n",
    "for vec in res.loc[idx_a + idx_b + idx_c + idx_d, :].iterrows():\n",
    "    if ~((vec[1]['드라마'] == 7) & (vec[1]['SF'] == 0)):\n",
    "        plt.arrow(0, 0, vec[1]['드라마'], vec[1]['SF'], head_width=.1)\n",
    "    else:\n",
    "        plt.arrow(0, 0, vec[1]['드라마'], vec[1]['SF'], head_width=.1, color='orange', ls='--')\n",
    "plt.xlabel('DRAMA')\n",
    "plt.ylabel('SF')\n",
    "plt.plot()"
   ]
  },
  {
   "cell_type": "markdown",
   "metadata": {},
   "source": [
    "A와 D는 드라마와 SF 장르라는 차원에서 이루는 각이 $0^\\circ$이므로  \n",
    "$\\cos(\\theta) = 0$, 즉 완전히 같은 방향을 이루고 있는 vector임을 알 수 있습니다."
   ]
  },
  {
   "cell_type": "markdown",
   "metadata": {},
   "source": [
    "<br>\n",
    "### 그래프로 그릴 수 없는\n",
    "4차원 이상의 vector space에서도 같은 방식으로 vector들 간의  \n",
    "방향 유사도를 `cosine distance`를 활용해 나타낼 수 있습니다"
   ]
  },
  {
   "cell_type": "markdown",
   "metadata": {},
   "source": [
    "스터디 멤버들의 전체 9개 영화 장르에 대한 `cosine similarity`를 구하면 다음과 같습니다"
   ]
  },
  {
   "cell_type": "markdown",
   "metadata": {},
   "source": [
    "<br>\n",
    "\\begin{align}\n",
    "\\text{similarity}=1-{\\text{distance}}\n",
    "\\end{align}\n",
    "<br>"
   ]
  },
  {
   "cell_type": "code",
   "execution_count": 21,
   "metadata": {},
   "outputs": [
    {
     "data": {
      "image/png": "[encoded data removed]",
      "text/plain": [
       "<matplotlib.figure.Figure at 0x7f45bee04b00>"
      ]
     },
     "metadata": {},
     "output_type": "display_data"
    }
   ],
   "source": [
    "cos_score_all = pd.DataFrame(metrics.pairwise.cosine_distances(res))\n",
    "cos_score_all.index = target.index\n",
    "cos_score_all.columns = target.index\n",
    "plt.figure(figsize=(8,6))\n",
    "sns.heatmap(1 - cos_score_all, cmap='OrRd', annot=True)\n",
    "plt.xlabel('선호 영화 장르 유사도(cosine similarity)')\n",
    "plt.show()"
   ]
  },
  {
   "cell_type": "markdown",
   "metadata": {},
   "source": [
    "두 vector간의 $\\cos(\\theta)$ 는  \n",
    "vector들의 inner product를  \n",
    "vector들의 magnitude의 곱으로 normalize 한 효과를 줌으로써,  \n",
    "데이터간의 `크기` 가 아닌 `방향` 을 기준으로 유사도를 측정하고자 할 때 활용할 수 있습니다"
   ]
  },
  {
   "cell_type": "code",
   "execution_count": 22,
   "metadata": {},
   "outputs": [
    {
     "data": {
      "image/png": "[encoded data removed]",
      "text/plain": [
       "<matplotlib.figure.Figure at 0x7f45bd4fb4e0>"
      ]
     },
     "metadata": {},
     "output_type": "display_data"
    }
   ],
   "source": [
    "vector_a = [4, 0]\n",
    "vector_b = [4, 3]\n",
    "vector_c = [2, np.sqrt(5)]\n",
    "plt.scatter(list(zip(vector_a, vector_b, vector_c))[0], list(zip(vector_a, vector_b, vector_c))[1])\n",
    "for vec in [vector_a, vector_b, vector_c]:\n",
    "    plt.arrow(0, 0, vec[0], vec[1], head_width=.1)\n",
    "plt.xlim(0, 4.5)\n",
    "plt.ylim(-0.2, 5)\n",
    "plt.text(4.1, 0.3, 'A')\n",
    "plt.text(4, 3.3, 'B')\n",
    "plt.text(2, 2.5, 'C')\n",
    "\n",
    "\n",
    "plt.plot([4,2], [0,np.sqrt(5)], '--', c='orange')\n",
    "plt.plot([4,4], [0,3], '--', c='g')\n",
    "plt.text(2.9, 1.5, '2.0')\n",
    "plt.text(4.1, 1.5, '2.0')\n",
    "plt.show()"
   ]
  },
  {
   "cell_type": "markdown",
   "metadata": {},
   "source": [
    "위 그래프에서 점 B와 C는 모두 A로 부터 같은 `euclidean distance` 2 만큼 떨어져 있지만  \n",
    "$\\vec{A}$와 이루는 각이 더 작은 $\\vec{B}$가 $\\vec{C}$보다 더 비슷한 방향을 향하고 있음을 직관적으로 이해할 수 있습니다  \n",
    "`크기` 가 아닌 `방향`을 측정할 때 새로운 의미가 드러나는 상황입니다 "
   ]
  },
  {
   "cell_type": "markdown",
   "metadata": {},
   "source": [
    "<br>\n",
    "### Clustering\n",
    "은 vector 차원들로 추출하고자 하는 `유사도` 의 개념을 무엇으로 정의하느냐에 따라  \n",
    "거리를 측정하는 metric부터 달라지게 됩니다."
   ]
  },
  {
   "cell_type": "markdown",
   "metadata": {},
   "source": [
    "영화 장르의 선호가 얼마나 비슷한 `방향` 을 향하고 있는지 알고 싶다면 `cosine distance`를 기준으로  \n",
    "스터디 멤버들의 영화 장르 선호 군집을 찾아볼 수 있을 것 같습니다."
   ]
  },
  {
   "cell_type": "markdown",
   "metadata": {},
   "source": [
    "동일 밀도(density)를 기준으로 군집을 찾는  \n",
    "`DBSCAN`(Density-Based Spatial Clustering of Applications with Noise) 알고리즘을 활용하면서  \n",
    "metric=`'cosine'`으로 설정하면 `cosine distance`를 기준으로 군집을 탐색합니다"
   ]
  },
  {
   "cell_type": "markdown",
   "metadata": {},
   "source": [
    "<img src='https://qph.fs.quoracdn.net/main-qimg-fb7f9859bb53437d7b5fadf7363a0001-c' height=\"300\" width=\"400\">"
   ]
  },
  {
   "cell_type": "markdown",
   "metadata": {},
   "source": [
    "http://scikit-learn.org/stable/modules/generated/sklearn.cluster.DBSCAN.html"
   ]
  },
  {
   "cell_type": "code",
   "execution_count": 23,
   "metadata": {},
   "outputs": [],
   "source": [
    "from sklearn.cluster.dbscan_ import DBSCAN"
   ]
  },
  {
   "cell_type": "code",
   "execution_count": 24,
   "metadata": {},
   "outputs": [
    {
     "name": "stdout",
     "output_type": "stream",
     "text": [
      "silhouette: 0.46032530595513843\n"
     ]
    }
   ],
   "source": [
    "db = DBSCAN(eps=0.3, min_samples=3, metric='cosine')\n",
    "label = db.fit_predict(res)\n",
    "cluster = res.reset_index()[['name']]\n",
    "cluster['label'] = label\n",
    "print('silhouette: {}'.format(metrics.silhouette_score(res, cluster.label)))"
   ]
  },
  {
   "cell_type": "code",
   "execution_count": 25,
   "metadata": {},
   "outputs": [
    {
     "data": {
      "text/html": [
       "<div>\n",
       "<style scoped>\n",
       "    .dataframe tbody tr th:only-of-type {\n",
       "        vertical-align: middle;\n",
       "    }\n",
       "\n",
       "    .dataframe tbody tr th {\n",
       "        vertical-align: top;\n",
       "    }\n",
       "\n",
       "    .dataframe thead th {\n",
       "        text-align: right;\n",
       "    }\n",
       "</style>\n",
       "<table border=\"1\" class=\"dataframe\">\n",
       "  <thead>\n",
       "    <tr style=\"text-align: right;\">\n",
       "      <th>genre</th>\n",
       "      <th>name</th>\n",
       "      <th>label</th>\n",
       "    </tr>\n",
       "  </thead>\n",
       "  <tbody>\n",
       "    <tr>\n",
       "      <th>0</th>\n",
       "      <td>김현일</td>\n",
       "      <td>0</td>\n",
       "    </tr>\n",
       "    <tr>\n",
       "      <th>3</th>\n",
       "      <td>유지석</td>\n",
       "      <td>0</td>\n",
       "    </tr>\n",
       "    <tr>\n",
       "      <th>6</th>\n",
       "      <td>지태훈</td>\n",
       "      <td>0</td>\n",
       "    </tr>\n",
       "    <tr>\n",
       "      <th>1</th>\n",
       "      <td>성민기</td>\n",
       "      <td>1</td>\n",
       "    </tr>\n",
       "    <tr>\n",
       "      <th>7</th>\n",
       "      <td>최광준</td>\n",
       "      <td>1</td>\n",
       "    </tr>\n",
       "    <tr>\n",
       "      <th>8</th>\n",
       "      <td>최영록</td>\n",
       "      <td>1</td>\n",
       "    </tr>\n",
       "    <tr>\n",
       "      <th>2</th>\n",
       "      <td>손지훈</td>\n",
       "      <td>2</td>\n",
       "    </tr>\n",
       "    <tr>\n",
       "      <th>4</th>\n",
       "      <td>이수진</td>\n",
       "      <td>2</td>\n",
       "    </tr>\n",
       "    <tr>\n",
       "      <th>5</th>\n",
       "      <td>이아름</td>\n",
       "      <td>2</td>\n",
       "    </tr>\n",
       "  </tbody>\n",
       "</table>\n",
       "</div>"
      ],
      "text/plain": [
       "genre name  label\n",
       "0      김현일      0\n",
       "3      유지석      0\n",
       "6      지태훈      0\n",
       "1      성민기      1\n",
       "7      최광준      1\n",
       "8      최영록      1\n",
       "2      손지훈      2\n",
       "4      이수진      2\n",
       "5      이아름      2"
      ]
     },
     "execution_count": 25,
     "metadata": {},
     "output_type": "execute_result"
    }
   ],
   "source": [
    "cluster.sort_values(by='label')"
   ]
  },
  {
   "cell_type": "markdown",
   "metadata": {},
   "source": [
    "DBSCAN 알고리즘이 스터디 멤버들의 선호 영화 장르 군집 3개를 찾았습니다"
   ]
  },
  {
   "cell_type": "code",
   "execution_count": 26,
   "metadata": {},
   "outputs": [],
   "source": [
    "class0 = df[df.name.isin(cluster.name[cluster.label == 0])]\n",
    "class1 = df[df.name.isin(cluster.name[cluster.label == 1])]\n",
    "class2 = df[df.name.isin(cluster.name[cluster.label == 2])]\n",
    "class0.to_csv('./추천영화_class0.csv', index=False)\n",
    "class1.to_csv('./추천영화_class1.csv', index=False)\n",
    "class2.to_csv('./추천영화_class2.csv', index=False)"
   ]
  },
  {
   "cell_type": "markdown",
   "metadata": {},
   "source": [
    "<br>\n",
    "유사한 영화 장르 선호를 가진 멤버들의 watched list로 추천 영화 목록을 뽑아 볼 수도 있겠네요"
   ]
  },
  {
   "cell_type": "code",
   "execution_count": 27,
   "metadata": {
    "scrolled": true
   },
   "outputs": [
    {
     "data": {
      "text/html": [
       "<div>\n",
       "<style scoped>\n",
       "    .dataframe tbody tr th:only-of-type {\n",
       "        vertical-align: middle;\n",
       "    }\n",
       "\n",
       "    .dataframe tbody tr th {\n",
       "        vertical-align: top;\n",
       "    }\n",
       "\n",
       "    .dataframe thead th {\n",
       "        text-align: right;\n",
       "    }\n",
       "</style>\n",
       "<table border=\"1\" class=\"dataframe\">\n",
       "  <thead>\n",
       "    <tr style=\"text-align: right;\">\n",
       "      <th></th>\n",
       "      <th>name</th>\n",
       "      <th>movie</th>\n",
       "      <th>genre</th>\n",
       "    </tr>\n",
       "  </thead>\n",
       "  <tbody>\n",
       "    <tr>\n",
       "      <th>55</th>\n",
       "      <td>지태훈</td>\n",
       "      <td>토르</td>\n",
       "      <td>SF</td>\n",
       "    </tr>\n",
       "    <tr>\n",
       "      <th>83</th>\n",
       "      <td>김현일</td>\n",
       "      <td>바람과함께 사라지다</td>\n",
       "      <td>드라마</td>\n",
       "    </tr>\n",
       "    <tr>\n",
       "      <th>56</th>\n",
       "      <td>지태훈</td>\n",
       "      <td>퍼시픽림</td>\n",
       "      <td>SF</td>\n",
       "    </tr>\n",
       "    <tr>\n",
       "      <th>14</th>\n",
       "      <td>유지석</td>\n",
       "      <td>어벤져스</td>\n",
       "      <td>SF</td>\n",
       "    </tr>\n",
       "    <tr>\n",
       "      <th>51</th>\n",
       "      <td>지태훈</td>\n",
       "      <td>해리포터</td>\n",
       "      <td>판타지</td>\n",
       "    </tr>\n",
       "    <tr>\n",
       "      <th>82</th>\n",
       "      <td>김현일</td>\n",
       "      <td>부산행</td>\n",
       "      <td>SF</td>\n",
       "    </tr>\n",
       "    <tr>\n",
       "      <th>53</th>\n",
       "      <td>지태훈</td>\n",
       "      <td>아이언맨</td>\n",
       "      <td>SF</td>\n",
       "    </tr>\n",
       "    <tr>\n",
       "      <th>10</th>\n",
       "      <td>유지석</td>\n",
       "      <td>인셉션</td>\n",
       "      <td>SF</td>\n",
       "    </tr>\n",
       "    <tr>\n",
       "      <th>12</th>\n",
       "      <td>유지석</td>\n",
       "      <td>컨택트</td>\n",
       "      <td>SF</td>\n",
       "    </tr>\n",
       "    <tr>\n",
       "      <th>19</th>\n",
       "      <td>유지석</td>\n",
       "      <td>바닐라스카이</td>\n",
       "      <td>드라마</td>\n",
       "    </tr>\n",
       "  </tbody>\n",
       "</table>\n",
       "</div>"
      ],
      "text/plain": [
       "   name       movie genre\n",
       "55  지태훈          토르    SF\n",
       "83  김현일  바람과함께 사라지다   드라마\n",
       "56  지태훈        퍼시픽림    SF\n",
       "14  유지석        어벤져스    SF\n",
       "51  지태훈        해리포터   판타지\n",
       "82  김현일         부산행    SF\n",
       "53  지태훈        아이언맨    SF\n",
       "10  유지석         인셉션    SF\n",
       "12  유지석         컨택트    SF\n",
       "19  유지석      바닐라스카이   드라마"
      ]
     },
     "execution_count": 27,
     "metadata": {},
     "output_type": "execute_result"
    }
   ],
   "source": [
    "from sklearn.utils import shuffle\n",
    "shuffle(class0).head(10)"
   ]
  },
  {
   "cell_type": "markdown",
   "metadata": {},
   "source": [
    "스터디 멤버들의 영화 장르 선호 군집화 과제를 진행하면서  \n",
    "양수 공간에서 문제를 vector space로 확장하고 `방향`을 기준으로 `유사도`를 측정하는 개념을 간단히 공부해봤습니다.  \n",
    "다음에는 optimization method를 공부한 후에 군집화 알고리즘을 직접 작성해보면 더 재밌겠네요!"
   ]
  }
 ],
 "metadata": {
  "kernelspec": {
   "display_name": "Python 3",
   "language": "python",
   "name": "python3"
  },
  "language_info": {
   "codemirror_mode": {
    "name": "ipython",
    "version": 3
   },
   "file_extension": ".py",
   "mimetype": "text/x-python",
   "name": "python",
   "nbconvert_exporter": "python",
   "pygments_lexer": "ipython3",
   "version": "3.6.4"
  }
 },
 "nbformat": 4,
 "nbformat_minor": 2
}
