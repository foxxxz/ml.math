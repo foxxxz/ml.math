{
 "cells": [
  {
   "cell_type": "code",
   "execution_count": 1,
   "metadata": {
    "scrolled": true
   },
   "outputs": [],
   "source": [
    "import numpy as np\n",
    "import pandas as pd\n",
    "import scipy as sp\n",
    "import matplotlib.pylab as plt\n",
    "import seaborn as sns"
   ]
  },
  {
   "cell_type": "markdown",
   "metadata": {},
   "source": [
    "<br>\n",
    "### 공평한 동전 던지기\n",
    "16번 동전을 던져서 13번 앞면, 3번 뒷면이 나왔다면  \n",
    "이 동전은 던져서 앞면이 나올 `사건`에 대해 공정한 동전일까요?"
   ]
  },
  {
   "cell_type": "markdown",
   "metadata": {},
   "source": [
    "<br>\n",
    "<center>H: 13</center>\n",
    "<p>\n",
    "<center>T: 3</center>\n",
    "<p>\n",
    "<center>is fair?</center>"
   ]
  },
  {
   "cell_type": "markdown",
   "metadata": {},
   "source": [
    "<br>\n",
    "16번 중에 13번. 81.25% 비율로 앞면이 나왔으니,\n",
    "1. 앞면이 많이 나오도록 조작된 `unfair` 동전이라고 말하는 사람도 있고,  \n",
    "1. 어차피 동전 한 번 던지는 것은 `공정한 독립시행` 이기 때문에 13번 앞면이 나온 것은 `우연`에 불과하다고 주장하는 사람도 있을겁니다."
   ]
  },
  {
   "cell_type": "markdown",
   "metadata": {},
   "source": [
    "<br>\n",
    "<br>\n",
    "<br>\n",
    "<br>\n",
    "<br>"
   ]
  },
  {
   "cell_type": "markdown",
   "metadata": {},
   "source": [
    "둘다 그럴듯한 얘기로 들리는데, 헛갈립니다...  \n",
    "문제를 간단하게 만들기 위해 일단 '동전 던지기' 가 무엇인지 부터 정의해 볼까요\n",
    "\n",
    "동전을 던져져서 지면에 떨어지면 앞(H) 혹은 뒤(T) 두 가지 데이터를 생성합니다.  \n",
    "이 데이터를 `표본(Sample)` 이라 정의하겠습니다. "
   ]
  },
  {
   "cell_type": "markdown",
   "metadata": {},
   "source": [
    "\n",
    "<br>\n",
    "<center>H $\\rightarrow \\text{sample}$</center>\n",
    "<p>\n",
    "<center>T $\\rightarrow \\text{sample}$</center>"
   ]
  },
  {
   "cell_type": "markdown",
   "metadata": {},
   "source": [
    "그리고 모든 표본의 가능한 집합을 `표본 공간(Sample Space)` 이라 정의하겠습니다."
   ]
  },
  {
   "cell_type": "markdown",
   "metadata": {},
   "source": [
    "$$\\text{sample space} = \\{H, T\\}$$"
   ]
  },
  {
   "cell_type": "markdown",
   "metadata": {},
   "source": [
    "<br>\n",
    "<br>"
   ]
  },
  {
   "cell_type": "markdown",
   "metadata": {},
   "source": [
    " `표본 공간` 은 우리가 관심있는 `사건` 을 추출하기 위한 꾸러미에 불과합니다."
   ]
  },
  {
   "cell_type": "markdown",
   "metadata": {},
   "source": [
    "<img src='http://cfile27.uf.tistory.com/image/203F07354FDAFEFF1DF2A3' width=\"200\" height=\"40\">\n",
    "<p/>\n",
    "<center>표본 공간 자체로 어떤 의미가 있을까요?</center>"
   ]
  },
  {
   "cell_type": "markdown",
   "metadata": {},
   "source": [
    "'동전던지기' 라는 물리적 현상의 결과인 H 혹은 T 라는 `샘플`을 관찰한 이유는  \n",
    "\"동전 던지기의 앞면이 나올 확률이 공정한가?\" 라는 질문에 답을 얻기 위해서 입니다.  \n",
    "주어진 전체 `표본 공간(sample space)` 의 부분집합 중  \n",
    "우리가 관심있는 동전의 앞면이 나오는 `사건(event)` 을 측정함으로써 '공정함' 을 `확률` 로 표현할 수 있습니다.\n",
    "<p/>\n",
    "\n"
   ]
  },
  {
   "cell_type": "markdown",
   "metadata": {},
   "source": [
    "확률을 부여하기 위해 `동전 앞면이 나오는 표본 공간의 부분집합` 을  \n",
    "`사건(Event)` 이라는 이름으로 정의하겠습니다"
   ]
  },
  {
   "cell_type": "markdown",
   "metadata": {},
   "source": [
    "<br>\n",
    "<br>"
   ]
  },
  {
   "cell_type": "markdown",
   "metadata": {},
   "source": [
    "<center><b>Event</b></center>\n",
    "<br>\n",
    "\\begin{align}\n",
    "\\{_n(H)&=0\\} = \\{T\\} \\rightarrow \\text{동전 앞면이 0번 나오는 사건의 부분집합} \\\\\n",
    "\\{_n(H)&=1\\} = \\{H\\} \\rightarrow \\text{동전 앞면이 1번 나오는 사건의 부분집합} \\\\\n",
    "\\end{align}\n",
    "<p>"
   ]
  },
  {
   "cell_type": "markdown",
   "metadata": {},
   "source": [
    "<br>\n",
    "<br>"
   ]
  },
  {
   "cell_type": "markdown",
   "metadata": {},
   "source": [
    "`확률`은 `사건`에 다음과 같은 조건을 지키며 할당된 `숫자` 입니다.  \n",
    "> - 모든 확률은 양수 이며 실수  $p(1,2,..,n) > 0$\n",
    "- 표본 공간에 대한 확률은 1  $\\sum_{1}^{n} p_n = 1$\n",
    "\n",
    "확률을 이용해 공정한 동전 던지기를 표현하면  \n",
    "앞면이 나올 확률이 0.5, 뒷면이 나올 확률도 0.5 겠네요"
   ]
  },
  {
   "cell_type": "markdown",
   "metadata": {},
   "source": [
    "<center><b>Probability</b></center>\n",
    "<br>\n",
    "\\begin{align}\n",
    "P(\\{_n(H)&=0\\}) = p_0 = 0.5\\\\\n",
    "P(\\{_n(H)&=1\\}) = p_1 = 0.5\\\\\n",
    "\\end{align}\n",
    "<p>"
   ]
  },
  {
   "cell_type": "markdown",
   "metadata": {},
   "source": [
    "### 확률 분포\n",
    "는 사건에 확률을 할당하기 위해 설정된 조건부 함수 입니다.  \n",
    "관심있는 사건 즉, 확률을 할당하고 싶은 사건의 특성에 맞는 `확률 분포(Probability Distribution)`를 활용하면  \n",
    "수학적으로 간단하게 확률을 할당할 수 있습니다."
   ]
  },
  {
   "cell_type": "markdown",
   "metadata": {},
   "source": [
    "<br>\n",
    "<br>\n",
    "<br>\n",
    "<br>\n",
    "<br>"
   ]
  },
  {
   "cell_type": "markdown",
   "metadata": {},
   "source": [
    "### 베르누이 분포\n",
    "는 동전 던지기의 결과 처럼 1회 시행으로 어떤 사건이 일어나거나 일어나지 않는 두 가지 경우의 수만 있는  \n",
    "`사건` 에 `확률`을 할당할 수 있는 `확률 분포` 입니다"
   ]
  },
  {
   "cell_type": "markdown",
   "metadata": {},
   "source": [
    "\\begin{align}\n",
    "\\text{Bern}(x \\space | \\space \\theta) &= \\theta^x(1-\\theta)^{(1-x)} \\\\ \n",
    "\\end{align}"
   ]
  },
  {
   "cell_type": "markdown",
   "metadata": {},
   "source": [
    "베르누이 분포는 위와 같은 조건부 함수 입니다  \n",
    "> $\\theta$: 어떤 사건이 일어날 확률, 0 과 1 사이의 숫자   \n",
    "$x$: 사건 발생 여부(발생:1, 발생 안함: 0)"
   ]
  },
  {
   "cell_type": "markdown",
   "metadata": {},
   "source": [
    "<br>\n",
    "<br>\n",
    "<br>\n",
    "<br>\n",
    "<br>"
   ]
  },
  {
   "cell_type": "markdown",
   "metadata": {},
   "source": [
    "### 확률 변수"
   ]
  },
  {
   "cell_type": "markdown",
   "metadata": {},
   "source": [
    "$x$에 동전 앞면이 나오는 횟수를 숫자로 부여하면 함수를 활용하기 훨씬 좋겠네요  \n",
    "다음 과 같이 x에 발생할 수 있는 `사건의 양`에 `숫자`를 할당한 것을 `확률 변수(Random Variable)` 라고 합니다."
   ]
  },
  {
   "cell_type": "markdown",
   "metadata": {},
   "source": [
    "<center><b>Random Variable = X</b></center>\n",
    "<br>\n",
    "\\begin{align}\n",
    "\\text{\\{동전 앞면이 0번 나오는 사건\\}} = 0\\\\\n",
    "\\text{\\{동전 앞면이 1번 나오는 사건\\}} = 1\\\\\n",
    "\\end{align}\n",
    "<p>"
   ]
  },
  {
   "cell_type": "markdown",
   "metadata": {},
   "source": [
    "`Random` 의 의미는 아직 불투명 하지만, `Variable` 인것은 어렵지 않게 이해됩니다.  \n",
    "<br>"
   ]
  },
  {
   "cell_type": "markdown",
   "metadata": {},
   "source": [
    "\\begin{align}\n",
    "f(x \\space|\\space \\theta) &= \\theta^x (1-\\theta)^{(1-x)} \\\\\n",
    "\\\\\n",
    "f(0) &= 1 - \\theta \\\\\n",
    "f(1) &= \\theta \\\\\n",
    "\\end{align}"
   ]
  },
  {
   "cell_type": "markdown",
   "metadata": {},
   "source": [
    "<br>\n",
    "<br>\n",
    "<br>\n",
    "<br>\n",
    "<br>"
   ]
  },
  {
   "cell_type": "markdown",
   "metadata": {},
   "source": [
    "<p/>\n",
    "이제 베르누이 분포에서 $x$가 아닌 유일한 미지수 $\\theta$ 만 미리 설정해주면 동전의 앞면이 나왔을때, 안나왔을 때의 확률을 쉽게 얻을 수 있습니다  \n",
    "사건에 확률을 할당하기 위해 `확률 분포`에 미리 설정해 줘야 하는 값을 `모수(parameter)` 라고 합니다.\n",
    "<p/>\n",
    "확률 변수에 모수를 설정해 놓으면 드디어 관심있는 사건에 대한 확률을 구할 준비가 끝났습니다."
   ]
  },
  {
   "cell_type": "markdown",
   "metadata": {},
   "source": [
    "### 앞면이 공정하게 나오는 동전 던지기\n",
    "를 베르누이 분포와 모수($\\theta$=5)를 활용해 이렇게 표현할 수 있겠네요"
   ]
  },
  {
   "cell_type": "markdown",
   "metadata": {},
   "source": [
    "\\begin{align}\n",
    "\\text{Bern}(x \\space | \\space 0.5) &= \\theta^x(1-0.5)^{(1-x)} \\\\ \n",
    "\\text{Bern}(0) &= 1 - 0.5 = 0.5 \\\\\n",
    "\\text{Bern}(1) &= 0.5 \\\\\n",
    "\\end{align}"
   ]
  },
  {
   "cell_type": "markdown",
   "metadata": {},
   "source": [
    "1. 앞면이 나오지 않을 확률 ($x$ = 0): 0.5 \n",
    "1. 앞면이 나올 확률 ($x$ = 1): 0.5 "
   ]
  },
  {
   "cell_type": "markdown",
   "metadata": {},
   "source": [
    "베르누이 확률 분포의 모수 $\\theta$에 앞면이 나올 공정한 확률 `0.5`를 할당했더니  \n",
    "사건의 종류에 따라 확률을 반환하는 간단한 함수가 완성 되었습니다!"
   ]
  },
  {
   "cell_type": "markdown",
   "metadata": {},
   "source": [
    "이 `함수` 를 그래프로 나타내면 아래와 같습니다"
   ]
  },
  {
   "cell_type": "code",
   "execution_count": 2,
   "metadata": {
    "scrolled": true
   },
   "outputs": [
    {
     "data": {
      "image/png": "[encoded data removed]",
      "text/plain": [
       "<matplotlib.figure.Figure at 0x7f1d32ebd908>"
      ]
     },
     "metadata": {},
     "output_type": "display_data"
    }
   ],
   "source": [
    "theta = .5\n",
    "f = lambda x: (theta ** x) * ((1 - theta) ** (1 - x))\n",
    "plt.stem([0,1], [f(0), f(1)])\n",
    "plt.xlim(-1, 2)\n",
    "plt.show()"
   ]
  },
  {
   "cell_type": "markdown",
   "metadata": {},
   "source": [
    "어떤 `사건` $x$를 집어 넣으면 0과 1사이의 `확률`을 반환하는 이 `함수` 가 바로 `확률 분포` 입니다  \n",
    "같은 말을 바꿔서 말하면, 확률 모형론에서 `확률`은 `확률 분포` 라는 함수에 의해 `사건`에 할당된 0과 1사이의 숫자입니다.  "
   ]
  },
  {
   "cell_type": "markdown",
   "metadata": {},
   "source": [
    "<br>\n",
    "<center>Probability Distribution(<span style=\"color:red\">Event</span>) = Probability</center>\n",
    "<br>\n",
    "$$f = \\text{확률분포}(x \\space|\\space \\text{모수})$$\n",
    "$$f(x) = y$$\n",
    "\n",
    "|x     |y    |\n",
    "|------|-----|\n",
    "|사건  |확률   |"
   ]
  },
  {
   "cell_type": "markdown",
   "metadata": {},
   "source": [
    "`모수` 가 `모집단`의 특성을 나타낸다는 말을 `확률 분포` 라는 함수를 통해 이해할 수 있습니다.  \n",
    "동전 던지기 결과 앞면이 공정하게 나온다는 특성을 `베르누이 분포`의 `모수` $\\theta$를 0.5로 설정함으로써 나타낼 수 있는 것이죠  "
   ]
  },
  {
   "cell_type": "markdown",
   "metadata": {},
   "source": [
    "<br>\n",
    "### 확률변수의 기댓값\n",
    "특정 사건 이 일어날 양을 나타내는 실수값, 즉 확률변수에 대한 `이론적 평균`인 기댓값은 다음과 같습니다  \n",
    "각 확률 변수에 가중치로 확률을 곱해 더하면 가중 평균을 구할 수 있겠네요"
   ]
  },
  {
   "cell_type": "markdown",
   "metadata": {},
   "source": [
    "\\begin{align}\n",
    "\\text{E}(X) \n",
    "&= 0 \\times 0.5 \\space + \\space 1 \\times 0.5 \\\\\n",
    "&= 0.5 \\\\\n",
    "&= \\theta \\\\\n",
    "\\end{align}"
   ]
  },
  {
   "cell_type": "markdown",
   "metadata": {},
   "source": [
    "<br>\n",
    "<br>\n",
    "<br>\n",
    "<br>\n",
    "<br>"
   ]
  },
  {
   "cell_type": "markdown",
   "metadata": {},
   "source": [
    "### 이항분포\n",
    "는 특정 사건이 일어난다, 일어나지 않는다만 $x$ 값에 0, 1 로 넣을 수 있었던 베르누의 분포의 더 일반적인 상황입니다.  \n",
    "사건이 발생할 횟수가 2 이상일 때 확률을 계산할 수 있는 함수는 다음과 같습니다"
   ]
  },
  {
   "cell_type": "markdown",
   "metadata": {},
   "source": [
    "\\begin{align}\n",
    "\\text{Bin}(x \\space | \\space N,\\theta) &= \\binom N x  \\theta^x(1-\\theta)^{N-x} \\\\\n",
    "&= _NC_x \\space \\theta^x(1-\\theta)^{N-x} \\\\\n",
    "&= \\dfrac{N!}{x!(N-x)!} \\theta^x(1-\\theta)^{N-x}\n",
    "\\end{align}"
   ]
  },
  {
   "cell_type": "markdown",
   "metadata": {},
   "source": [
    "이항분포(Binomial Distribution)는 베르누이 시행 횟수 $N$ 과 각 시행의 발생 확률 $\\theta$ 를 모수로 갖는 함수입니다"
   ]
  },
  {
   "cell_type": "markdown",
   "metadata": {},
   "source": [
    "|N             |theta    |\n",
    "|--------------|---------|\n",
    "|베르누이 시행 횟수|각 베르누이 시행에서 목적 사건이 실현될 확률|\n",
    "<center><이항 분포의 모수></center>"
   ]
  },
  {
   "cell_type": "markdown",
   "metadata": {},
   "source": [
    "|x             |\n",
    "|--------------|\n",
    "|N회 베르누이 시행으로 목적 사건이 실현된 횟수|\n",
    "<center><확률 변수></center>"
   ]
  },
  {
   "cell_type": "markdown",
   "metadata": {},
   "source": [
    "<br>\n",
    "이항 분포의 모수 $N$을 $1$ 로 설정하면  \n",
    "즉, 시행이 한 번인 이항 분포는 베르누이 분포와 같아지는 것을 확인할 수 있습니다."
   ]
  },
  {
   "cell_type": "markdown",
   "metadata": {},
   "source": [
    "\\begin{align}\n",
    "\\text{Bin}(x \\space | \\space 1,\\theta), x \\space is \\space 0 \\space or \\space 1 &= \\binom 1 1  \\theta^x(1-\\theta)^{1-x} \\\\ \n",
    "&= \\theta^x(1-\\theta)^{(1-x)} \\\\\n",
    "&= \\text{Bern}(x;\\theta)\n",
    "\\end{align}"
   ]
  },
  {
   "cell_type": "markdown",
   "metadata": {},
   "source": [
    "<br>\n",
    "<br>\n",
    "<br>\n",
    "<br>\n",
    "<br>"
   ]
  },
  {
   "cell_type": "markdown",
   "metadata": {},
   "source": [
    "16번의 동전 던지기 중 13번 앞면이 나온 사건들은 어떤 확률을 갖고 있을까?  \n",
    "확인하기 위해서는 베르누이 분포가 아니라 시행이 16번인 이항 분포를 활용하면 되겠네요"
   ]
  },
  {
   "cell_type": "markdown",
   "metadata": {},
   "source": [
    "16 동전을 던졌을 때의 `표본 공간(sample space)` 중에  \n",
    "앞면이 13번 나오는 `사건(event)` 들은 다음과 같습니다"
   ]
  },
  {
   "cell_type": "markdown",
   "metadata": {},
   "source": [
    "<br>\n",
    "<center>...</center>\n",
    "<center>...</center>\n",
    "<center>(sample space)</center>\n",
    "<center>...</center>\n",
    "<center>H, H, H, H, H, <span style=\"color:red\">T</span>, H, H, H, <span style=\"color:red\">T</span>, H, H, H, H, <span style=\"color:red\">T</span>, H</center>\n",
    "<p>\n",
    "<center>H, H, H, H, H, H, H, H, H, H, H, H, H, <span style=\"color:red\">T</span>, <span style=\"color:red\">T</span>, <span style=\"color:red\">T</span></center>\n",
    "<p>\n",
    "<center><span style=\"color:red\">T</span>, <span style=\"color:red\">T</span>, <span style=\"color:red\">T</span>, H, H, H, H, H, H, H, H, H, H, H, H, H</center>\n",
    "<p>\n",
    "<center>...</center>\n",
    "<center>(sample space)</center>\n",
    "<center>...</center>\n",
    "<center>...</center>"
   ]
  },
  {
   "cell_type": "markdown",
   "metadata": {},
   "source": [
    "이런 사건이 몇개일까 조합해보면 "
   ]
  },
  {
   "cell_type": "markdown",
   "metadata": {},
   "source": [
    "\\begin{align}\n",
    "_{16}C_{13} &= \\frac{16!}{3!(16 - 3)!}\n",
    "\\end{align}"
   ]
  },
  {
   "cell_type": "code",
   "execution_count": 3,
   "metadata": {},
   "outputs": [
    {
     "data": {
      "text/plain": [
       "560.0"
      ]
     },
     "execution_count": 3,
     "metadata": {},
     "output_type": "execute_result"
    }
   ],
   "source": [
    "sp.special.comb(N=16, k=13)"
   ]
  },
  {
   "cell_type": "markdown",
   "metadata": {},
   "source": [
    "560개 입니다"
   ]
  },
  {
   "cell_type": "markdown",
   "metadata": {},
   "source": [
    "이 560개의 사건에 13번 앞면이 나올 횟수라는 의미로 `13` 이라는 `실수값`을 부여하겠습니다.  \n",
    "사건의 양에 실수값을 부여한 변수, 즉 `확률 변수(Random Variable)` 를 만들어보죠"
   ]
  },
  {
   "cell_type": "markdown",
   "metadata": {},
   "source": [
    "<br>\n",
    "<br>\n",
    "<br>\n",
    "<br>\n",
    "<br>"
   ]
  },
  {
   "cell_type": "markdown",
   "metadata": {},
   "source": [
    "<center><b>Random Variable = X</b></center>\n",
    "<br>\n",
    "\\begin{align}\n",
    "\\text{\\{동전 앞면이 0번 나오는 사건\\}} = 0\\\\\n",
    "\\text{\\{동전 앞면이 1번 나오는 사건\\}} = 1\\\\\n",
    "\\text{\\{동전 앞면이 2번 나오는 사건\\}} = 2\\\\\n",
    "\\text{...}\\\\\n",
    "\\text{\\{동전 앞면이 13번 나오는 사건\\}} = 13\\\\\n",
    "\\text{\\{동전 앞면이 14번 나오는 사건\\}} = 14\\\\\n",
    "\\text{\\{동전 앞면이 15번 나오는 사건\\}} = 15\\\\\n",
    "\\text{\\{동전 앞면이 16번 나오는 사건\\}} = 16\\\\\n",
    "\\end{align}\n",
    "<p>"
   ]
  },
  {
   "cell_type": "markdown",
   "metadata": {},
   "source": [
    "<br>\n",
    "<br>\n",
    "<br>\n",
    "<br>\n",
    "<br>"
   ]
  },
  {
   "cell_type": "markdown",
   "metadata": {},
   "source": [
    "<center><b>Binomial Distribution</b></center>"
   ]
  },
  {
   "cell_type": "markdown",
   "metadata": {},
   "source": [
    "\\begin{align}\n",
    "N &= 16 \\\\\n",
    "\\theta &= 0.5\n",
    "\\end{align}"
   ]
  },
  {
   "cell_type": "markdown",
   "metadata": {},
   "source": [
    "\\begin{align} \n",
    "f(x \\space|\\space N=16,\\space \\theta=0.5) &= _{16}C_{13} \\space 0.5^x(1-0.5)^{16-x} \n",
    "\\end{align}"
   ]
  },
  {
   "cell_type": "markdown",
   "metadata": {},
   "source": [
    "`이항분포`의 `모수(parameter)` 를 각각 $N=16$, $\\theta=0.5$ 로 설정하면  \n",
    "`공정한 동전 던지기` 를 할 때 `앞면이 나올 사건` 에 대한 `확률`을 계산할 준비가 다 되었습니다"
   ]
  },
  {
   "cell_type": "markdown",
   "metadata": {},
   "source": [
    "<br>\n",
    "<br>"
   ]
  },
  {
   "cell_type": "markdown",
   "metadata": {},
   "source": [
    "이 `함수` 를 그래프로 나타내면 아래와 같습니다"
   ]
  },
  {
   "cell_type": "code",
   "execution_count": 4,
   "metadata": {
    "scrolled": true
   },
   "outputs": [
    {
     "data": {
      "image/png": "[encoded data removed]",
      "text/plain": [
       "<matplotlib.figure.Figure at 0x7f1d32ebd470>"
      ]
     },
     "metadata": {},
     "output_type": "display_data"
    }
   ],
   "source": [
    "N = 16\n",
    "theta = .5\n",
    "f = lambda x: sp.special.comb(N, x) * (theta ** x) * ((1 - theta) ** (N - x))\n",
    "x_space = np.arange(0, 17)\n",
    "plt.stem(x_space, [f(x) for x in x_space])\n",
    "plt.xticks(x_space, x_space)\n",
    "plt.show()"
   ]
  },
  {
   "cell_type": "markdown",
   "metadata": {},
   "source": [
    "16번 동전을 던져 13번 앞면이 나올 수 있는 560개의 사건 조합의 확률을 계산하면 다음과 같습니다"
   ]
  },
  {
   "cell_type": "code",
   "execution_count": 5,
   "metadata": {
    "scrolled": true
   },
   "outputs": [
    {
     "data": {
      "text/plain": [
       "0.008544921875"
      ]
     },
     "execution_count": 5,
     "metadata": {},
     "output_type": "execute_result"
    }
   ],
   "source": [
    "f(13)"
   ]
  },
  {
   "cell_type": "markdown",
   "metadata": {},
   "source": [
    "0.85% 정도되는 아주 작은 확률입니다"
   ]
  },
  {
   "cell_type": "markdown",
   "metadata": {},
   "source": [
    "<br>"
   ]
  },
  {
   "cell_type": "markdown",
   "metadata": {},
   "source": [
    "우리가 관심을 갖고 있는 동전 던지기 게임이 공정한지 본격적으로 알아보기 전에  \n",
    "우선 파이썬 코드로 직접 작성한 함수에 의해 계산된 값들이 확률의 조건에 맞는지 확인해 볼까요?"
   ]
  },
  {
   "cell_type": "markdown",
   "metadata": {},
   "source": [
    "1. 모든 확률은 양수 이며 실수  $p(1,2,..,n) > 0$  "
   ]
  },
  {
   "cell_type": "code",
   "execution_count": 6,
   "metadata": {
    "scrolled": true
   },
   "outputs": [
    {
     "data": {
      "text/html": [
       "<div>\n",
       "<style scoped>\n",
       "    .dataframe tbody tr th:only-of-type {\n",
       "        vertical-align: middle;\n",
       "    }\n",
       "\n",
       "    .dataframe tbody tr th {\n",
       "        vertical-align: top;\n",
       "    }\n",
       "\n",
       "    .dataframe thead th {\n",
       "        text-align: right;\n",
       "    }\n",
       "</style>\n",
       "<table border=\"1\" class=\"dataframe\">\n",
       "  <thead>\n",
       "    <tr style=\"text-align: right;\">\n",
       "      <th></th>\n",
       "      <th>probability</th>\n",
       "      <th>greater than 0</th>\n",
       "    </tr>\n",
       "  </thead>\n",
       "  <tbody>\n",
       "    <tr>\n",
       "      <th>0</th>\n",
       "      <td>0.000015</td>\n",
       "      <td>True</td>\n",
       "    </tr>\n",
       "    <tr>\n",
       "      <th>1</th>\n",
       "      <td>0.000244</td>\n",
       "      <td>True</td>\n",
       "    </tr>\n",
       "    <tr>\n",
       "      <th>2</th>\n",
       "      <td>0.001831</td>\n",
       "      <td>True</td>\n",
       "    </tr>\n",
       "    <tr>\n",
       "      <th>3</th>\n",
       "      <td>0.008545</td>\n",
       "      <td>True</td>\n",
       "    </tr>\n",
       "    <tr>\n",
       "      <th>4</th>\n",
       "      <td>0.027771</td>\n",
       "      <td>True</td>\n",
       "    </tr>\n",
       "    <tr>\n",
       "      <th>5</th>\n",
       "      <td>0.066650</td>\n",
       "      <td>True</td>\n",
       "    </tr>\n",
       "    <tr>\n",
       "      <th>6</th>\n",
       "      <td>0.122192</td>\n",
       "      <td>True</td>\n",
       "    </tr>\n",
       "    <tr>\n",
       "      <th>7</th>\n",
       "      <td>0.174561</td>\n",
       "      <td>True</td>\n",
       "    </tr>\n",
       "    <tr>\n",
       "      <th>8</th>\n",
       "      <td>0.196381</td>\n",
       "      <td>True</td>\n",
       "    </tr>\n",
       "    <tr>\n",
       "      <th>9</th>\n",
       "      <td>0.174561</td>\n",
       "      <td>True</td>\n",
       "    </tr>\n",
       "    <tr>\n",
       "      <th>10</th>\n",
       "      <td>0.122192</td>\n",
       "      <td>True</td>\n",
       "    </tr>\n",
       "    <tr>\n",
       "      <th>11</th>\n",
       "      <td>0.066650</td>\n",
       "      <td>True</td>\n",
       "    </tr>\n",
       "    <tr>\n",
       "      <th>12</th>\n",
       "      <td>0.027771</td>\n",
       "      <td>True</td>\n",
       "    </tr>\n",
       "    <tr>\n",
       "      <th>13</th>\n",
       "      <td>0.008545</td>\n",
       "      <td>True</td>\n",
       "    </tr>\n",
       "    <tr>\n",
       "      <th>14</th>\n",
       "      <td>0.001831</td>\n",
       "      <td>True</td>\n",
       "    </tr>\n",
       "    <tr>\n",
       "      <th>15</th>\n",
       "      <td>0.000244</td>\n",
       "      <td>True</td>\n",
       "    </tr>\n",
       "    <tr>\n",
       "      <th>16</th>\n",
       "      <td>0.000015</td>\n",
       "      <td>True</td>\n",
       "    </tr>\n",
       "  </tbody>\n",
       "</table>\n",
       "</div>"
      ],
      "text/plain": [
       "    probability  greater than 0\n",
       "0      0.000015            True\n",
       "1      0.000244            True\n",
       "2      0.001831            True\n",
       "3      0.008545            True\n",
       "4      0.027771            True\n",
       "5      0.066650            True\n",
       "6      0.122192            True\n",
       "7      0.174561            True\n",
       "8      0.196381            True\n",
       "9      0.174561            True\n",
       "10     0.122192            True\n",
       "11     0.066650            True\n",
       "12     0.027771            True\n",
       "13     0.008545            True\n",
       "14     0.001831            True\n",
       "15     0.000244            True\n",
       "16     0.000015            True"
      ]
     },
     "execution_count": 6,
     "metadata": {},
     "output_type": "execute_result"
    }
   ],
   "source": [
    "valid = pd.DataFrame([f(0), f(1), f(2), f(3), f(4), f(5), f(6), f(7), f(8),\n",
    "                      f(9), f(10), f(11), f(12), f(13), f(14), f(15), f(16)], columns=['probability'])\n",
    "valid['greater than 0'] = valid.probability > 0\n",
    "valid"
   ]
  },
  {
   "cell_type": "markdown",
   "metadata": {},
   "source": [
    "<br>\n",
    "- 표본 공간에 대한 확률은 1  $\\sum_{1}^{n} p_n = 1$"
   ]
  },
  {
   "cell_type": "code",
   "execution_count": 7,
   "metadata": {},
   "outputs": [
    {
     "data": {
      "text/plain": [
       "1.0"
      ]
     },
     "execution_count": 7,
     "metadata": {},
     "output_type": "execute_result"
    }
   ],
   "source": [
    "valid.probability.sum()"
   ]
  },
  {
   "cell_type": "markdown",
   "metadata": {},
   "source": [
    "<br>\n",
    "이항 분포 함수를 그대로 따라 코드로 옮겨봤더니 조건에 맞게 모든 사건의 확률을 구할 수 있었습니다"
   ]
  },
  {
   "cell_type": "markdown",
   "metadata": {},
   "source": [
    "<br>\n",
    "### 이항분포 확률변수의 기댓값\n",
    "은 다음과 같습니다. 역시 확률 변수에 대한 가중 평균을 구하면 되겠네요"
   ]
  },
  {
   "cell_type": "markdown",
   "metadata": {},
   "source": [
    "<br>\n",
    "\\begin{align}\n",
    "\\text{E}(X) &= (p_0 \\space \\times 0) + (p_1 \\space \\times 1) + \\space ... \\space + (p_n \\space \\times n)\\\\\n",
    "&= N \\times \\theta \\\\\n",
    "&= 16 \\times 0.5 \\\\\n",
    "&= 8\n",
    "\\end{align}"
   ]
  },
  {
   "cell_type": "markdown",
   "metadata": {},
   "source": [
    "16번의 공정한 동전 던지기에 대한 기댓값은 8입니다"
   ]
  },
  {
   "cell_type": "code",
   "execution_count": 8,
   "metadata": {
    "scrolled": true
   },
   "outputs": [
    {
     "data": {
      "text/plain": [
       "8"
      ]
     },
     "execution_count": 8,
     "metadata": {},
     "output_type": "execute_result"
    }
   ],
   "source": [
    "valid.probability.idxmax()"
   ]
  },
  {
   "cell_type": "markdown",
   "metadata": {},
   "source": [
    "8번 앞면이 나올 확률은 19.6% 정도가 되는군요"
   ]
  },
  {
   "cell_type": "code",
   "execution_count": 9,
   "metadata": {},
   "outputs": [
    {
     "data": {
      "text/plain": [
       "0.196380615234375"
      ]
     },
     "execution_count": 9,
     "metadata": {},
     "output_type": "execute_result"
    }
   ],
   "source": [
    "valid.probability.max()"
   ]
  },
  {
   "cell_type": "markdown",
   "metadata": {},
   "source": [
    "<br>\n",
    "<br>\n",
    "<br>\n",
    "<br>"
   ]
  },
  {
   "cell_type": "markdown",
   "metadata": {},
   "source": [
    "### 가설 검정\n",
    "이란 확률 분포를 통해 찾은 확률을 활용해서 내가 주장하는 가설이 맞는지 확인하는 과정입니다."
   ]
  },
  {
   "cell_type": "markdown",
   "metadata": {},
   "source": [
    "\"이 동전 던지기는 공평하지 않다\" 를 알기 위해서는  \n",
    "\"동전 던지기가 공평하다\" 는 가설이 사실이 아님을 보이면 됩니다  \n",
    "  \n",
    "사실이 아니길 바라는 가설,  \n",
    "즉 기각하고 싶은 그 가설을 `귀무 가설(Null Hypothesis)` 이라 하며,   \n",
    "그리고 귀무가설이 기각됨으로써 채택하고 싶은 가설,  \n",
    "즉 우리가 사실임을 주장하고 싶은 가설을 `대립 가설(Alternative Hypothesis)` 이라고 합니다"
   ]
  },
  {
   "cell_type": "markdown",
   "metadata": {},
   "source": [
    "\\begin{align}\n",
    "\\text{귀무가설} \\space H_0: fair \\\\\n",
    "\\text{대립가설} \\space H_1: unfair\n",
    "\\end{align}"
   ]
  },
  {
   "cell_type": "markdown",
   "metadata": {},
   "source": [
    "<br>\n",
    "<br>\n",
    "<br>\n",
    "<br>\n",
    "<br>"
   ]
  },
  {
   "cell_type": "markdown",
   "metadata": {},
   "source": [
    "$\\theta$ 가 0.5 인 베르누이 시행을 16번 했을 때\n",
    "13번 앞면이 나온 사건이 얼마나 `낮은 확률`로 일어나는 일인지 확인하면  \n",
    "귀무 가설을 기각할 수 있을 것 같습니다.  \n",
    "이때 `귀무가설` 을 기각할 수 있는 확률의 임계치를 `유의수준(significance level)` 이라합니다  \n",
    "`유의수준` 을 활용해서 가설 검정 문제를 다음과 같은 유형으로 정의할 수 있습니다"
   ]
  },
  {
   "cell_type": "markdown",
   "metadata": {},
   "source": [
    "`유의수준` 을 0.05 라하고\n",
    "\n",
    "* 양측검정: $H_1: P(\\{_n(head) \\leq 3 \\space\\}) + P(\\{_n(head) \\geq 13 \\space\\}) <$ 0.05\n",
    "> 앞면이 3번 이하로 나오거나 13번 이상으로 나올 확률은 5% 보다 작다.\n",
    "\n",
    "* 우측검정: $H_1: P(\\{_n(head) \\geq 13 \\space\\}) <$ 0.05\n",
    "> 앞면이 13번 이상으로 나올 확률이 5% 보다 작다.\n",
    "\n",
    "* 좌측검정: $H_1: P(\\{_n(head) \\leq 3 \\space\\}) <$ 0.05\n",
    "> 앞면이 3번 이하로 나올 확률이 5% 보다 작다."
   ]
  },
  {
   "cell_type": "markdown",
   "metadata": {},
   "source": [
    "`양측검정` 은 이항 분포의 $\\theta$ 가 0.5 가 아니다.  \n",
    "즉, 적어도 이 동전의 앞면이 나올 확률은 공평하지 않다는 주장을 입증할 수 있고,  \n",
    "`우측검정` 은 더 나아가 앞면이 13 회 이상 나올 확률이 얼마나 희귀한지 입증할 수 있겠네요"
   ]
  },
  {
   "cell_type": "code",
   "execution_count": 10,
   "metadata": {
    "scrolled": true
   },
   "outputs": [
    {
     "data": {
      "image/png": "[encoded data removed]",
      "text/plain": [
       "<matplotlib.figure.Figure at 0x7f1d2a802c50>"
      ]
     },
     "metadata": {},
     "output_type": "display_data"
    }
   ],
   "source": [
    "N = 16\n",
    "theta = .5\n",
    "f = lambda x: sp.special.comb(N, x) * (theta ** x) * ((1 - theta) ** (N - x))\n",
    "x_space = np.arange(0, 17)\n",
    "plt.stem(x_space, [f(x) for x in x_space])\n",
    "plt.stem([0,1,2,3], [f(0), f(1), f(2), f(3)], 'r')\n",
    "plt.stem([13,14,15,16], [f(13), f(14), f(15), f(16)], 'r')\n",
    "plt.xticks(x_space, x_space)\n",
    "plt.show()"
   ]
  },
  {
   "cell_type": "markdown",
   "metadata": {},
   "source": [
    "양측검정을 위해 앞면의 나온 횟수가 0, 1, 2, 3, 13, 14, 15, 16인 사건들의 확률 합을 구하면 다음과 같습니다."
   ]
  },
  {
   "cell_type": "code",
   "execution_count": 11,
   "metadata": {},
   "outputs": [
    {
     "data": {
      "text/plain": [
       "0.021270751953125"
      ]
     },
     "execution_count": 11,
     "metadata": {},
     "output_type": "execute_result"
    }
   ],
   "source": [
    "f(0) + f(1) + f(2) + f(3) + f(13) + f(14) + f(15) + f(16)"
   ]
  },
  {
   "cell_type": "markdown",
   "metadata": {},
   "source": [
    "즉 앞면이 나올 확률이 0.5 일 때  \n",
    "16번의 동전 던지기 중 앞면이 3번 이하 혹은 13번 이상으로 나올 확률이  \n",
    "2.12% 정도 밖에 되지 않는 다는 의미입니다.  \n",
    "이런 일이 일어날 확률이 5% 가 되지 않을때 $\\theta = 0.5$ 라는 귀무가설을 기각하기로 했다면  \n",
    "귀무가설은 기각되고 $H_1: \\theta \\neq 0.5$ 라는 대립가설이 채택됩니다"
   ]
  },
  {
   "cell_type": "code",
   "execution_count": 12,
   "metadata": {},
   "outputs": [
    {
     "data": {
      "text/plain": [
       "0.021270751953125"
      ]
     },
     "execution_count": 12,
     "metadata": {},
     "output_type": "execute_result"
    }
   ],
   "source": [
    "sp.stats.binom_test(x=13, n=16, p=.5, alternative='two-sided')"
   ]
  },
  {
   "cell_type": "markdown",
   "metadata": {},
   "source": [
    "scipy 패키지를 활용한 이항분포 검정 결과도 같은 통계량을 보여주네요"
   ]
  },
  {
   "cell_type": "markdown",
   "metadata": {},
   "source": [
    "<br>\n",
    "즉, \"이 동전 던지기는 유의 수준 5%에서 공정하지 못하다\"   \n",
    "\"`조작된 동전`\" 이다 라는 의사결정에 이르게 됩니다."
   ]
  },
  {
   "cell_type": "markdown",
   "metadata": {},
   "source": [
    "<br>\n",
    "확률의 의미와, 확률을 계산하기 위해 필요한 기본적인 개념들을 공부해봤습니다.  \n",
    "그런데 확률과 통계는 검정을 통한 의사결정 과정에만 활용되는 것일까요?  \n",
    "\n",
    "동전 던지기 게임이 공정한지 그렇지 않은지 확인하는 것을 넘어서  \n",
    "공정한 동전 던지기 게임이나, 불량률이 3% 이하인 제조 공정을 직접 만들 수 있다면  \n",
    "단순히 가설을 검정하는 것보다 더 멋진 이야기처럼 들립니다!\n",
    "\n",
    "다음 스터디에 `확률변수(Random Variable)` 의 `Random`이 대체 무슨 의미인지,  \n",
    "우리가 분석의 대상으로 삼는 `데이터` 는 `확률론`의 관점에서 어떤 의미인지,  \n",
    "`확률 모형(Probability)` 대해 공부하면서 조금 더 재미있는 이야기를 해보도록 하겠습니다 :)"
   ]
  }
 ],
 "metadata": {
  "kernelspec": {
   "display_name": "Python 3",
   "language": "python",
   "name": "python3"
  },
  "language_info": {
   "codemirror_mode": {
    "name": "ipython",
    "version": 3
   },
   "file_extension": ".py",
   "mimetype": "text/x-python",
   "name": "python",
   "nbconvert_exporter": "python",
   "pygments_lexer": "ipython3",
   "version": "3.6.4"
  }
 },
 "nbformat": 4,
 "nbformat_minor": 2
}
