{
 "cells": [
  {
   "cell_type": "markdown",
   "metadata": {},
   "source": [
    "* 기초 수학으로 이해하는 머신러닝 알고리즘  \n",
    "http://www.kyobobook.co.kr/product/detailViewKor.laf?ejkGb=KOR&mallGb=KOR&barcode=9791158390914&orderClick=LIS&Kc="
   ]
  },
  {
   "cell_type": "markdown",
   "metadata": {},
   "source": [
    "* 머신 러닝 인 액션  \n",
    "http://mobile.kyobobook.co.kr/showcase/book/KOR/9788994506661"
   ]
  },
  {
   "cell_type": "markdown",
   "metadata": {},
   "source": [
    "* 이공학도를 위한 수치해석 Python으로 코딩하기   \n",
    "http://www.kyobobook.co.kr/product/detailViewKor.laf?ejkGb=KOR&mallGb=KOR&barcode=9791185294216&orderClick=LIS&Kc="
   ]
  },
  {
   "cell_type": "markdown",
   "metadata": {},
   "source": [
    "* 코딩 더 매트릭스   \n",
    "http://book.naver.com/bookdb/book_detail.nhn?bid=9071199"
   ]
  },
  {
   "cell_type": "code",
   "execution_count": null,
   "metadata": {},
   "outputs": [],
   "source": []
  }
 ],
 "metadata": {
  "kernelspec": {
   "display_name": "Python 3",
   "language": "python",
   "name": "python3"
  },
  "language_info": {
   "codemirror_mode": {
    "name": "ipython",
    "version": 3
   },
   "file_extension": ".py",
   "mimetype": "text/x-python",
   "name": "python",
   "nbconvert_exporter": "python",
   "pygments_lexer": "ipython3",
   "version": "3.6.4"
  }
 },
 "nbformat": 4,
 "nbformat_minor": 2
}
