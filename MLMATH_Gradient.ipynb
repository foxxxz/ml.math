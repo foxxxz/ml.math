{
 "cells": [
  {
   "cell_type": "code",
   "execution_count": 56,
   "metadata": {},
   "outputs": [],
   "source": [
    "import numpy as np\n",
    "import matplotlib.pyplot as plt"
   ]
  },
  {
   "cell_type": "markdown",
   "metadata": {},
   "source": [
    "<br>\n",
    "<br>\n",
    "<br>\n",
    "<br>"
   ]
  },
  {
   "cell_type": "markdown",
   "metadata": {},
   "source": [
    "### Optimization with Gradient\n",
    "<p/>"
   ]
  },
  {
   "cell_type": "code",
   "execution_count": 57,
   "metadata": {},
   "outputs": [],
   "source": [
    "x = np.array([26, 25, 29, 30, 26, 35, 31, 28, 26, 30])\n",
    "y = np.array([32, 28, 29, 29, 27, 38, 31, 33, 28, 32])"
   ]
  },
  {
   "cell_type": "code",
   "execution_count": 58,
   "metadata": {},
   "outputs": [
    {
     "data": {
      "image/png": "[encoded data removed]",
      "text/plain": [
       "<matplotlib.figure.Figure at 0x7f5415b962b0>"
      ]
     },
     "metadata": {},
     "output_type": "display_data"
    }
   ],
   "source": [
    "plt.scatter(x, y)\n",
    "plt.xlim(20, 40)\n",
    "plt.ylim(20, 40)\n",
    "plt.xlabel('Female')\n",
    "plt.ylabel('Male')\n",
    "plt.grid()\n",
    "plt.show()"
   ]
  },
  {
   "cell_type": "markdown",
   "metadata": {},
   "source": [
    "\\begin{align}\n",
    "\\hat{y} = ax + b + \\epsilon\n",
    "\\end{align}"
   ]
  },
  {
   "cell_type": "markdown",
   "metadata": {},
   "source": [
    "\\begin{align}\n",
    "\\begin{bmatrix}\n",
    "    x_{11} &  1 \\\\\n",
    "    x_{21} &  1 \\\\\n",
    "    ...\\\\\n",
    "    x_{n1} &  1 \\\\\n",
    "\\end{bmatrix}\n",
    "\\begin{bmatrix}\n",
    "    a \\\\\n",
    "    b \\\\\n",
    "\\end{bmatrix}\n",
    "+\n",
    "\\begin{bmatrix}\n",
    "    \\epsilon_{11} \\\\\n",
    "    \\epsilon_{21} \\\\\n",
    "    ...\\\\\n",
    "    \\epsilon_{n1} \\\\\n",
    "\\end{bmatrix}\n",
    "=\n",
    "\\begin{bmatrix}\n",
    "    \\hat{y}_{11} \\\\\n",
    "    \\hat{y}_{21} \\\\\n",
    "    ...\\\\\n",
    "    \\hat{y}_{n1} \\\\\n",
    "\\end{bmatrix}\n",
    "\\end{align}"
   ]
  },
  {
   "cell_type": "markdown",
   "metadata": {},
   "source": [
    "<br>"
   ]
  },
  {
   "cell_type": "markdown",
   "metadata": {},
   "source": [
    "\\begin{align}\n",
    "\\begin{bmatrix}\n",
    "    x_{11} &  1 \\\\\n",
    "    x_{21} &  1 \\\\\n",
    "    ...\\\\\n",
    "    x_{n1} &  1 \\\\\n",
    "\\end{bmatrix}\n",
    "\\begin{bmatrix}\n",
    "    a \\\\\n",
    "    b \\\\\n",
    "\\end{bmatrix}\n",
    "-\n",
    "\\begin{bmatrix}\n",
    "    \\hat{y}_{11} \\\\\n",
    "    \\hat{y}_{21} \\\\\n",
    "    ...\\\\\n",
    "    \\hat{y}_{n1} \\\\\n",
    "\\end{bmatrix}\n",
    "=\n",
    "\\begin{bmatrix}\n",
    "    \\epsilon_{11} \\\\\n",
    "    \\epsilon_{21} \\\\\n",
    "    ...\\\\\n",
    "    \\epsilon_{n1} \\\\\n",
    "\\end{bmatrix}\n",
    "\\end{align}"
   ]
  },
  {
   "cell_type": "markdown",
   "metadata": {},
   "source": [
    "<br>\n",
    "#### Define Loss Function"
   ]
  },
  {
   "cell_type": "markdown",
   "metadata": {},
   "source": [
    "<br>\n",
    "\\begin{align}\n",
    "L(a, b) &= \\frac{1}{m}\\sum_{i=1}^n(\\hat{y}_i - y_i)^2 \\\\\n",
    "&= \\frac{1}{m}\\sum_{i=1}^n((ax_i + b) - y_i)^2\n",
    "\\end{align}"
   ]
  },
  {
   "cell_type": "code",
   "execution_count": 59,
   "metadata": {},
   "outputs": [],
   "source": [
    "loss_function = lambda a, b: np.mean((a * x + b - y) ** 2)"
   ]
  },
  {
   "cell_type": "markdown",
   "metadata": {},
   "source": [
    "<br>\n",
    "#### Objective"
   ]
  },
  {
   "cell_type": "markdown",
   "metadata": {},
   "source": [
    "\\begin{align}\n",
    "O &= min(L) \\\\\n",
    "&= min(\\frac{1}{m}\\sum_{i=1}^n(ax_i + b - y_i)^2)\n",
    "\\end{align}"
   ]
  },
  {
   "cell_type": "markdown",
   "metadata": {},
   "source": [
    "<br>\n",
    "<br>"
   ]
  },
  {
   "cell_type": "markdown",
   "metadata": {},
   "source": [
    "<br>\n",
    "#### Calculate Gradient"
   ]
  },
  {
   "cell_type": "markdown",
   "metadata": {},
   "source": [
    "\\begin{align}\n",
    "\\nabla L &= \\begin{bmatrix}\n",
    "               \\frac{\\partial}{\\partial a}L(a, b) \\\\\n",
    "               \\frac{\\partial}{\\partial b}L(a, b) \\\\\n",
    "               \\end{bmatrix}\n",
    "\\end{align}"
   ]
  },
  {
   "cell_type": "markdown",
   "metadata": {},
   "source": [
    "<br>\n",
    "<br>"
   ]
  },
  {
   "cell_type": "markdown",
   "metadata": {},
   "source": [
    "1) partial derivative of $a$"
   ]
  },
  {
   "cell_type": "markdown",
   "metadata": {},
   "source": [
    "<br>\n",
    "\\begin{align}\n",
    "\\frac{\\partial}{\\partial a}L(a, b) &= \\frac{2}{m}\\sum_{i=1}^m(ax_i + b - y_i)x \\\\\n",
    "\\end{align}"
   ]
  },
  {
   "cell_type": "code",
   "execution_count": 60,
   "metadata": {},
   "outputs": [],
   "source": [
    "partial_a = lambda a, b: 2 * np.mean((a * x + b - y) * x)"
   ]
  },
  {
   "cell_type": "markdown",
   "metadata": {},
   "source": [
    "<br>\n",
    "2) partial derivative of $b$"
   ]
  },
  {
   "cell_type": "markdown",
   "metadata": {},
   "source": [
    "<br>\n",
    "\\begin{align}\n",
    "\\frac{\\partial}{\\partial b}L(a, b) &= \\frac{2}{m}\\sum_{i=1}^m(ax_i + b - y_i) \\\\\n",
    "\\end{align}"
   ]
  },
  {
   "cell_type": "code",
   "execution_count": 61,
   "metadata": {},
   "outputs": [],
   "source": [
    "partial_b = lambda a, b: 2 * np.mean(a * x + b - y)"
   ]
  },
  {
   "cell_type": "markdown",
   "metadata": {},
   "source": [
    "<br>\n",
    "<span style='color:red'>HINT</span>"
   ]
  },
  {
   "cell_type": "markdown",
   "metadata": {},
   "source": [
    "http://mccormickml.com/2014/03/04/gradient-descent-derivation/"
   ]
  },
  {
   "cell_type": "markdown",
   "metadata": {},
   "source": [
    "* Scaler Multiplication\n",
    "$$\\frac{d}{dx}(\\alpha f(x)) = \\alpha \\frac{d}{dx}(f(x))$$"
   ]
  },
  {
   "cell_type": "markdown",
   "metadata": {},
   "source": [
    "* Sum Rule\n",
    "$$\\frac{d}{dx}\\sum f(x) = \\sum \\frac{d}{dx} f(x)$$"
   ]
  },
  {
   "cell_type": "markdown",
   "metadata": {},
   "source": [
    "* Power Rule\n",
    "$$\\frac{d}{dx}f(x)^n = n\\frac{d}{dx}f(x)^{n-1}$$"
   ]
  },
  {
   "cell_type": "markdown",
   "metadata": {},
   "source": [
    "* Chain Rule\n",
    "$$\\frac{d}{dx}f(g(x)) = f^\\prime(g(x))g^\\prime(x)$$\n",
    "<p/>"
   ]
  },
  {
   "cell_type": "markdown",
   "metadata": {},
   "source": [
    "\\begin{align}\n",
    "\\frac{d}{dx}f(x_1, x_2, ..., x_n) &= f^\\prime(\\vec{v}) \\cdot \\vec{v}^\\prime \\\\\n",
    "\\end{align}"
   ]
  },
  {
   "cell_type": "markdown",
   "metadata": {},
   "source": [
    "<br>\n",
    "<br>\n",
    "<br>"
   ]
  },
  {
   "cell_type": "markdown",
   "metadata": {},
   "source": [
    "<br>\n",
    "<br>\n",
    "<br>"
   ]
  },
  {
   "cell_type": "markdown",
   "metadata": {},
   "source": [
    "<br>\n",
    "\\begin{equation}\n",
    "a^{k+1} = a^{k} - \\text{learning_rate} \\times f^\\prime(a^{k}) \\\\\n",
    "b^{k+1} = b^{k} - \\text{learning_rate} \\times f^\\prime(b^{k})\n",
    "\\end{equation}"
   ]
  },
  {
   "cell_type": "code",
   "execution_count": 62,
   "metadata": {},
   "outputs": [],
   "source": [
    "def steepest_gradient_descent(loss_function, gradient, init, epoch, learning_rate, verbose=False):\n",
    "    # monitoring\n",
    "    params = np.array(init)\n",
    "    params_path = []\n",
    "    loss_path = []\n",
    "    slope_path = []\n",
    "    step_path = []\n",
    "    \n",
    "    \n",
    "    for i in range(epoch):\n",
    "        # 0. record parameters path\n",
    "        params_path.append(params)\n",
    "        \n",
    "        # 1. calculate loss\n",
    "        loss = loss_function(params[0], params[1])\n",
    "        loss_path.append(loss)\n",
    "        \n",
    "        # 2. calculate slope with gradient\n",
    "        slope = np.array([gradient[0](params[0], params[1]), gradient[1](params[0], params[1])])\n",
    "        slope_path.append(slope)\n",
    "        \n",
    "        # 3. calculate step\n",
    "        step = - learning_rate * slope\n",
    "        step_path.append(step)\n",
    "        \n",
    "        # verbose\n",
    "        if verbose == True:\n",
    "            log = '{} a:{}, b:{}, loss:{}, slope:{}, step:{}'\n",
    "            print(log.format(i, round(params[0],4), round(params[1], 4),\n",
    "                             round(loss, 4), np.round(slope, 4), np.round(step, 4)))\n",
    "            \n",
    "        # 4. update next parameters\n",
    "        params = params + step\n",
    "        \n",
    "    return params, loss, np.array(params_path), np.array(loss_path), np.array(slope_path), np.array(step_path)"
   ]
  },
  {
   "cell_type": "code",
   "execution_count": 63,
   "metadata": {
    "scrolled": true
   },
   "outputs": [
    {
     "name": "stdout",
     "output_type": "stream",
     "text": [
      "0 a:4.0, b:5.0, loss:7958.1, slope:[5127.6  177.4], step:[-0.5128 -0.0177]\n",
      "1 a:3.4872, b:4.9823, loss:5543.5248, slope:[4279.0955  148.0346], step:[-0.4279 -0.0148]\n",
      "2 a:3.0593, b:4.9675, loss:3861.9493, slope:[3570.9999  123.5286], step:[-0.3571 -0.0124]\n",
      "3 a:2.7022, b:4.9551, loss:2690.8547, slope:[2980.0784  103.0778], step:[-0.298  -0.0103]\n",
      "4 a:2.4042, b:4.9448, loss:1875.2728, slope:[2486.9415   86.0111], step:[-0.2487 -0.0086]\n",
      "5 a:2.1555, b:4.9362, loss:1307.2795, slope:[2075.4078   71.7686], step:[-0.2075 -0.0072]\n",
      "6 a:1.948, b:4.929, loss:911.7136, slope:[1731.9739   59.8829], step:[-0.1732 -0.006 ]\n",
      "7 a:1.7748, b:4.923, loss:636.2308, slope:[1445.3707   49.9641], step:[-0.1445 -0.005 ]\n",
      "8 a:1.6303, b:4.918, loss:444.3771, slope:[1206.194    41.6866], step:[-0.1206 -0.0042]\n",
      "9 a:1.5096, b:4.9139, loss:310.765, slope:[1006.5958   34.7788], step:[-0.1007 -0.0035]\n",
      "10 a:1.409, b:4.9104, loss:217.714, slope:[840.0267  29.0141], step:[-0.084  -0.0029]\n",
      "11 a:1.325, b:4.9075, loss:152.9107, slope:[701.0212  24.2033], step:[-0.0701 -0.0024]\n",
      "12 a:1.2549, b:4.9051, loss:107.7799, slope:[585.0179  20.1887], step:[-0.0585 -0.002 ]\n",
      "13 a:1.1964, b:4.903, loss:76.3497, slope:[488.2107  16.8383], step:[-0.0488 -0.0017]\n",
      "14 a:1.1475, b:4.9014, loss:54.4608, slope:[407.4229  14.0424], step:[-0.0407 -0.0014]\n",
      "15 a:1.1068, b:4.9, loss:39.2167, slope:[340.0037  11.7091], step:[-0.034  -0.0012]\n",
      "16 a:1.0728, b:4.8988, loss:28.6004, slope:[283.7409   9.762 ], step:[-0.0284 -0.001 ]\n",
      "17 a:1.0444, b:4.8978, loss:21.2069, slope:[236.7884   8.137 ], step:[-0.0237 -0.0008]\n",
      "18 a:1.0208, b:4.897, loss:16.0579, slope:[197.6055   6.781 ], step:[-0.0198 -0.0007]\n",
      "19 a:1.001, b:4.8963, loss:12.4719, slope:[164.9065   5.6493], step:[-0.0165 -0.0006]\n",
      "20 a:0.9845, b:4.8958, loss:9.9746, slope:[137.6184   4.7049], step:[-0.0138 -0.0005]\n",
      "21 a:0.9707, b:4.8953, loss:8.2354, slope:[114.8459   3.9168], step:[-0.0115 -0.0004]\n",
      "22 a:0.9593, b:4.8949, loss:7.0241, slope:[95.8418  3.2591], step:[-0.0096 -0.0003]\n",
      "23 a:0.9497, b:4.8946, loss:6.1806, slope:[79.9824  2.7102], step:[-0.008  -0.0003]\n",
      "24 a:0.9417, b:4.8943, loss:5.5931, slope:[66.7474  2.2522], step:[-0.0067 -0.0002]\n",
      "25 a:0.935, b:4.8941, loss:5.184, slope:[55.7025  1.8699], step:[-0.0056 -0.0002]\n",
      "26 a:0.9294, b:4.8939, loss:4.8991, slope:[46.4853  1.5509], step:[-0.0046 -0.0002]\n",
      "27 a:0.9248, b:4.8937, loss:4.7006, slope:[38.7933  1.2847], step:[-0.0039 -0.0001]\n",
      "28 a:0.9209, b:4.8936, loss:4.5625, slope:[32.3742  1.0626], step:[-0.0032 -0.0001]\n",
      "29 a:0.9177, b:4.8935, loss:4.4662, slope:[27.0173  0.8772], step:[-0.0027 -0.0001]\n",
      "30 a:0.915, b:4.8934, loss:4.3992, slope:[22.5469  0.7225], step:[-0.0023 -0.0001]\n",
      "31 a:0.9127, b:4.8933, loss:4.3525, slope:[18.8162  0.5933], step:[-0.0019 -0.0001]\n",
      "32 a:0.9108, b:4.8933, loss:4.32, slope:[15.7029  0.4856], step:[-0.0016 -0.    ]\n",
      "33 a:0.9093, b:4.8932, loss:4.2974, slope:[13.1047  0.3957], step:[-0.0013 -0.    ]\n",
      "34 a:0.9079, b:4.8932, loss:4.2816, slope:[10.9365  0.3206], step:[-0.0011 -0.    ]\n",
      "35 a:0.9068, b:4.8932, loss:4.2706, slope:[9.1271 0.258 ], step:[-0.0009 -0.    ]\n",
      "36 a:0.9059, b:4.8931, loss:4.263, slope:[7.6171 0.2058], step:[-0.0008 -0.    ]\n",
      "37 a:0.9052, b:4.8931, loss:4.2576, slope:[6.357  0.1622], step:[-0.0006 -0.    ]\n",
      "38 a:0.9045, b:4.8931, loss:4.2539, slope:[5.3054 0.1258], step:[-0.0005 -0.    ]\n",
      "39 a:0.904, b:4.8931, loss:4.2514, slope:[4.4278 0.0954], step:[-0.0004 -0.    ]\n",
      "40 a:0.9036, b:4.8931, loss:4.2496, slope:[3.6954 0.07  ], step:[-0.0004 -0.    ]\n",
      "41 a:0.9032, b:4.8931, loss:4.2483, slope:[3.0842 0.0489], step:[-0.0003 -0.    ]\n",
      "42 a:0.9029, b:4.8931, loss:4.2474, slope:[2.5742 0.0312], step:[-0.0003 -0.    ]\n",
      "43 a:0.9026, b:4.8931, loss:4.2468, slope:[2.1485 0.0165], step:[-0.0002 -0.    ]\n",
      "44 a:0.9024, b:4.8931, loss:4.2464, slope:[1.7933 0.0042], step:[-0.0002 -0.    ]\n",
      "45 a:0.9022, b:4.8931, loss:4.2461, slope:[ 1.4969 -0.006 ], step:[-0.0001  0.    ]\n",
      "46 a:0.9021, b:4.8931, loss:4.2459, slope:[ 1.2495 -0.0146], step:[-0.0001  0.    ]\n",
      "47 a:0.902, b:4.8931, loss:4.2458, slope:[ 1.0431 -0.0217], step:[-0.0001  0.    ]\n",
      "48 a:0.9019, b:4.8931, loss:4.2457, slope:[ 0.8708 -0.0277], step:[-0.0001  0.    ]\n",
      "49 a:0.9018, b:4.8931, loss:4.2456, slope:[ 0.727  -0.0327], step:[-0.0001  0.    ]\n",
      "50 a:0.9017, b:4.8931, loss:4.2455, slope:[ 0.6071 -0.0368], step:[-0.0001  0.    ]\n",
      "51 a:0.9016, b:4.8931, loss:4.2455, slope:[ 0.5069 -0.0403], step:[-0.0001  0.    ]\n",
      "52 a:0.9016, b:4.8931, loss:4.2455, slope:[ 0.4234 -0.0432], step:[-0.  0.]\n",
      "53 a:0.9015, b:4.8931, loss:4.2455, slope:[ 0.3537 -0.0456], step:[-0.  0.]\n",
      "54 a:0.9015, b:4.8931, loss:4.2454, slope:[ 0.2955 -0.0476], step:[-0.  0.]\n",
      "55 a:0.9015, b:4.8931, loss:4.2454, slope:[ 0.2469 -0.0493], step:[-0.  0.]\n",
      "56 a:0.9015, b:4.8931, loss:4.2454, slope:[ 0.2064 -0.0507], step:[-0.  0.]\n",
      "57 a:0.9014, b:4.8931, loss:4.2454, slope:[ 0.1726 -0.0519], step:[-0.  0.]\n",
      "58 a:0.9014, b:4.8931, loss:4.2454, slope:[ 0.1443 -0.0529], step:[-0.  0.]\n",
      "59 a:0.9014, b:4.8931, loss:4.2454, slope:[ 0.1208 -0.0537], step:[-0.  0.]\n",
      "60 a:0.9014, b:4.8931, loss:4.2454, slope:[ 0.1011 -0.0543], step:[-0.  0.]\n",
      "61 a:0.9014, b:4.8931, loss:4.2454, slope:[ 0.0847 -0.0549], step:[-0.  0.]\n",
      "62 a:0.9014, b:4.8931, loss:4.2454, slope:[ 0.071  -0.0554], step:[-0.  0.]\n",
      "63 a:0.9014, b:4.8931, loss:4.2454, slope:[ 0.0596 -0.0558], step:[-0.  0.]\n",
      "64 a:0.9014, b:4.8931, loss:4.2454, slope:[ 0.0501 -0.0561], step:[-0.  0.]\n",
      "65 a:0.9014, b:4.8931, loss:4.2454, slope:[ 0.0421 -0.0564], step:[-0.  0.]\n",
      "66 a:0.9013, b:4.8931, loss:4.2454, slope:[ 0.0355 -0.0566], step:[-0.  0.]\n",
      "67 a:0.9013, b:4.8931, loss:4.2454, slope:[ 0.0299 -0.0568], step:[-0.  0.]\n",
      "68 a:0.9013, b:4.8932, loss:4.2454, slope:[ 0.0253 -0.057 ], step:[-0.  0.]\n",
      "69 a:0.9013, b:4.8932, loss:4.2454, slope:[ 0.0215 -0.0571], step:[-0.  0.]\n",
      "70 a:0.9013, b:4.8932, loss:4.2454, slope:[ 0.0182 -0.0572], step:[-0.  0.]\n",
      "71 a:0.9013, b:4.8932, loss:4.2454, slope:[ 0.0156 -0.0573], step:[-0.  0.]\n",
      "72 a:0.9013, b:4.8932, loss:4.2454, slope:[ 0.0133 -0.0574], step:[-0.  0.]\n",
      "73 a:0.9013, b:4.8932, loss:4.2454, slope:[ 0.0114 -0.0574], step:[-0.  0.]\n",
      "74 a:0.9013, b:4.8932, loss:4.2454, slope:[ 0.0099 -0.0575], step:[-0.  0.]\n",
      "75 a:0.9013, b:4.8932, loss:4.2454, slope:[ 0.0086 -0.0575], step:[-0.  0.]\n",
      "76 a:0.9013, b:4.8932, loss:4.2454, slope:[ 0.0075 -0.0576], step:[-0.  0.]\n",
      "77 a:0.9013, b:4.8932, loss:4.2454, slope:[ 0.0066 -0.0576], step:[-0.  0.]\n",
      "78 a:0.9013, b:4.8932, loss:4.2454, slope:[ 0.0058 -0.0576], step:[-0.  0.]\n",
      "79 a:0.9013, b:4.8932, loss:4.2454, slope:[ 0.0052 -0.0577], step:[-0.  0.]\n",
      "80 a:0.9013, b:4.8932, loss:4.2454, slope:[ 0.0047 -0.0577], step:[-0.  0.]\n",
      "81 a:0.9013, b:4.8932, loss:4.2454, slope:[ 0.0042 -0.0577], step:[-0.  0.]\n",
      "82 a:0.9013, b:4.8932, loss:4.2454, slope:[ 0.0039 -0.0577], step:[-0.  0.]\n",
      "83 a:0.9013, b:4.8932, loss:4.2454, slope:[ 0.0035 -0.0577], step:[-0.  0.]\n",
      "84 a:0.9013, b:4.8932, loss:4.2454, slope:[ 0.0033 -0.0577], step:[-0.  0.]\n",
      "85 a:0.9013, b:4.8933, loss:4.2454, slope:[ 0.0031 -0.0577], step:[-0.  0.]\n",
      "86 a:0.9013, b:4.8933, loss:4.2454, slope:[ 0.0029 -0.0577], step:[-0.  0.]\n",
      "87 a:0.9013, b:4.8933, loss:4.2454, slope:[ 0.0027 -0.0577], step:[-0.  0.]\n",
      "88 a:0.9013, b:4.8933, loss:4.2454, slope:[ 0.0026 -0.0578], step:[-0.  0.]\n",
      "89 a:0.9013, b:4.8933, loss:4.2454, slope:[ 0.0025 -0.0578], step:[-0.  0.]\n",
      "90 a:0.9013, b:4.8933, loss:4.2454, slope:[ 0.0024 -0.0578], step:[-0.  0.]\n",
      "91 a:0.9013, b:4.8933, loss:4.2454, slope:[ 0.0024 -0.0578], step:[-0.  0.]\n",
      "92 a:0.9013, b:4.8933, loss:4.2454, slope:[ 0.0023 -0.0578], step:[-0.  0.]\n",
      "93 a:0.9013, b:4.8933, loss:4.2454, slope:[ 0.0023 -0.0578], step:[-0.  0.]\n",
      "94 a:0.9013, b:4.8933, loss:4.2454, slope:[ 0.0022 -0.0578], step:[-0.  0.]\n",
      "95 a:0.9013, b:4.8933, loss:4.2454, slope:[ 0.0022 -0.0578], step:[-0.  0.]\n",
      "96 a:0.9013, b:4.8933, loss:4.2454, slope:[ 0.0021 -0.0578], step:[-0.  0.]\n",
      "97 a:0.9013, b:4.8933, loss:4.2454, slope:[ 0.0021 -0.0578], step:[-0.  0.]\n",
      "98 a:0.9013, b:4.8933, loss:4.2454, slope:[ 0.0021 -0.0578], step:[-0.  0.]\n",
      "99 a:0.9013, b:4.8933, loss:4.2454, slope:[ 0.0021 -0.0578], step:[-0.  0.]\n"
     ]
    }
   ],
   "source": [
    "a = 4.0\n",
    "b = 5.0\n",
    "params, loss, params_path, loss_path, slope_path, step_path = steepest_gradient_descent(\n",
    "                                                                             loss_function=loss_function,\n",
    "                                                                             gradient=[partial_a, partial_b],\n",
    "                                                                             init=[a, b],\n",
    "                                                                             epoch=100,\n",
    "                                                                             learning_rate=1e-4,\n",
    "                                                                             verbose=True)"
   ]
  },
  {
   "cell_type": "code",
   "execution_count": 64,
   "metadata": {},
   "outputs": [
    {
     "data": {
      "image/png": "[encoded data removed]",
      "text/plain": [
       "<matplotlib.figure.Figure at 0x7f5418957898>"
      ]
     },
     "metadata": {},
     "output_type": "display_data"
    }
   ],
   "source": [
    "plt.scatter(x, y)\n",
    "a = params[0]\n",
    "b = params[1]\n",
    "f = lambda x: a * x + b\n",
    "x_space = np.linspace(-20, 100, 200)\n",
    "y_space = f(x_space)\n",
    "plt.plot(x_space, y_space, c='r', alpha=.4)\n",
    "plt.xlim(20, 40)\n",
    "plt.ylim(20, 40)\n",
    "plt.xlabel('Female')\n",
    "plt.ylabel('Male')\n",
    "plt.show()"
   ]
  },
  {
   "cell_type": "code",
   "execution_count": 65,
   "metadata": {},
   "outputs": [
    {
     "data": {
      "image/png": "[encoded data removed]",
      "text/plain": [
       "<matplotlib.figure.Figure at 0x7f5418a6fc50>"
      ]
     },
     "metadata": {},
     "output_type": "display_data"
    }
   ],
   "source": [
    "plt.plot(loss_path)\n",
    "plt.xlabel('epoch')\n",
    "plt.ylabel('loss')\n",
    "plt.show()"
   ]
  },
  {
   "cell_type": "code",
   "execution_count": 66,
   "metadata": {},
   "outputs": [],
   "source": [
    "x_space = np.linspace(0, 7, 100)\n",
    "y_space = np.linspace(4.5, 5.5, 100)\n",
    "x_space, y_space = np.meshgrid(x_space, y_space)\n",
    "z_space = np.zeros((100,100))\n",
    "for i in range(100):\n",
    "    for j in range(100):\n",
    "        z_space[i][j] = loss_function(x_space[i][j], y_space[i][j])"
   ]
  },
  {
   "cell_type": "code",
   "execution_count": 67,
   "metadata": {},
   "outputs": [],
   "source": [
    "epoch = 0\n",
    "a_show = []\n",
    "b_show = []\n",
    "loss_show = []"
   ]
  },
  {
   "cell_type": "code",
   "execution_count": 69,
   "metadata": {},
   "outputs": [
    {
     "data": {
      "image/png": "[encoded data removed]",
      "text/plain": [
       "<matplotlib.figure.Figure at 0x7f5418616e80>"
      ]
     },
     "metadata": {},
     "output_type": "display_data"
    }
   ],
   "source": [
    "%matplotlib inline\n",
    "from mpl_toolkits.mplot3d import Axes3D\n",
    "\n",
    "ax = plt.axes(projection='3d')\n",
    "ax.view_init(azim=-80, elev=30)\n",
    "ax.plot_surface(x_space, y_space, z_space, cmap=plt.cm.gray, alpha=.5)\n",
    "a_show.append(np.array(params_path)[:,0][epoch])\n",
    "b_show.append(np.array(params_path)[:,1][epoch])\n",
    "loss_show.append(loss_path[epoch])\n",
    "ax.scatter(a_show, b_show, loss_show, c='r')\n",
    "ax.set_xlabel('a')\n",
    "ax.set_ylabel('b')\n",
    "ax.set_zlabel('loss')\n",
    "epoch += 1\n",
    "plt.show()"
   ]
  },
  {
   "cell_type": "code",
   "execution_count": null,
   "metadata": {},
   "outputs": [],
   "source": []
  }
 ],
 "metadata": {
  "kernelspec": {
   "display_name": "Python 3",
   "language": "python",
   "name": "python3"
  },
  "language_info": {
   "codemirror_mode": {
    "name": "ipython",
    "version": 3
   },
   "file_extension": ".py",
   "mimetype": "text/x-python",
   "name": "python",
   "nbconvert_exporter": "python",
   "pygments_lexer": "ipython3",
   "version": "3.6.4"
  }
 },
 "nbformat": 4,
 "nbformat_minor": 2
}
