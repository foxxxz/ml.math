{
 "cells": [
  {
   "cell_type": "code",
   "execution_count": 1,
   "metadata": {},
   "outputs": [],
   "source": [
    "import numpy as np\n",
    "import pandas as pd\n",
    "import scipy as sp\n",
    "import matplotlib.pyplot as plt\n",
    "import matplotlib as mpl\n",
    "import seaborn as sns\n",
    "from sklearn import metrics\n",
    "import time"
   ]
  },
  {
   "cell_type": "code",
   "execution_count": 106,
   "metadata": {},
   "outputs": [],
   "source": [
    "x = np.array([26, 25, 29, 30, 26, 35, 31, 28, 26, 30])\n",
    "y = np.array([32, 28, 29, 29, 27, 38, 31, 33, 28, 32])"
   ]
  },
  {
   "cell_type": "code",
   "execution_count": 107,
   "metadata": {},
   "outputs": [
    {
     "data": {
      "image/png": "[encoded data removed]",
      "text/plain": [
       "<matplotlib.figure.Figure at 0x7f875393e2e8>"
      ]
     },
     "metadata": {},
     "output_type": "display_data"
    }
   ],
   "source": [
    "plt.scatter(x, y)\n",
    "plt.xlim(20, 40)\n",
    "plt.ylim(20, 40)\n",
    "plt.xlabel('Female')\n",
    "plt.ylabel('Male')\n",
    "plt.grid()\n",
    "plt.show()"
   ]
  },
  {
   "cell_type": "markdown",
   "metadata": {},
   "source": [
    "<br>\n",
    "<br>\n",
    "<br>\n",
    "<br>"
   ]
  },
  {
   "cell_type": "code",
   "execution_count": 108,
   "metadata": {},
   "outputs": [
    {
     "data": {
      "image/png": "[encoded data removed]",
      "text/plain": [
       "<matplotlib.figure.Figure at 0x7f8753c9e400>"
      ]
     },
     "metadata": {},
     "output_type": "display_data"
    }
   ],
   "source": [
    "sns.distplot(x, label='Female')\n",
    "sns.distplot(y, label='Male')\n",
    "plt.legend()\n",
    "plt.show()"
   ]
  },
  {
   "cell_type": "code",
   "execution_count": 109,
   "metadata": {},
   "outputs": [
    {
     "data": {
      "text/html": [
       "<div>\n",
       "<style scoped>\n",
       "    .dataframe tbody tr th:only-of-type {\n",
       "        vertical-align: middle;\n",
       "    }\n",
       "\n",
       "    .dataframe tbody tr th {\n",
       "        vertical-align: top;\n",
       "    }\n",
       "\n",
       "    .dataframe thead th {\n",
       "        text-align: right;\n",
       "    }\n",
       "</style>\n",
       "<table border=\"1\" class=\"dataframe\">\n",
       "  <thead>\n",
       "    <tr style=\"text-align: right;\">\n",
       "      <th></th>\n",
       "      <th>female</th>\n",
       "      <th>male</th>\n",
       "    </tr>\n",
       "  </thead>\n",
       "  <tbody>\n",
       "    <tr>\n",
       "      <th>mu</th>\n",
       "      <td>28.60</td>\n",
       "      <td>30.70</td>\n",
       "    </tr>\n",
       "    <tr>\n",
       "      <th>sig2</th>\n",
       "      <td>8.44</td>\n",
       "      <td>9.61</td>\n",
       "    </tr>\n",
       "  </tbody>\n",
       "</table>\n",
       "</div>"
      ],
      "text/plain": [
       "      female   male\n",
       "mu     28.60  30.70\n",
       "sig2    8.44   9.61"
      ]
     },
     "execution_count": 109,
     "metadata": {},
     "output_type": "execute_result"
    }
   ],
   "source": [
    "stats = pd.DataFrame([[np.mean(x), np.mean(y)],\n",
    "                      [np.var(x), np.var(y)]],\n",
    "                      columns=['female', 'male'], index=['mu', 'sig2'])\n",
    "stats"
   ]
  },
  {
   "cell_type": "code",
   "execution_count": 110,
   "metadata": {},
   "outputs": [
    {
     "name": "stderr",
     "output_type": "stream",
     "text": [
      "/home/ubuntu/anaconda3/lib/python3.6/site-packages/scipy/stats/stats.py:1390: UserWarning: kurtosistest only valid for n>=20 ... continuing anyway, n=10\n",
      "  \"anyway, n=%i\" % int(n))\n"
     ]
    },
    {
     "data": {
      "text/plain": [
       "NormaltestResult(statistic=2.1732433717539092, pvalue=0.33735425941869984)"
      ]
     },
     "execution_count": 110,
     "metadata": {},
     "output_type": "execute_result"
    }
   ],
   "source": [
    "sp.stats.normaltest(x)"
   ]
  },
  {
   "cell_type": "code",
   "execution_count": 111,
   "metadata": {
    "scrolled": true
   },
   "outputs": [
    {
     "name": "stderr",
     "output_type": "stream",
     "text": [
      "/home/ubuntu/anaconda3/lib/python3.6/site-packages/scipy/stats/stats.py:1390: UserWarning: kurtosistest only valid for n>=20 ... continuing anyway, n=10\n",
      "  \"anyway, n=%i\" % int(n))\n"
     ]
    },
    {
     "data": {
      "text/plain": [
       "NormaltestResult(statistic=4.837761870815189, pvalue=0.0890211821922777)"
      ]
     },
     "execution_count": 111,
     "metadata": {},
     "output_type": "execute_result"
    }
   ],
   "source": [
    "sp.stats.normaltest(y)"
   ]
  },
  {
   "cell_type": "markdown",
   "metadata": {},
   "source": [
    "<br>\n",
    "<br>\n",
    "<br>\n",
    "<br>"
   ]
  },
  {
   "cell_type": "markdown",
   "metadata": {},
   "source": [
    "\\begin{equation}\n",
    "\\mathcal{N}(x \\space | \\space \\mu, \\sigma^2) = \\dfrac{1}{\\sqrt{2\\pi\\sigma^2}} e ^ {-\\dfrac{(x-\\mu)^2}{2\\sigma^2}} \n",
    "\\end{equation}"
   ]
  },
  {
   "cell_type": "markdown",
   "metadata": {},
   "source": [
    "\\begin{align}\n",
    "Norm_{Female}(x \\space | \\space \\mu=28.6, \\sigma^2=8.44) \\\\\n",
    "Norm_{Male}(x \\space | \\space \\mu=30.7, \\sigma^2=9.61)\n",
    "\\end{align}"
   ]
  },
  {
   "cell_type": "markdown",
   "metadata": {},
   "source": [
    "<br>\n",
    "<br>\n",
    "<br>\n",
    "<br>"
   ]
  },
  {
   "cell_type": "code",
   "execution_count": 112,
   "metadata": {},
   "outputs": [],
   "source": [
    "f_mu = 28.6\n",
    "f_var = 8.44\n",
    "normal_f = lambda x: (1/np.sqrt(2*np.pi*f_var)) * (np.e**(-(x-f_mu)**2 / (2*f_var)))\n",
    "\n",
    "m_mu = 30.7\n",
    "m_var = 9.61\n",
    "normal_m = lambda x: (1/np.sqrt(2*np.pi*m_var)) * (np.e**(-(x-m_mu)**2 / (2*m_var)))"
   ]
  },
  {
   "cell_type": "code",
   "execution_count": 113,
   "metadata": {
    "scrolled": true
   },
   "outputs": [
    {
     "data": {
      "image/png": "[encoded data removed]",
      "text/plain": [
       "<matplotlib.figure.Figure at 0x7f875396acc0>"
      ]
     },
     "metadata": {},
     "output_type": "display_data"
    }
   ],
   "source": [
    "x_space = np.linspace(15, 45)\n",
    "plt.plot(x_space, normal_f(x_space), label='Female')\n",
    "plt.plot(x_space, normal_m(x_space), label='Male')\n",
    "plt.legend()\n",
    "plt.show()"
   ]
  },
  {
   "cell_type": "markdown",
   "metadata": {},
   "source": [
    "<br>\n",
    "<br>\n",
    "<br>\n",
    "<br>"
   ]
  },
  {
   "cell_type": "code",
   "execution_count": 114,
   "metadata": {},
   "outputs": [],
   "source": [
    "female = sp.stats.norm.fit(x)\n",
    "male = sp.stats.norm.fit(y)"
   ]
  },
  {
   "cell_type": "code",
   "execution_count": 115,
   "metadata": {},
   "outputs": [],
   "source": [
    "# ititialize\n",
    "x_sample0 = []\n",
    "y_sample0 = []\n",
    "cnt0 = 0"
   ]
  },
  {
   "cell_type": "code",
   "execution_count": 134,
   "metadata": {
    "scrolled": false
   },
   "outputs": [
    {
     "name": "stdout",
     "output_type": "stream",
     "text": [
      "trial 19\n"
     ]
    },
    {
     "data": {
      "image/png": "[encoded data removed]",
      "text/plain": [
       "<matplotlib.figure.Figure at 0x7f8753c412b0>"
      ]
     },
     "metadata": {},
     "output_type": "display_data"
    }
   ],
   "source": [
    "# generate data\n",
    "x_sample0.append(sp.stats.norm.rvs(female[0], female[1]))\n",
    "y_sample0.append(sp.stats.norm.rvs(male[0], male[1]))\n",
    "cnt0 += 1\n",
    "print('trial {}'.format(cnt0))\n",
    "\n",
    "plt.figure(figsize=(10,4))\n",
    "\n",
    "plt.subplot(1,2,1)\n",
    "plt.scatter(x_sample0, y_sample0)\n",
    "plt.xlim(20, 40)\n",
    "plt.ylim(20, 40)\n",
    "plt.xlabel('Female')\n",
    "plt.ylabel('Male')\n",
    "\n",
    "plt.subplot(1,2,2)\n",
    "sns.distplot(x_sample0, label='Female')\n",
    "sns.distplot(y_sample0, label='Male')\n",
    "plt.legend()\n",
    "plt.tight_layout()\n",
    "plt.grid()\n",
    "plt.show()"
   ]
  },
  {
   "cell_type": "markdown",
   "metadata": {},
   "source": [
    "<br>\n",
    "<br>\n",
    "<br>\n",
    "<br>"
   ]
  },
  {
   "cell_type": "markdown",
   "metadata": {},
   "source": [
    "\\begin{align}\n",
    "\\hat{y} = 0.898x + 4.962 \\\\\n",
    "\\end{align}"
   ]
  },
  {
   "cell_type": "code",
   "execution_count": 135,
   "metadata": {},
   "outputs": [],
   "source": [
    "a = 0.898\n",
    "b = 4.962\n",
    "opt = lambda x: a * x + b"
   ]
  },
  {
   "cell_type": "markdown",
   "metadata": {},
   "source": [
    "<br>\n",
    "<br>\n",
    "<br>\n",
    "<br>"
   ]
  },
  {
   "cell_type": "code",
   "execution_count": 136,
   "metadata": {
    "scrolled": true
   },
   "outputs": [
    {
     "data": {
      "image/png": "[encoded data removed]",
      "text/plain": [
       "<matplotlib.figure.Figure at 0x7f8753c9ee10>"
      ]
     },
     "metadata": {},
     "output_type": "display_data"
    }
   ],
   "source": [
    "plt.scatter(x, y)\n",
    "x_space = np.linspace(-20, 100, 200)\n",
    "y_space = opt(x_space)\n",
    "plt.plot(x_space, y_space, c='r', alpha=.4)\n",
    "plt.xlim(20, 40)\n",
    "plt.ylim(20, 40)\n",
    "plt.xlabel('Female')\n",
    "plt.ylabel('Male')\n",
    "plt.grid()\n",
    "plt.show()"
   ]
  },
  {
   "cell_type": "markdown",
   "metadata": {},
   "source": [
    "\\begin{align}\n",
    "f(x) &= 0.898x + 4.962 \\\\\n",
    "&= 0.898g(x) + 4.962\n",
    "\\end{align}"
   ]
  },
  {
   "cell_type": "markdown",
   "metadata": {},
   "source": [
    "<br>\n",
    "<br>\n",
    "<br>\n",
    "<br>"
   ]
  },
  {
   "cell_type": "code",
   "execution_count": 137,
   "metadata": {},
   "outputs": [],
   "source": [
    "# ititialize\n",
    "x_sample1 = []\n",
    "y_sample1 = []\n",
    "cnt1 = 0"
   ]
  },
  {
   "cell_type": "code",
   "execution_count": 150,
   "metadata": {
    "scrolled": false
   },
   "outputs": [
    {
     "name": "stdout",
     "output_type": "stream",
     "text": [
      "trial 13\n"
     ]
    },
    {
     "data": {
      "image/png": "[encoded data removed]",
      "text/plain": [
       "<matplotlib.figure.Figure at 0x7f8753a1c390>"
      ]
     },
     "metadata": {},
     "output_type": "display_data"
    }
   ],
   "source": [
    "# generate data\n",
    "x_sample1.append(sp.stats.norm.rvs(female[0], female[1]))\n",
    "y_sample1.append(opt(x_sample1[-1]))\n",
    "cnt1 += 1\n",
    "print('trial {}'.format(cnt1))\n",
    "\n",
    "plt.figure(figsize=(10,4))\n",
    "\n",
    "plt.subplot(1,2,1)\n",
    "plt.scatter(x_sample1, y_sample1)\n",
    "plt.xlim(20, 40)\n",
    "plt.ylim(20, 40)\n",
    "plt.xlabel('Female')\n",
    "plt.ylabel('Male')\n",
    "\n",
    "plt.subplot(1,2,2)\n",
    "sns.distplot(x_sample1, label='Female')\n",
    "sns.distplot(y_sample1, label='Male')\n",
    "plt.legend()\n",
    "plt.tight_layout()\n",
    "plt.grid()\n",
    "plt.show()"
   ]
  },
  {
   "cell_type": "markdown",
   "metadata": {},
   "source": [
    "<br>\n",
    "<br>\n",
    "<br>\n",
    "<br>"
   ]
  },
  {
   "cell_type": "markdown",
   "metadata": {},
   "source": [
    "\\begin{align}\n",
    "f(x) &= 0.898g(x) + 4.962 + noise\n",
    "\\end{align}"
   ]
  },
  {
   "cell_type": "markdown",
   "metadata": {},
   "source": [
    "<br>\n",
    "<br>\n",
    "<br>\n",
    "<br>"
   ]
  },
  {
   "cell_type": "code",
   "execution_count": 151,
   "metadata": {},
   "outputs": [
    {
     "data": {
      "text/plain": [
       "array([-3.69 , -0.588,  2.004,  2.902,  1.31 , -1.608,  1.8  , -2.894,\n",
       "        0.31 , -0.098])"
      ]
     },
     "execution_count": 151,
     "metadata": {},
     "output_type": "execute_result"
    }
   ],
   "source": [
    "y_hat = np.array([opt(x) for x in x])\n",
    "error = y_hat - y\n",
    "error"
   ]
  },
  {
   "cell_type": "code",
   "execution_count": 152,
   "metadata": {
    "scrolled": true
   },
   "outputs": [
    {
     "data": {
      "image/png": "[encoded data removed]",
      "text/plain": [
       "<matplotlib.figure.Figure at 0x7f8753d19b38>"
      ]
     },
     "metadata": {},
     "output_type": "display_data"
    }
   ],
   "source": [
    "sns.distplot(error)\n",
    "plt.text(4, 0.1, 'mean: {}'.format(round(error.mean(), 4)))\n",
    "plt.text(4, 0.085, 'var: {}'.format(round(error.var(), 4)))\n",
    "plt.show()"
   ]
  },
  {
   "cell_type": "markdown",
   "metadata": {},
   "source": [
    "<br>\n",
    "\\begin{align}\n",
    "f(x) &= 0.898g(x) + 4.962 + noise\n",
    "\\end{align}\n",
    "<br>"
   ]
  },
  {
   "cell_type": "code",
   "execution_count": 153,
   "metadata": {},
   "outputs": [],
   "source": [
    "opt_rvs = lambda x, noise: x + noise"
   ]
  },
  {
   "cell_type": "code",
   "execution_count": 154,
   "metadata": {},
   "outputs": [],
   "source": [
    "error_dist = sp.stats.norm.fit(error)"
   ]
  },
  {
   "cell_type": "code",
   "execution_count": 155,
   "metadata": {},
   "outputs": [],
   "source": [
    "# ititialize\n",
    "x_sample2 = []\n",
    "y_sample2 = []\n",
    "cnt2 = 0"
   ]
  },
  {
   "cell_type": "code",
   "execution_count": 165,
   "metadata": {
    "scrolled": false
   },
   "outputs": [
    {
     "name": "stdout",
     "output_type": "stream",
     "text": [
      "trial 10\n"
     ]
    },
    {
     "data": {
      "image/png": "[encoded data removed]",
      "text/plain": [
       "<matplotlib.figure.Figure at 0x7f87538f9c18>"
      ]
     },
     "metadata": {},
     "output_type": "display_data"
    }
   ],
   "source": [
    "# generate data\n",
    "x_sample2.append(sp.stats.norm.rvs(female[0], female[1]))\n",
    "y_sample2.append(opt_rvs(opt(x_sample2[-1]), sp.stats.norm.rvs(error_dist[0], error_dist[1])))\n",
    "cnt2 += 1\n",
    "print('trial {}'.format(cnt2))\n",
    "\n",
    "plt.figure(figsize=(10,4))\n",
    "\n",
    "plt.subplot(1,2,1)\n",
    "plt.scatter(x_sample2, y_sample2)\n",
    "plt.xlim(20, 40)\n",
    "plt.ylim(20, 40)\n",
    "plt.xlabel('Female')\n",
    "plt.ylabel('Male')\n",
    "\n",
    "plt.subplot(1,2,2)\n",
    "sns.distplot(x_sample2, label='Female')\n",
    "sns.distplot(y_sample2, label='Male')\n",
    "plt.legend()\n",
    "plt.tight_layout()\n",
    "plt.grid()\n",
    "plt.show()"
   ]
  },
  {
   "cell_type": "markdown",
   "metadata": {},
   "source": [
    "<br>\n",
    "<br>\n",
    "<br>\n",
    "<br>"
   ]
  },
  {
   "cell_type": "markdown",
   "metadata": {},
   "source": [
    "\\begin{align}\n",
    "\\hat{y} = ax + b + \\epsilon\n",
    "\\end{align}"
   ]
  },
  {
   "cell_type": "markdown",
   "metadata": {},
   "source": [
    "<br>"
   ]
  },
  {
   "cell_type": "markdown",
   "metadata": {},
   "source": [
    "\\begin{align}\n",
    "\\begin{bmatrix}\n",
    "    x_{11} &  1 \\\\\n",
    "    x_{21} &  1 \\\\\n",
    "    ...\\\\\n",
    "    x_{n1} &  1 \\\\\n",
    "\\end{bmatrix}\n",
    "\\begin{bmatrix}\n",
    "    a \\\\\n",
    "    b \\\\\n",
    "\\end{bmatrix}\n",
    "+\n",
    "\\begin{bmatrix}\n",
    "    \\epsilon_{11} \\\\\n",
    "    \\epsilon_{21} \\\\\n",
    "    ...\\\\\n",
    "    \\epsilon_{n1} \\\\\n",
    "\\end{bmatrix}\n",
    "=\n",
    "\\begin{bmatrix}\n",
    "    \\hat{y}_{11} \\\\\n",
    "    \\hat{y}_{21} \\\\\n",
    "    ...\\\\\n",
    "    \\hat{y}_{n1} \\\\\n",
    "\\end{bmatrix}\n",
    "\\end{align}"
   ]
  },
  {
   "cell_type": "markdown",
   "metadata": {},
   "source": [
    "<br>\n",
    "<br>\n",
    "<br>\n",
    "<br>"
   ]
  },
  {
   "cell_type": "markdown",
   "metadata": {},
   "source": [
    "<br>\n",
    "<br>\n",
    "<br>\n",
    "<br>"
   ]
  },
  {
   "cell_type": "markdown",
   "metadata": {},
   "source": [
    "\\begin{align}\n",
    "x^2 - 2x + 3 &= 0\n",
    "\\end{align}"
   ]
  },
  {
   "cell_type": "markdown",
   "metadata": {},
   "source": [
    "<br>\n",
    "<br>\n",
    "<br>\n",
    "<br>"
   ]
  },
  {
   "cell_type": "markdown",
   "metadata": {},
   "source": [
    "<br>\n",
    "<br>\n",
    "<br>\n",
    "<br>"
   ]
  },
  {
   "cell_type": "markdown",
   "metadata": {},
   "source": [
    "<br>\n",
    "<br>\n",
    "<br>\n",
    "<br>"
   ]
  },
  {
   "cell_type": "code",
   "execution_count": 23,
   "metadata": {},
   "outputs": [
    {
     "data": {
      "image/png": "[encoded data removed]",
      "text/plain": [
       "<matplotlib.figure.Figure at 0x7f87885f3b70>"
      ]
     },
     "metadata": {},
     "output_type": "display_data"
    }
   ],
   "source": [
    "f = lambda x: x**2 + (-2.0 * x) + 3.0\n",
    "x = np.linspace(-10, 5, 30)\n",
    "y = f(x)\n",
    "plt.plot(x, y)\n",
    "plt.plot([-10, 5], [0,0], c='red', alpha=.3)\n",
    "plt.plot([0, 0], [-2, 15], c='red', alpha=.3)\n",
    "plt.ylim(-2, 15)\n",
    "plt.grid()\n",
    "plt.show()"
   ]
  },
  {
   "cell_type": "markdown",
   "metadata": {},
   "source": [
    "\\begin{align}\n",
    "x^2 - 2x + 3 \\\\\n",
    "= x(x - 2) + |3| \\\\\n",
    "= (x - 1)^2 + |2| \\\\\n",
    "\\end{align}\n",
    "<p>\n",
    "<center>which is better?</center>"
   ]
  },
  {
   "cell_type": "markdown",
   "metadata": {},
   "source": [
    "<br>\n",
    "<br>\n",
    "<br>\n",
    "<br>"
   ]
  },
  {
   "cell_type": "markdown",
   "metadata": {},
   "source": [
    "<br>\n",
    "<br>\n",
    "<br>\n",
    "<br>"
   ]
  },
  {
   "cell_type": "markdown",
   "metadata": {},
   "source": [
    "<br>\n",
    "<br>\n",
    "<br>\n",
    "<br>"
   ]
  },
  {
   "cell_type": "markdown",
   "metadata": {},
   "source": [
    "<br>\n",
    "<br>\n",
    "<br>\n",
    "<br>"
   ]
  },
  {
   "cell_type": "markdown",
   "metadata": {},
   "source": [
    "\\begin{align}\n",
    "x^2 - 2x + 3 &= (x^2 -2x + 1) + 2 \\\\\n",
    "&= (x - 1)^2 + 2\n",
    "\\end{align}"
   ]
  },
  {
   "cell_type": "markdown",
   "metadata": {},
   "source": [
    "<br>\n",
    "<br>\n",
    "<br>\n",
    "<br>"
   ]
  },
  {
   "cell_type": "markdown",
   "metadata": {},
   "source": [
    "<br>\n",
    "<br>\n",
    "<br>\n",
    "<br>"
   ]
  },
  {
   "cell_type": "markdown",
   "metadata": {},
   "source": [
    "<br>\n",
    "<br>\n",
    "<br>\n",
    "<br>"
   ]
  },
  {
   "cell_type": "markdown",
   "metadata": {},
   "source": [
    "<br>\n",
    "<br>\n",
    "<br>\n",
    "<br>"
   ]
  },
  {
   "cell_type": "markdown",
   "metadata": {},
   "source": [
    "\\begin{align}\n",
    "f(x) &= x^2 - 2x + 3 \\\\\n",
    "f^\\prime(x) &= 2x -2 \\\\\n",
    "&= 0\n",
    "\\end{align}"
   ]
  },
  {
   "cell_type": "markdown",
   "metadata": {},
   "source": [
    "\\begin{align}\n",
    "then, \\\\\n",
    "2x - 2 = 0 \\\\\n",
    "2x = 2 \\\\\n",
    "x = 1\n",
    "\\end{align}"
   ]
  },
  {
   "cell_type": "markdown",
   "metadata": {},
   "source": [
    "<br>\n",
    "<br>\n",
    "<br>\n",
    "<br>"
   ]
  },
  {
   "cell_type": "markdown",
   "metadata": {},
   "source": [
    "<br>\n",
    "<br>\n",
    "<br>\n",
    "<br>"
   ]
  },
  {
   "cell_type": "markdown",
   "metadata": {},
   "source": [
    "<br>\n",
    "<br>\n",
    "<br>\n",
    "<br>"
   ]
  },
  {
   "cell_type": "markdown",
   "metadata": {},
   "source": [
    "\\begin{align}\n",
    "x^3 - 3x^2 + 2 &= 0\n",
    "\\end{align}"
   ]
  },
  {
   "cell_type": "markdown",
   "metadata": {},
   "source": [
    "<br>\n",
    "<br>\n",
    "<br>\n",
    "<br>"
   ]
  },
  {
   "cell_type": "code",
   "execution_count": 24,
   "metadata": {},
   "outputs": [
    {
     "data": {
      "image/png": "[encoded data removed]",
      "text/plain": [
       "<matplotlib.figure.Figure at 0x7f8753ab0588>"
      ]
     },
     "metadata": {},
     "output_type": "display_data"
    }
   ],
   "source": [
    "f = lambda x: x**3 + (-3.0 * x**2) + 2.0\n",
    "x = np.linspace(-10, 5, 100)\n",
    "y = f(x)\n",
    "plt.plot(x, y)\n",
    "plt.plot([-4, 4], [0,0], c='red', alpha=.3)\n",
    "plt.plot([0, 0], [-4, 4], c='red', alpha=.3)\n",
    "plt.ylim(-4, 4)\n",
    "plt.xlim(-4, 4)\n",
    "plt.grid()\n",
    "plt.show()"
   ]
  },
  {
   "cell_type": "markdown",
   "metadata": {},
   "source": [
    "\\begin{align}\n",
    "f(x) &= x^3 - 3x^2 + 2 \\\\\n",
    "f^\\prime(x) &= 3x^2 - 6x \\\\\n",
    "&= 0\n",
    "\\end{align}"
   ]
  },
  {
   "cell_type": "markdown",
   "metadata": {},
   "source": [
    "\\begin{align}\n",
    "then, \\\\\n",
    "3x^2 -6x = 0 \\\\\n",
    "3x(x - 2) = 0 \\\\\n",
    "x = 0 \\space or \\space 2\n",
    "\\end{align}"
   ]
  },
  {
   "cell_type": "markdown",
   "metadata": {},
   "source": [
    "<br>\n",
    "<br>\n",
    "<br>\n",
    "<br>"
   ]
  },
  {
   "cell_type": "markdown",
   "metadata": {},
   "source": [
    "<br>\n",
    "<br>\n",
    "<br>\n",
    "<br>"
   ]
  },
  {
   "cell_type": "markdown",
   "metadata": {},
   "source": [
    "\\begin{align}\n",
    "f(x) &= x^2 - 2x + 3 \\\\\n",
    "\\end{align}"
   ]
  },
  {
   "cell_type": "code",
   "execution_count": 166,
   "metadata": {},
   "outputs": [],
   "source": [
    "f = lambda x: x**2 + (-2.0 * x) + 3.0"
   ]
  },
  {
   "cell_type": "markdown",
   "metadata": {},
   "source": [
    "<br>\n",
    "\\begin{align}\n",
    "f^\\prime(x) &= 2x -2 \\\\\n",
    "\\end{align}"
   ]
  },
  {
   "cell_type": "code",
   "execution_count": 167,
   "metadata": {},
   "outputs": [],
   "source": [
    "derivative = lambda x: 2 * x - 2"
   ]
  },
  {
   "cell_type": "markdown",
   "metadata": {},
   "source": [
    "<br>\n",
    "\\begin{equation}\n",
    "x^{k+1} = x^{k} - \\text{learning_rate} \\times f^\\prime(x^{k})\n",
    "\\end{equation}"
   ]
  },
  {
   "cell_type": "code",
   "execution_count": 168,
   "metadata": {},
   "outputs": [],
   "source": [
    "def steepest_gradient_descent(function, derivative, epoch, learning_rate, init, verbose=False):\n",
    "    x = init\n",
    "    x_path = []\n",
    "    y_path = []\n",
    "    slope_path = []\n",
    "    step_path = []\n",
    "    \n",
    "    for i in range(epoch):\n",
    "        y = function(x)\n",
    "        y_path.append(y)\n",
    "        x_path.append(x)\n",
    "        slope = derivative(x)\n",
    "        slope_path.append(slope)\n",
    "        step = - learning_rate * slope\n",
    "        step_path.append(step)\n",
    "        \n",
    "        if verbose == True:\n",
    "            print('{} x:{}, y:{}, slope:{}, step:{}'.format(i, round(x, 4), round(y, 4), round(slope, 4), round(step, 4)))\n",
    "        \n",
    "        # update next x\n",
    "        x = x + step\n",
    "    return x_path, y_path, slope_path, step_path"
   ]
  },
  {
   "cell_type": "code",
   "execution_count": 169,
   "metadata": {},
   "outputs": [
    {
     "name": "stdout",
     "output_type": "stream",
     "text": [
      "0 x:4, y:11.0, slope:6, step:-0.6\n",
      "1 x:3.4, y:7.76, slope:4.8, step:-0.48\n",
      "2 x:2.92, y:5.6864, slope:3.84, step:-0.384\n",
      "3 x:2.536, y:4.3593, slope:3.072, step:-0.3072\n",
      "4 x:2.2288, y:3.5099, slope:2.4576, step:-0.2458\n",
      "5 x:1.983, y:2.9664, slope:1.9661, step:-0.1966\n",
      "6 x:1.7864, y:2.6185, slope:1.5729, step:-0.1573\n",
      "7 x:1.6291, y:2.3958, slope:1.2583, step:-0.1258\n",
      "8 x:1.5033, y:2.2533, slope:1.0066, step:-0.1007\n",
      "9 x:1.4027, y:2.1621, slope:0.8053, step:-0.0805\n",
      "10 x:1.3221, y:2.1038, slope:0.6442, step:-0.0644\n",
      "11 x:1.2577, y:2.0664, slope:0.5154, step:-0.0515\n",
      "12 x:1.2062, y:2.0425, slope:0.4123, step:-0.0412\n",
      "13 x:1.1649, y:2.0272, slope:0.3299, step:-0.033\n",
      "14 x:1.1319, y:2.0174, slope:0.2639, step:-0.0264\n",
      "15 x:1.1056, y:2.0111, slope:0.2111, step:-0.0211\n",
      "16 x:1.0844, y:2.0071, slope:0.1689, step:-0.0169\n",
      "17 x:1.0676, y:2.0046, slope:0.1351, step:-0.0135\n",
      "18 x:1.054, y:2.0029, slope:0.1081, step:-0.0108\n",
      "19 x:1.0432, y:2.0019, slope:0.0865, step:-0.0086\n"
     ]
    }
   ],
   "source": [
    "x_path, y_path, slope_path, step_path = steepest_gradient_descent(function=f, derivative=derivative, epoch=20, init=4,\n",
    "                                                       learning_rate=.1, verbose=True)"
   ]
  },
  {
   "cell_type": "code",
   "execution_count": 195,
   "metadata": {},
   "outputs": [],
   "source": [
    "x = np.linspace(-10, 5, 100)\n",
    "y = f(x)\n",
    "epoch = 0\n",
    "xp_show = []\n",
    "yp_show = []"
   ]
  },
  {
   "cell_type": "code",
   "execution_count": 205,
   "metadata": {
    "scrolled": true
   },
   "outputs": [
    {
     "name": "stdout",
     "output_type": "stream",
     "text": [
      "epoch 9\n"
     ]
    },
    {
     "data": {
      "image/png": "[encoded data removed]",
      "text/plain": [
       "<matplotlib.figure.Figure at 0x7f87538f0d68>"
      ]
     },
     "metadata": {},
     "output_type": "display_data"
    }
   ],
   "source": [
    "print('epoch {}'.format(epoch))\n",
    "plt.plot(x, y)\n",
    "plt.plot([-10, 5], [0,0], c='red', alpha=.3)\n",
    "plt.plot([0, 0], [-2, 15], c='red', alpha=.3)\n",
    "plt.ylim(-2, 15)\n",
    "plt.grid()\n",
    "plt.text(-5.5, 8, 'slope: {}'.format(round(slope_path[epoch], 4)))\n",
    "plt.text(-5.5, 7, 'step: {}'.format(round(step_path[epoch], 4)))\n",
    "plt.text(-5.5, 6, 'x: {}'.format(round(x_path[epoch], 4)))\n",
    "plt.text(-5.5, 5, 'y: {}'.format(round(y_path[epoch], 4)))\n",
    "xp_show.append(x_path[epoch])\n",
    "yp_show.append(y_path[epoch])\n",
    "plt.scatter(xp_show, yp_show)\n",
    "epoch += 1\n",
    "plt.show()"
   ]
  },
  {
   "cell_type": "markdown",
   "metadata": {},
   "source": [
    "<br>\n",
    "### non-convex function"
   ]
  },
  {
   "cell_type": "markdown",
   "metadata": {},
   "source": [
    "\\begin{align}\n",
    "f(x) &= x^4 - 2x^2 + x \\\\\n",
    "\\end{align}"
   ]
  },
  {
   "cell_type": "code",
   "execution_count": 234,
   "metadata": {},
   "outputs": [],
   "source": [
    "f = lambda x: x**4 + (-2.0 * x**2) + x"
   ]
  },
  {
   "cell_type": "markdown",
   "metadata": {},
   "source": [
    "<br>\n",
    "\\begin{align}\n",
    "f^\\prime(x) &= 4x^3 - 4x \\\\\n",
    "\\end{align}"
   ]
  },
  {
   "cell_type": "code",
   "execution_count": 235,
   "metadata": {},
   "outputs": [],
   "source": [
    "derivative = lambda x: 4 * x**3 - 4 * x"
   ]
  },
  {
   "cell_type": "code",
   "execution_count": 237,
   "metadata": {},
   "outputs": [
    {
     "name": "stdout",
     "output_type": "stream",
     "text": [
      "0 x:1.5, y:2.0625, slope:7.5, step:-2.25\n",
      "1 x:-0.75, y:-1.5586, slope:1.3125, step:-0.3937\n",
      "2 x:-1.1438, y:-2.0488, slope:-1.4099, step:0.423\n",
      "3 x:-0.7208, y:-1.49, slope:1.3852, step:-0.4156\n",
      "4 x:-1.1364, y:-2.0515, slope:-1.3242, step:0.3973\n",
      "5 x:-0.7391, y:-1.5332, slope:1.3414, step:-0.4024\n",
      "6 x:-1.1415, y:-2.0497, slope:-1.3839, step:0.4152\n",
      "7 x:-0.7264, y:-1.5032, slope:1.3725, step:-0.4118\n",
      "8 x:-1.1381, y:-2.0509, slope:-1.3444, step:0.4033\n",
      "9 x:-0.7348, y:-1.5231, slope:1.3523, step:-0.4057\n",
      "10 x:-1.1405, y:-2.0501, slope:-1.3716, step:0.4115\n",
      "11 x:-0.729, y:-1.5094, slope:1.3664, step:-0.4099\n",
      "12 x:-1.1389, y:-2.0506, slope:-1.3533, step:0.406\n",
      "13 x:-0.7329, y:-1.5186, slope:1.3569, step:-0.4071\n",
      "14 x:-1.14, y:-2.0503, slope:-1.3658, step:0.4098\n",
      "15 x:-0.7302, y:-1.5123, slope:1.3634, step:-0.409\n",
      "16 x:-1.1392, y:-2.0505, slope:-1.3574, step:0.4072\n",
      "17 x:-0.732, y:-1.5166, slope:1.359, step:-0.4077\n",
      "18 x:-1.1397, y:-2.0503, slope:-1.3632, step:0.4089\n",
      "19 x:-0.7308, y:-1.5137, slope:1.362, step:-0.4086\n"
     ]
    }
   ],
   "source": [
    "x_path, y_path, slope_path, step_path = steepest_gradient_descent(function=f, derivative=derivative, epoch=20, init=1.5,\n",
    "                                                       learning_rate=0.3, verbose=True)"
   ]
  },
  {
   "cell_type": "code",
   "execution_count": 238,
   "metadata": {},
   "outputs": [],
   "source": [
    "x = np.linspace(-10, 5, 100)\n",
    "y = f(x)\n",
    "epoch = 0\n",
    "xp_show = []\n",
    "yp_show = []"
   ]
  },
  {
   "cell_type": "code",
   "execution_count": 243,
   "metadata": {},
   "outputs": [
    {
     "name": "stdout",
     "output_type": "stream",
     "text": [
      "epoch 4\n"
     ]
    },
    {
     "data": {
      "image/png": "[encoded data removed]",
      "text/plain": [
       "<matplotlib.figure.Figure at 0x7f87536ad390>"
      ]
     },
     "metadata": {},
     "output_type": "display_data"
    }
   ],
   "source": [
    "print('epoch {}'.format(epoch))\n",
    "plt.plot(x, y)\n",
    "plt.plot([-10, 5], [0,0], c='red', alpha=.3)\n",
    "plt.plot([0, 0], [-2, 15], c='red', alpha=.3)\n",
    "plt.ylim(-3, 4)\n",
    "plt.xlim(-4, 3)\n",
    "plt.grid()\n",
    "plt.text(-3.2, 2., 'slope: {}'.format(round(slope_path[epoch], 4)))\n",
    "plt.text(-3.2, 1.5, 'step: {}'.format(round(step_path[epoch], 4)))\n",
    "plt.text(-3.2, 1, 'x: {}'.format(round(x_path[epoch], 4)))\n",
    "plt.text(-3.2, 0.5, 'y: {}'.format(round(y_path[epoch], 4)))\n",
    "xp_show.append(x_path[epoch])\n",
    "yp_show.append(y_path[epoch])\n",
    "plt.scatter(xp_show, yp_show)\n",
    "epoch += 1\n",
    "plt.show()"
   ]
  }
 ],
 "metadata": {
  "kernelspec": {
   "display_name": "Python 3",
   "language": "python",
   "name": "python3"
  },
  "language_info": {
   "codemirror_mode": {
    "name": "ipython",
    "version": 3
   },
   "file_extension": ".py",
   "mimetype": "text/x-python",
   "name": "python",
   "nbconvert_exporter": "python",
   "pygments_lexer": "ipython3",
   "version": "3.6.4"
  }
 },
 "nbformat": 4,
 "nbformat_minor": 2
}
