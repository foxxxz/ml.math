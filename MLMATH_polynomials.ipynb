{
 "cells": [
  {
   "cell_type": "code",
   "execution_count": 1,
   "metadata": {},
   "outputs": [],
   "source": [
    "import numpy as np\n",
    "import matplotlib.pylab as plt"
   ]
  },
  {
   "cell_type": "markdown",
   "metadata": {},
   "source": [
    "<br>\n",
    "### 머신 러닝을 처음 접하는 누군가에게"
   ]
  },
  {
   "cell_type": "markdown",
   "metadata": {},
   "source": [
    "<img src=\"./img/sklearn_ridge.png\">\n",
    "<br>\n",
    "### 무심코 열어본 Scikit-Learn 기술 문서는 다음과 같은 절망을 선사합니다\n",
    "\n",
    "1. 단 한 줄의 equation과 한 장의 plot일 뿐인데 무슨 소리인지 이해하려 시도할 수 조차 없다.\n",
    "1. Scikit-Learn > 'Supervised Learning' 챕터의 첫 장 '1.1. Generalized Linear Models'에서 단 한 번의 스크롤을 내렸을 때 이런일이 벌어졌다.\n",
    "1. 스크롤을 내리기 전에는 익숙한 scatter plot을 보며 '나도 머신 러닝을 공부할 수 있을 것 같아!' 라는 잠시 생각이 스쳐갔다\n",
    "http://scikit-learn.org/stable/modules/linear_model.html\n",
    "1. 잘난채 하는 동료나 머신러닝 강사가 했던 말이 떠오른다\n",
    "> \"scikit-learn의 기술 문서는 정말 `친절하게` 잘 쓰여있어요! 역시 교육용으로 만들어진 패키지라 TensorFlow 같은 머신러닝 패키지와는 다르죠\"\n",
    "1. 포기하고 싶다. 내가 할 수 있는 일은 아닌 것 같다."
   ]
  },
  {
   "cell_type": "markdown",
   "metadata": {},
   "source": [
    "<br>\n",
    "### 그런데 정신을 가다듬고 화면을 가만히 보고 있자니\n",
    "\n",
    "1. 아마도 저기에 쓰여진 알 수 글자와 그림은 `머신 러닝`이 `수학` 의 일부라는 것을 의미하고\n",
    "1. 내가 느끼는 이 막막함이 `수학`을 공부함으로써 해결될 수 있을 것이라는 생각에 이른다\n",
    "1. 그런데 도대체 어디서부터 어떻게 얼마나 `어려운 수학`을 공부해야 하는걸까?\n",
    "1. 분명히 어려워 보이긴 하는데 무작정 `고등학교 수학` 자습서를 다시 푼다고 AI 같은걸 만들 수는 없을 것 같다..."
   ]
  },
  {
   "cell_type": "markdown",
   "metadata": {},
   "source": [
    "<br>\n",
    "### 머신 러닝으로 향하는 첫걸음에 이렇게 수학을 떠올린 사람이라면\n",
    "\n",
    "다음과 같은 결론에 이르게 됩니다\n",
    "1. 천리 길도 한 걸음부터!\n",
    "1. 뭐가 뭔진 모르겠지만 `수학`은 `과학의 언어` 라 했다.\n",
    "1. 중고등학교 수학부터 차근차근 섭렵해 나가면 언젠간 머신 러닝도 섭렵하겠지!\n",
    "1. 아마도 아득한 기약 없는 언젠가 :)"
   ]
  },
  {
   "cell_type": "markdown",
   "metadata": {},
   "source": [
    "<br>\n",
    "### 좋은 다짐입니다!\n",
    "\n",
    "그러나 단순히 `수학`이 `과학의 언어` 이기 때문에 공부를 시작한다면 그 과정은 지나치게 고통스럽습니다.  \n",
    "오직 수능 시험을 위해 어디에 쓰일지도 모르는 공식이 담긴 수학 문제집을 일단 풀기부터 했던 지난 날들과 비슷할 지 모르죠.  \n",
    "<p>\n",
    "물론 공학도라면 그게 다 피가 되고 살이 되는 시간이었다는 깨달음을 나중에 알게되지만,  \n",
    "그 깨달음을 조금 더 일찍 얻었더라면 우리의 학창 시절이 조금 덜 고통 스러웠을 탠데...\n",
    "\n",
    "아무튼  \n",
    "천리 길도 한 걸음부터!  "
   ]
  },
  {
   "cell_type": "markdown",
   "metadata": {},
   "source": [
    "<br>\n",
    "### 쉬운 연립 방정식을\n",
    "\n",
    "왕년에 수학 꽤나 했던 머리로 돌아가기 위한 워밍업이라 생각하고 연습장에 풀어봅시다"
   ]
  },
  {
   "cell_type": "markdown",
   "metadata": {},
   "source": [
    "#### Linear Equation"
   ]
  },
  {
   "cell_type": "markdown",
   "metadata": {},
   "source": [
    "\\begin{align}\n",
    "x + 2y &= 4\\\\\n",
    "2x - y &= 3\n",
    "\\end{align}"
   ]
  },
  {
   "cell_type": "markdown",
   "metadata": {},
   "source": [
    "<br>\n",
    "<br>\n",
    "<br>\n",
    "<br>\n",
    "<br>\n",
    "<br>\n",
    "<br>\n",
    "<br>\n",
    "<br>\n",
    "<br>"
   ]
  },
  {
   "cell_type": "markdown",
   "metadata": {},
   "source": [
    "<br>\n",
    "<br>\n",
    "<br>\n",
    "<br>\n",
    "<br>\n",
    "<br>\n",
    "<br>\n",
    "<br>\n",
    "<br>\n",
    "<br>"
   ]
  },
  {
   "cell_type": "markdown",
   "metadata": {},
   "source": [
    "<br>\n",
    "이 정도 연립방정식은 너무 쉽나요? :)  \n",
    "여전히 머신 러닝과는 아득히 멀어보이지만 답이 있는 수학를 풀었을 때의 손맛이 조금씩 살아납니다!"
   ]
  },
  {
   "cell_type": "markdown",
   "metadata": {},
   "source": [
    "\\begin{align}\n",
    "x &= 2\\\\\n",
    "y &= 1\n",
    "\\end{align}"
   ]
  },
  {
   "cell_type": "markdown",
   "metadata": {},
   "source": [
    "<br>\n",
    "<br>\n",
    "<br>\n",
    "<br>\n",
    "<br>\n",
    "<br>\n",
    "<br>\n",
    "<br>\n",
    "<br>\n",
    "<br>"
   ]
  },
  {
   "cell_type": "markdown",
   "metadata": {},
   "source": [
    "<br>\n",
    "### 인수 분해\n",
    "\n",
    "정말 오랜만에 인수분해도 한 번 해보죠   \n",
    "아래의 다항식을 나머지가 0이 되는다른 단항식 혹은 다항식의 곱으로 나타내면 됩니다"
   ]
  },
  {
   "cell_type": "markdown",
   "metadata": {},
   "source": [
    "<br>\n",
    "#### Factoring"
   ]
  },
  {
   "cell_type": "markdown",
   "metadata": {},
   "source": [
    "\\begin{align}\n",
    "x^2 + 7x + 12 &= 0\n",
    "\\end{align}"
   ]
  },
  {
   "cell_type": "markdown",
   "metadata": {},
   "source": [
    "<br>\n",
    "<br>\n",
    "<br>\n",
    "<br>\n",
    "<br>\n",
    "<br>\n",
    "<br>\n",
    "<br>\n",
    "<br>\n",
    "<br>"
   ]
  },
  {
   "cell_type": "markdown",
   "metadata": {},
   "source": [
    "<br>\n",
    "<br>\n",
    "<br>\n",
    "<br>\n",
    "<br>\n",
    "<br>\n",
    "<br>\n",
    "<br>\n",
    "<br>\n",
    "<br>"
   ]
  },
  {
   "cell_type": "markdown",
   "metadata": {},
   "source": [
    "<br>\n",
    "쉽죠?  \n",
    "근의 공식이나 조립 제법을 썼다면 훌륭합니다.  \n",
    "딱 보자마자 아래와 같은 답을 찾았다면 역시 훌륭합니다."
   ]
  },
  {
   "cell_type": "markdown",
   "metadata": {},
   "source": [
    "\\begin{align}\n",
    "(x + 3) (x + 4) = 0\n",
    "\\end{align}"
   ]
  },
  {
   "cell_type": "markdown",
   "metadata": {},
   "source": [
    "<br>\n",
    "### 차수를 하나 높인 인수분해도 해봅시다"
   ]
  },
  {
   "cell_type": "markdown",
   "metadata": {},
   "source": [
    "\\begin{align}\n",
    "x^3 + 2x^2 - 5x - 6 &= 0\n",
    "\\end{align}"
   ]
  },
  {
   "cell_type": "markdown",
   "metadata": {},
   "source": [
    "<br>\n",
    "<br>\n",
    "<br>\n",
    "<br>\n",
    "<br>\n",
    "<br>\n",
    "<br>\n",
    "<br>\n",
    "<br>\n",
    "<br>"
   ]
  },
  {
   "cell_type": "markdown",
   "metadata": {},
   "source": [
    "<br>\n",
    "<br>\n",
    "<br>\n",
    "<br>\n",
    "<br>\n",
    "<br>\n",
    "<br>\n",
    "<br>\n",
    "<br>\n",
    "<br>"
   ]
  },
  {
   "cell_type": "markdown",
   "metadata": {},
   "source": [
    "<br>\n",
    "조금 어렵죠? "
   ]
  },
  {
   "cell_type": "markdown",
   "metadata": {},
   "source": [
    "\\begin{align}\n",
    "(x + 1) (x +3) (x -2) = 0\n",
    "\\end{align}"
   ]
  },
  {
   "cell_type": "markdown",
   "metadata": {},
   "source": [
    "<br>\n",
    "<br>\n",
    "<br>\n",
    "<br>\n",
    "<br>\n",
    "<br>\n",
    "<br>\n",
    "<br>\n",
    "<br>\n",
    "<br>"
   ]
  },
  {
   "cell_type": "markdown",
   "metadata": {},
   "source": [
    "<br>\n",
    "<br>\n",
    "<br>\n",
    "<br>\n",
    "<br>\n",
    "<br>\n",
    "<br>\n",
    "<br>\n",
    "<br>\n",
    "<br>"
   ]
  },
  {
   "cell_type": "markdown",
   "metadata": {},
   "source": [
    "<br>\n",
    "### 차수를 하나만 더 높여서!\n",
    "정답을 못 찾아도 좋습니다. 할 수 있는데 까지 최선을 다해보세요."
   ]
  },
  {
   "cell_type": "markdown",
   "metadata": {},
   "source": [
    "\\begin{align}\n",
    "2x^4 + 5x^3 - 8x^2 - 17x - 6 &= 0\n",
    "\\end{align}"
   ]
  },
  {
   "cell_type": "markdown",
   "metadata": {},
   "source": [
    "<br>\n",
    "<br>\n",
    "<br>\n",
    "<br>\n",
    "<br>\n",
    "<br>\n",
    "<br>\n",
    "<br>\n",
    "<br>\n",
    "<br>"
   ]
  },
  {
   "cell_type": "markdown",
   "metadata": {},
   "source": [
    "<br>\n",
    "<br>\n",
    "<br>\n",
    "<br>\n",
    "<br>\n",
    "<br>\n",
    "<br>\n",
    "<br>\n",
    "<br>\n",
    "<br>"
   ]
  },
  {
   "cell_type": "markdown",
   "metadata": {},
   "source": [
    "<br>\n",
    "문제를 푸셨나요?  \n",
    "못 풀었다고 해도 괜찮습니다. 사실 처음부터 못 풀기를 바라고 만든 문제입니다.  \n",
    "방정식의 차수가 4차 혹은 3차로만 올라가도 공식 없이 인수분해하기 대단히 어렵습니다."
   ]
  },
  {
   "cell_type": "markdown",
   "metadata": {},
   "source": [
    "\\begin{align}\n",
    "(x + 1) (x + 3) (x - 2) (2x + 1) = 0\n",
    "\\end{align}"
   ]
  },
  {
   "cell_type": "markdown",
   "metadata": {},
   "source": [
    "<br>\n",
    "눈치 채셨는지 모르겠지만 위에서 푼 3차식과 4차식은  \n",
    "$(2x + 1)$ 이라는 인수가 있고 없고의 차이일 뿐입니다"
   ]
  },
  {
   "cell_type": "markdown",
   "metadata": {},
   "source": [
    "\\begin{align}\n",
    "(x + 1) (x +3) (x -2) \\\\ \n",
    "= x^3 + 2x^2 - 5x - 6 \\\\\n",
    "\\\\\n",
    "(x + 1) (x + 3) (x - 2) (2x + 1) \\\\ \n",
    "= 2x^4 + 5x^3 - 8x^2 - 17x - 6 \\\\\n",
    "\\end{align}"
   ]
  },
  {
   "cell_type": "markdown",
   "metadata": {},
   "source": [
    "<br>\n",
    "문제의 난이도를 꽤나 높이기 위해서는 오직 다항식 하나를 더 곱하면 되지만,  \n",
    "내가 마주한 방정식이 원래 어떤 `인자(Factor)` 들로 이루어져 있었는지 거꾸로 찾아내는 것은 원래 어려운 일입니다.  \n",
    "제 아무리 `답이 있는 문제`라 하더라도 100차원 방정식의 인수분해 문제를 직접 풀려면 얼마나 많은 `시행착오`를 겪어야 할까요?"
   ]
  },
  {
   "cell_type": "markdown",
   "metadata": {},
   "source": [
    "<br>\n",
    "갑자기 문제가 너무 어려워졌으니까 일단 익숙한 2차 방정식의 인수분해 문제로 돌아와 봅시다.  \n",
    "이건 해볼만 한가요?"
   ]
  },
  {
   "cell_type": "markdown",
   "metadata": {},
   "source": [
    "<center>How is this?</center>\n",
    "\\begin{align}\n",
    "x^2 - 2x + 3 &= 0\n",
    "\\end{align}"
   ]
  },
  {
   "cell_type": "markdown",
   "metadata": {},
   "source": [
    "<br>\n",
    "<br>\n",
    "<br>\n",
    "<br>\n",
    "<br>\n",
    "<br>\n",
    "<br>\n",
    "<br>\n",
    "<br>\n",
    "<br>"
   ]
  },
  {
   "cell_type": "markdown",
   "metadata": {},
   "source": [
    "<br>\n",
    "<br>\n",
    "<br>\n",
    "<br>\n",
    "<br>\n",
    "<br>\n",
    "<br>\n",
    "<br>\n",
    "<br>\n",
    "<br>"
   ]
  },
  {
   "cell_type": "markdown",
   "metadata": {},
   "source": [
    "<br>\n",
    "갑자기 문제가 안풀린다면 지극히 정상입니다.  \n",
    "오랜만에 수학을 하려니 머리가 안돌아간다기 보다는 함수의 그래프에 대한 기억이 살아나지 않아서일 겁니다.  \n",
    "여전히 근의 공식이나 이차 방정식의 판별식을 기억하고 계시는 분이라면 아마 이게 무슨 상황인지 바로 아시겠죠.\n"
   ]
  },
  {
   "cell_type": "markdown",
   "metadata": {},
   "source": [
    "<br>\n",
    "<center>2차 방정식이 실수인 근를 가질 판별식의 조건</center>\n",
    "\\begin{align}\n",
    "y = ax^2 + bx + c, \\\\\n",
    "b^2 - 4ac \\geq 0 \\\\\n",
    "\\end{align}\n",
    "<br>"
   ]
  },
  {
   "cell_type": "code",
   "execution_count": 2,
   "metadata": {
    "scrolled": true
   },
   "outputs": [
    {
     "data": {
      "image/png": "[encoded data removed]",
      "text/plain": [
       "<matplotlib.figure.Figure at 0x7f6196068f98>"
      ]
     },
     "metadata": {},
     "output_type": "display_data"
    }
   ],
   "source": [
    "f = lambda x: x**2 + (-2.0 * x) + 3.0\n",
    "x = np.linspace(-10, 5, 30)\n",
    "y = f(x)\n",
    "plt.plot(x, y)\n",
    "plt.plot([-10, 5], [0,0], c='red', alpha=.3)\n",
    "plt.plot([0, 0], [-2, 15], c='red', alpha=.3)\n",
    "plt.ylim(-2, 15)\n",
    "plt.grid()\n",
    "plt.show()"
   ]
  },
  {
   "cell_type": "markdown",
   "metadata": {},
   "source": [
    "<br>\n",
    "주어진 식을 함수로 변환해 2차원 평면상에 나타내면 위와 같습니다.  \n",
    "포물선을 그리는 2차원 함수가 x 축과 만나는 점이 없기 때문에 실수 공간에서 방정식의 x 해는 구할 수 없습니다.  \n",
    "Complex Number(복소수) 까지 확장하면 답을 수할 수 있지만 우선 논외로 하고,\n",
    "  \n",
    "그러니까 처음부터 실수 공간에서 답이 없는 문제를 풀고자 했던 거죠\n",
    "  \n",
    "해의 범위가 `실수 공간` 으로 제한되어 있다면  \n",
    "`해가 없다` 로 답하면 그만입니다."
   ]
  },
  {
   "cell_type": "markdown",
   "metadata": {},
   "source": [
    "<br>\n",
    "### 그럼 그렇지"
   ]
  },
  {
   "cell_type": "markdown",
   "metadata": {},
   "source": [
    "우리가 수학과 이별하는 익숙한 지점입니다.  \n",
    "그저 단순하게 생긴 이차방정식일 뿐이었는데 이렇게 쉽게 `답이 없다` 니...  \n",
    "\n",
    "도저히 이런 도구로는 실제 세상의 문제를 풀어내지 못할 것 같습니다.  \n",
    "학교를 벗어나면 사람의 `논리`나 `직관`, `철학`과 `규범`이 내 삶을 지탱하는 유용한 도구이며,  \n",
    "수학은 그저 특수한 사람들이 내 삶과는 멀리 떨어진 특수한 환경에서 언제나 답이 있는 연립방정식 같은 걸 풀 때나 사용 되는 것이라고 믿게됩니다.  \n",
    "  \n",
    "사칙 연산 정도만 잘 할 수 있어도 직장과 사회에서 훌륭한 커리어를 쌓아가고 있으며,  \n",
    "수학이 풀 수 있는 문제가 대단히 제한적이라는 것은 역시 맞는 말 처럼 들립니다."
   ]
  },
  {
   "cell_type": "markdown",
   "metadata": {},
   "source": [
    "<br>\n",
    "맞는 말입니다."
   ]
  },
  {
   "cell_type": "markdown",
   "metadata": {},
   "source": [
    "<br>\n",
    "학교 다닐때 처럼 다른 사람이 내준 문제를 그대로 풀기만 한다면  \n",
    "이것은 맞는 말입니다."
   ]
  },
  {
   "cell_type": "markdown",
   "metadata": {},
   "source": [
    "<br>\n",
    "하지만  \n",
    "수학의 엄밀함을 조금 벗어나서 우리 마음대로 문제를 다시 정의해보면 어떨까요?  \n",
    "더 이상 선생님도 없고, 시험도 없는데 뭐 어떻습니까!   \n",
    "제 관심사는 오직 `어떻게든 문제를 푸는 것` 입니다.    \n",
    "\n",
    "<br>\n",
    "문제집을 버림으로써 우리의 현실적인 목표에 조금 더 가까이 다가갈 수 있을지 모릅니다 :)"
   ]
  },
  {
   "cell_type": "markdown",
   "metadata": {},
   "source": [
    "<br>\n",
    "<br>\n",
    "<br>\n",
    "### 조금 더 느슨하게\n",
    "인수분해(`Factoring`)를 제 맘대로 정의해보겠습니다.  \n",
    "약간 멋지게 문제를 설계(`Design`) 한다고 말해도 좋겠네요.  \n",
    "캬... `Design`..."
   ]
  },
  {
   "cell_type": "markdown",
   "metadata": {},
   "source": [
    "<br>\n",
    "<br>\n",
    "<br>\n",
    "**Factoring**  \n",
    "designed by rok"
   ]
  },
  {
   "cell_type": "markdown",
   "metadata": {},
   "source": [
    "<br>\n",
    "\\begin{align}\n",
    "\\lambda = any \\,polinomials \\\\\n",
    "loss = |\\; \\lambda mod(Q(x)R(x)...) \\;| \\\\\n",
    "\\end{align}\n",
    "\\begin{align}\n",
    "f(\\lambda) &= \\min(loss) \\\\\n",
    "\\end{align}"
   ]
  },
  {
   "cell_type": "markdown",
   "metadata": {},
   "source": [
    "그럴싸하죠?  \n",
    "마치 Scikit-Learn Document의 한 장면 같습니다.  \n",
    "<br>\n",
    "괜히 어려워 보이는 척 했지만 문제 정의는 간단합니다.  \n",
    "- 임의의 다항식 $\\lambda$ 를  \n",
    "- 다른 임의의 다항식 들의 곱으로 나누었을 때의 나머지 $mod(Q(x)R(x)...)$\n",
    "- 의 절댓값 |   | 을 최소화 한다  \n",
    "\n",
    "제가 정의한 문제가 이해 되셨나요?  아래 예시롤 보시죠"
   ]
  },
  {
   "cell_type": "markdown",
   "metadata": {},
   "source": [
    "\\begin{align}\n",
    "x^2 + 7x + 12 &= (x + 3) (x + 4) + |0|\n",
    "\\end{align}"
   ]
  },
  {
   "cell_type": "markdown",
   "metadata": {},
   "source": [
    "처음으로 풀었던 인수분해 문제는\n",
    "$x^2 + 7x + 12 $ 나누었을 때 나머지가 0이 되는 다른 다항식들의 곱을 찾는 것이었습니다.  \n",
    "  \n",
    "처음부터 나머지가 0인 답을 찾으라고 해서 찾긴 했지만  \n",
    "나머지의 절댓값이 최소화되는 다항식들의 곱을 찾으라고 문제를 냈어도 답은 같습니다\n",
    "\n",
    "아래와 같은 풀이도 가능하지만 우리가 찾는 답은 아닙니다.  \n",
    "왜냐하면 나머지의 절댓값을 0으로 만드는 더 좋은 답이 존재하기 때문이죠!"
   ]
  },
  {
   "cell_type": "markdown",
   "metadata": {},
   "source": [
    "\\begin{align}\n",
    "x^2 + 7x + 12 \\\\\n",
    "= x(x + 7) + |12| \\\\\n",
    "= (x + 2)(x + 5) + |2| \\\\\n",
    "\\end{align}\n",
    "<p>"
   ]
  },
  {
   "cell_type": "markdown",
   "metadata": {},
   "source": [
    "문제를 이렇게 정의하면 실수 공간에서 $f(\\lambda) \\neq 0$ 인 문제를 만났을 때도 답을 향해 나아갈 수 있습니다.  \n",
    "실수 공간에서 `답이 없다` 는 결론을 내렸던 식을 다시 보죠"
   ]
  },
  {
   "cell_type": "markdown",
   "metadata": {},
   "source": [
    "\\begin{align}\n",
    "x^2 - 2x + 3 \\\\\n",
    "= x(x - 2) + |3| \\\\\n",
    "= (x - 1)^2 + |2| \\\\\n",
    "\\end{align}\n",
    "<p>\n",
    "<center>which is better?</center>"
   ]
  },
  {
   "cell_type": "markdown",
   "metadata": {},
   "source": [
    "어떤가요?  \n",
    "여전히 `답이 없다`는 결론을 쉽게 내릴 수 있나요?  \n",
    "두 가지 다른 풀이 중  `가장 좋은 답` 이 있는지는 아직 확신할 수 없지만  \n",
    "우리가 정의한 오차 $loss$(나머지의 절댓값) 이 더 작은 두 번째 풀이가  \n",
    "첫 번째 풀이보다 `더 좋은 답` 인 것은 확실해 보입니다  \n",
    "\n",
    "수학 문제집에서 정의한 인수분해의 정의를 벗어나니  \n",
    "`더 좋은 답` 을 `탐색` 할 수 있는 길이 열렸습니다!  \n",
    "\n",
    "내가 풀고자 하는 문제의 나머지가 반드시 0일 필요가 없다면 말이죠"
   ]
  },
  {
   "cell_type": "markdown",
   "metadata": {},
   "source": [
    "<br>\n",
    "<br>\n",
    "<br>\n",
    "### 같은 문제 해결 전략을 데이터에 적용해 보겠습니다\n",
    "2년 2개월 간\n",
    "제 아이폰6s에 기록된 소개팅 기록을 수집했습니다.  \n",
    "제가 한 소개팅, 주선한 소개팅을 다 합해서 10건의 자료를 모았습니다"
   ]
  },
  {
   "cell_type": "code",
   "execution_count": 3,
   "metadata": {},
   "outputs": [],
   "source": [
    "x = np.array([26, 25, 29, 30, 26, 35, 31, 28, 26, 30])\n",
    "y = np.array([32, 28, 29, 29, 27, 38, 31, 33, 28, 32])"
   ]
  },
  {
   "cell_type": "code",
   "execution_count": 4,
   "metadata": {},
   "outputs": [
    {
     "data": {
      "image/png": "[encoded data removed]",
      "text/plain": [
       "<matplotlib.figure.Figure at 0x7f6196068668>"
      ]
     },
     "metadata": {},
     "output_type": "display_data"
    }
   ],
   "source": [
    "plt.scatter(x, y)\n",
    "plt.xlim(20, 40)\n",
    "plt.ylim(20, 40)\n",
    "plt.xlabel('Female')\n",
    "plt.ylabel('Male')\n",
    "plt.grid()\n",
    "plt.show()"
   ]
  },
  {
   "cell_type": "markdown",
   "metadata": {},
   "source": [
    "- x 축은 소개팅 시점의 여성의 한국 나이\n",
    "- y 축은 소개팅 시점의 남성의 한국 나이\n",
    "- 소개팅에 나가서 서로 \"나이가 어떻게 되세요?\" 묻는 순간 (x, y) 좌표가 찍히겠네요"
   ]
  },
  {
   "cell_type": "markdown",
   "metadata": {},
   "source": [
    "\"외롭다 친구야... 소개팅 좀 시켜줘!\"  \n",
    "라고 말하면 제 머릿속에는 남녀 나이의 적당한 조합이 떠오릅니다.  \n",
    "터무니 없이 나이 차이가 많이 나는 두 사람을 만나게 하지는 않거든요    \n",
    "저는 제 머릿속에 있는 직관을 2년 2개월간 수집한 10건의 데이터를 활용해서  \n",
    "모델링 하고 싶습니다."
   ]
  },
  {
   "cell_type": "markdown",
   "metadata": {},
   "source": [
    "\\begin{align}\n",
    "f(x) = ax + b &= \\hat{y}\n",
    "\\end{align}\n",
    "<br>\n",
    "<br>"
   ]
  },
  {
   "cell_type": "markdown",
   "metadata": {},
   "source": [
    "간단하게 1차 함수로 문제를 풀어 보겠습니다.  \n",
    "$f(x)$ 의 반환 값은 입력 값 소개팅 여성의 나이에 대한 소개팅 남성의 나이가 되겠습니다"
   ]
  },
  {
   "cell_type": "markdown",
   "metadata": {},
   "source": [
    "<br>\n",
    "인수 분해 문제를 다시 정의했던 것 처럼 우선 `오차`가 무엇인지 정해야겠습니다.  \n",
    "이번에는 `실제 남성의 나이`($y$)와 `예측한 남성의 나이`($\\hat{y}$) 의 편차 제곱 합을\n",
    "오차로 정의해 보죠"
   ]
  },
  {
   "cell_type": "markdown",
   "metadata": {},
   "source": [
    "\\begin{equation}\n",
    "loss = \\sum_{i=1}^{n}(\\hat{y_i} - y_i)^2\n",
    "\\end{equation}"
   ]
  },
  {
   "cell_type": "markdown",
   "metadata": {},
   "source": [
    "<br>\n",
    "$f(x)$와 $loss$를 합쳐서 최종적으로 만든 문제는 아래와 같습니다  \n",
    "거창하게 Scikit-learn 처럼 거창하게 `Linear Regression` 이라는 이름을 붙일 수도 있지만  \n",
    "조금 전에 해봤던 `내맘대로 인수분해` 문제와 전혀 다를 것이 없어보입니다  "
   ]
  },
  {
   "cell_type": "markdown",
   "metadata": {},
   "source": [
    "\\begin{equation}\n",
    "f(x, y) = \\min_{a,b} \\sum_{i=1}^{n}(ax_i+b - y_i)^2\n",
    "\\end{equation}"
   ]
  },
  {
   "cell_type": "markdown",
   "metadata": {},
   "source": [
    "1. 오차를 정의하고\n",
    "1. 최소화 한다\n",
    "<br>\n",
    "<br>\n",
    "<br>"
   ]
  },
  {
   "cell_type": "markdown",
   "metadata": {},
   "source": [
    "손으로 풀기 싫으니까 산수를 대신해 줄 간단한 계산기를 만들고"
   ]
  },
  {
   "cell_type": "code",
   "execution_count": 5,
   "metadata": {},
   "outputs": [],
   "source": [
    "def opt(a, b):\n",
    "    a = a\n",
    "    b = b\n",
    "    f = lambda x: a * x + b\n",
    "    x_space = np.linspace(-20, 100, 200)\n",
    "    y_space = f(x_space)\n",
    "    y_pred = f(x)\n",
    "    errors = y - y_pred\n",
    "    energy = np.sum(np.square(errors))\n",
    "    return x_space, y_space, y_pred, errors, energy"
   ]
  },
  {
   "cell_type": "markdown",
   "metadata": {},
   "source": [
    "<br>\n",
    "<br>\n",
    "### 눈으로 봤을 때 가장 그럴싸해 보이는 \n",
    "선을 하나 그어봤습니다.\n",
    "좌표 평면상에 적절한 두 점을 정하고 그 두 점을 지나는 직선을 그었더니  \n",
    "우선 나쁘지 않아 보입니다. 10개의 샘플과의 오차를 꽤나 잘 줄이는 직선 같아 보이네요"
   ]
  },
  {
   "cell_type": "code",
   "execution_count": 6,
   "metadata": {},
   "outputs": [],
   "source": [
    "loc_x = np.array([25.0, 35.5])\n",
    "loc_y = np.array([26.0, 37.5])\n",
    "delta = (loc_x[1] - loc_x[0], loc_y[1] - loc_y[0])\n",
    "a = delta[1] / delta[0]\n",
    "b = loc_y[0] - loc_x[0] * a\n",
    "res1 = opt(a, b)"
   ]
  },
  {
   "cell_type": "code",
   "execution_count": 7,
   "metadata": {
    "scrolled": false
   },
   "outputs": [
    {
     "data": {
      "image/png": "[encoded data removed]",
      "text/plain": [
       "<matplotlib.figure.Figure at 0x7f618da46320>"
      ]
     },
     "metadata": {},
     "output_type": "display_data"
    }
   ],
   "source": [
    "plt.scatter(x, y)\n",
    "plt.xlabel('Female')\n",
    "plt.ylabel('Male')\n",
    "plt.xlim(20, 40)\n",
    "plt.ylim(20, 40)\n",
    "plt.grid()\n",
    "plt.scatter(loc_x, loc_y)\n",
    "plt.plot(res1[0], res1[1], c='orange', label='try1')\n",
    "plt.show()"
   ]
  },
  {
   "cell_type": "markdown",
   "metadata": {},
   "source": [
    "<br>\n",
    "<br>\n",
    "<br>\n",
    "<center>이 직선의 함수는 다음과 같습니다</center>\n",
    "\n",
    "\\begin{equation}\n",
    "\\hat{y} = 1.095x -1.380 \\\\\n",
    "\\end{equation}"
   ]
  },
  {
   "cell_type": "markdown",
   "metadata": {},
   "source": [
    "<br>\n",
    "<br>\n",
    "### 그동안 소개팅 경험을 살려보면  \n",
    "남자가 여자보다 한 3, 4살 정도는 더 많았던 것 같은데  \n",
    "이런 직관으로 선을 그어보면 어떨까요??"
   ]
  },
  {
   "cell_type": "markdown",
   "metadata": {},
   "source": [
    "<br>\n",
    "<br>\n",
    "<br>\n",
    "<center>소개팅 남자의 나이는 여자의 나이보다 3.5세 더 많다</center>\n",
    "\n",
    "\\begin{equation}\n",
    "\\hat{y} = x + 3.5 \\\\\n",
    "\\end{equation}"
   ]
  },
  {
   "cell_type": "code",
   "execution_count": 8,
   "metadata": {},
   "outputs": [],
   "source": [
    "a = 1\n",
    "b = 3.5\n",
    "res2 = opt(a, b)"
   ]
  },
  {
   "cell_type": "code",
   "execution_count": 9,
   "metadata": {},
   "outputs": [
    {
     "data": {
      "image/png": "[encoded data removed]",
      "text/plain": [
       "<matplotlib.figure.Figure at 0x7f618d98eb38>"
      ]
     },
     "metadata": {},
     "output_type": "display_data"
    }
   ],
   "source": [
    "plt.scatter(x, y)\n",
    "plt.xlim(20, 40)\n",
    "plt.ylim(20, 40)\n",
    "plt.xlabel('Female')\n",
    "plt.ylabel('Male')\n",
    "plt.grid()\n",
    "plt.scatter(loc_x, loc_y)\n",
    "plt.plot(res1[0], res1[1], c='orange', label='try1')\n",
    "plt.plot(res2[0], res2[1], c='green', label='try2')\n",
    "plt.legend()\n",
    "plt.show()"
   ]
  },
  {
   "cell_type": "markdown",
   "metadata": {},
   "source": [
    "첫번 째 시도와 두 번째 시도 모두 눈으로 보기에는 그럴싸해 보입니다.  \n",
    "그러면 어떤 시도를 더 좋은 답이라고 할 수 있을까요?  "
   ]
  },
  {
   "cell_type": "markdown",
   "metadata": {},
   "source": [
    "`내 멋대로 인수분해` 문제를 떠올려 보면 쉽습니다.  "
   ]
  },
  {
   "cell_type": "markdown",
   "metadata": {},
   "source": [
    "\\begin{align}\n",
    "x^2 - 2x + 3 \\\\\n",
    "= x(x - 2) + |3| \\\\\n",
    "= (x - 1)^2 + |2| \\\\\n",
    "\\end{align}\n",
    "<p>\n",
    "<center>which is better?</center>"
   ]
  },
  {
   "cell_type": "markdown",
   "metadata": {},
   "source": [
    "`오차(loss)` 가 작은 풀이가 더 좋은 답이죠!  \n",
    "물론 오차가 반드시 0일 필요는 없습니다.\n",
    "<br>\n",
    "<br>"
   ]
  },
  {
   "cell_type": "markdown",
   "metadata": {},
   "source": [
    "이렇게 미리 정의한 오차를 계산해보면"
   ]
  },
  {
   "cell_type": "markdown",
   "metadata": {},
   "source": [
    "\\begin{equation}\n",
    "loss = \\sum_{i=1}^{n}(\\hat{y_i} - y_i)^2\n",
    "\\end{equation}"
   ]
  },
  {
   "cell_type": "code",
   "execution_count": 10,
   "metadata": {
    "scrolled": true
   },
   "outputs": [
    {
     "name": "stdout",
     "output_type": "stream",
     "text": [
      "try1 error: 55.0\n",
      "try2 error: 64.5\n"
     ]
    }
   ],
   "source": [
    "print('try1 error: {}'.format(round(res1[-1]), 3))\n",
    "print('try2 error: {}'.format(res2[-1]))"
   ]
  },
  {
   "cell_type": "markdown",
   "metadata": {},
   "source": [
    "<br>\n",
    "처음 만들었던 모델의 오차가 더 작습니다.  \n",
    "즉, 주황색 직선이 초록색 직선보다 더 좋은 답 입니다.  \n",
    "오차가 0일 필요 없다고 생각하니 소개팅 남녀의 나이 조합을 맞추는 꽤 그럴싸한  \n",
    "선형 회귀 모델이 만들어졌네요!"
   ]
  },
  {
   "cell_type": "markdown",
   "metadata": {},
   "source": [
    "<br>\n",
    "### 하지만 이게 정말 최선의 답일까요?  \n",
    "아직은 고작 두 번의 시도를 해봤을 뿐입니다.  \n",
    "직선을 조금 더 그어보면 지금보다 더 작은 오차를 만드는 답도 찾을 수 있을 것 같습니다.  \n",
    "그러면 얼마나 더 많은 시도를 해봐야 하는 걸까요? \n",
    "\n",
    "이 답에 대한 다양한 해답을 공부하는 것이 머신러닝 알고리즘이라고 생각해도 좋겠네요 :)  \n",
    "\n",
    "이 질문에 하나의 답이 있는 것은 아니지만.  \n",
    "납득할만한 답을 하려면 수학 공부를 아주 조금만 더 하면 됩니다!   "
   ]
  },
  {
   "cell_type": "markdown",
   "metadata": {},
   "source": [
    "<br>\n",
    "스터디 마지막 진도인 `다변수 미적분`까지 공부하고 나면  \n",
    "Python 코드로 다음 같은 최적화 알고리즘을 간단하게 작성할 수 있을 겁니다."
   ]
  },
  {
   "cell_type": "markdown",
   "metadata": {},
   "source": [
    "<br>\n",
    "#### Steepest Gradient Descent"
   ]
  },
  {
   "cell_type": "code",
   "execution_count": 11,
   "metadata": {},
   "outputs": [],
   "source": [
    "def steepest_gradient_descent(loss_f, gradx_f, grady_f, prams, MaxIter=100, learning_rate=1e-1):\n",
    "    prams_path = [prams]\n",
    "    loss_path = [loss_f(prams[0], prams[1])]\n",
    "    for i in range(MaxIter):\n",
    "        grad = np.array([gradx_f(*prams), grady_f(*prams)])\n",
    "        loss = loss_f(*prams)\n",
    "        loss_path.append(loss)\n",
    "        prams = prams - learning_rate * grad\n",
    "        prams_path.append(prams)\n",
    "    return(prams, loss, prams_path, loss_path)"
   ]
  },
  {
   "cell_type": "code",
   "execution_count": 12,
   "metadata": {},
   "outputs": [],
   "source": [
    "def loss_f(a, b):\n",
    "    return np.sum((a * x + b - y) ** 2)\n",
    "def grad_a(a,b):\n",
    "    return np.sum(2 * x * (a * x + b - y))\n",
    "def grad_b(a,b):\n",
    "    return np.sum(2 * (a * x + b - y))"
   ]
  },
  {
   "cell_type": "code",
   "execution_count": 13,
   "metadata": {},
   "outputs": [],
   "source": [
    "a = 2\n",
    "b = 5.0\n",
    "prams, loss, prams_paths, loss_path = steepest_gradient_descent(loss_f, grad_a, grad_b, prams=[a, b], MaxIter=1000, learning_rate=1e-6)"
   ]
  },
  {
   "cell_type": "code",
   "execution_count": 14,
   "metadata": {
    "scrolled": false
   },
   "outputs": [
    {
     "data": {
      "image/png": "[encoded data removed]",
      "text/plain": [
       "<matplotlib.figure.Figure at 0x7f618d998be0>"
      ]
     },
     "metadata": {},
     "output_type": "display_data"
    }
   ],
   "source": [
    "plt.scatter(x, y)\n",
    "a = prams[0]\n",
    "b = prams[1]\n",
    "f = lambda x: a * x + b\n",
    "x_space = np.linspace(-20, 100, 200)\n",
    "y_space = f(x_space)\n",
    "plt.plot(x_space, y_space, c='r', alpha=.4)\n",
    "plt.xlim(20, 40)\n",
    "plt.ylim(20, 40)\n",
    "plt.xlabel('Female')\n",
    "plt.ylabel('Male')\n",
    "plt.show()"
   ]
  },
  {
   "cell_type": "markdown",
   "metadata": {},
   "source": [
    "<br>\n",
    "<br>\n",
    "<br>\n",
    "<center>간단한 최적화 함수가 찾은 답은 다음과 같습니다</center>\n",
    "\n",
    "\\begin{equation}\n",
    "\\hat{y} = 0.898x + 4.962 \\\\\n",
    "\\end{equation}"
   ]
  },
  {
   "cell_type": "code",
   "execution_count": 15,
   "metadata": {
    "scrolled": true
   },
   "outputs": [
    {
     "name": "stdout",
     "output_type": "stream",
     "text": [
      "opt error: 42.0\n"
     ]
    }
   ],
   "source": [
    "print('opt error: {}'.format(round(loss), 3))"
   ]
  },
  {
   "cell_type": "markdown",
   "metadata": {},
   "source": [
    "여전히 최선의 답인지는 알 수 없지만 이전 두 번의 시도보다는 더 낮은 오차를 보이는 식이네요  \n",
    "방금 간단히 `Training` 시킨 `Machine` 은 이제 데이터로 확인할 수 있는 최선에 가까운 오차로  \n",
    "소개팅 남녀의 적절한 나이 조합을 쉴세 없이 찾을 수 있습니다."
   ]
  },
  {
   "cell_type": "markdown",
   "metadata": {},
   "source": [
    "모든 경우의 수를 다 해보는 대신 오차 함수의 미분 값을 기준으로  \n",
    "최소 오차 지점을 탐색해가는 Steepest Gradient Descent Method를 사용해보았는데"
   ]
  },
  {
   "cell_type": "code",
   "execution_count": 16,
   "metadata": {
    "scrolled": false
   },
   "outputs": [
    {
     "data": {
      "image/png": "[encoded data removed]",
      "text/plain": [
       "<matplotlib.figure.Figure at 0x7f618d92a828>"
      ]
     },
     "metadata": {},
     "output_type": "display_data"
    }
   ],
   "source": [
    "plt.plot(loss_path)\n",
    "plt.show()"
   ]
  },
  {
   "cell_type": "markdown",
   "metadata": {},
   "source": [
    "이렇게 오차가 줄어 들었군요!"
   ]
  },
  {
   "cell_type": "markdown",
   "metadata": {},
   "source": [
    "<br>\n",
    "<br>\n",
    "### 잠깐...\n",
    "\"인수 분해도 좋고 소개팅 얘기 꺼낼때 까지는 좋았는데 갑자기 뭔 소린지 모르겠다...\"  \n",
    "  \n",
    "이해합니다.  \n",
    "  \n",
    "하지만 \n",
    "연립 방정식과 인수 분해 정도로 Steepest Gradient Descent 알고리즘의 코앞까지 잘 따라 오셨다면  \n",
    "이 스터디가 끝날 때 쯤엔 이 정도 알고리즘은 충분히 구현할 수 있겠네요!\n",
    "\n",
    "다음 스터디엔 조금 더 재미있는 얘기를 해보도록 하겠습니다 :)"
   ]
  }
 ],
 "metadata": {
  "kernelspec": {
   "display_name": "Python 3",
   "language": "python",
   "name": "python3"
  },
  "language_info": {
   "codemirror_mode": {
    "name": "ipython",
    "version": 3
   },
   "file_extension": ".py",
   "mimetype": "text/x-python",
   "name": "python",
   "nbconvert_exporter": "python",
   "pygments_lexer": "ipython3",
   "version": "3.6.4"
  }
 },
 "nbformat": 4,
 "nbformat_minor": 2
}
